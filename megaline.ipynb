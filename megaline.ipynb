{
 "cells": [
  {
   "cell_type": "markdown",
   "id": "0fc60a16-20db-4322-b209-37242ef27075",
   "metadata": {},
   "source": [
    "### В вашем распоряжении данные 500 пользователей «Мегалайна»: кто они, откуда, каким тарифом пользуются, сколько звонков и сообщений каждый отправил за 2018 год. Нужно проанализировать поведение клиентов и сделать вывод — какой тариф лучше.<a id=\"description\"></a>"
   ]
  },
  {
   "cell_type": "markdown",
   "id": "1a6063df-34aa-4285-a652-bfe82d20c610",
   "metadata": {},
   "source": [
    "1. [Откройте файл с данными и изучите общую информацию](#step_1)\n",
    "2. [Подготовьте данные](#step_2)\n",
    "3. [Проанализируйте данные](#step_3)\n",
    "4. [Проверьте гипотезы](#step_4)\n",
    "5. [Напишите общий вывод](#step_5)"
   ]
  },
  {
   "cell_type": "markdown",
   "id": "c4893532-d644-4286-8564-56c1b99e38a8",
   "metadata": {},
   "source": [
    "### Описание тарифов:<a id='step_1'></a>"
   ]
  },
  {
   "cell_type": "markdown",
   "id": "c06d94ed-8485-44d7-9bb8-9589d1feda7c",
   "metadata": {},
   "source": [
    "#### Тариф «Смарт»\n",
    "- Ежемесячная плата: 550 рублей\n",
    "- Включено 500 минут разговора, 50 сообщений и 15 Гб интернет-трафика\n",
    "- Стоимость услуг сверх тарифного пакета:\n",
    "- минута разговора: 3 рубля\n",
    "- сообщение: 3 рубля\n",
    "- 1 Гб интернет-трафика: 200 рублей"
   ]
  },
  {
   "cell_type": "markdown",
   "id": "2c1dd898-a289-4b97-a7c5-d57c6f28bc12",
   "metadata": {},
   "source": [
    "#### Тариф «Ультра»\n",
    "- Ежемесячная плата: 1950 рублей\n",
    "- Включено 3000 минут разговора, 1000 сообщений и 30 Гб интернет-трафика\n",
    "- Стоимость услуг сверх тарифного пакета:\n",
    "- минута разговора: 1 рубль\n",
    "- сообщение: 1 рубль\n",
    "- 1 Гб интернет-трафика: 150 рублей"
   ]
  },
  {
   "cell_type": "markdown",
   "id": "f6ec7eae-c050-4e90-9990-3d671463aec0",
   "metadata": {},
   "source": [
    "#### Примечание \n",
    "- «Мегалайн» всегда округляет секунды до минут, а мегабайты — до гигабайт. Каждый звонок округляется отдельно: даже если он длился всего 1 секунду, будет засчитан как 1 минута.\n",
    "- Для веб-трафика отдельные сессии не считаются. Вместо этого общая сумма за месяц округляется в бо́льшую сторону. Если абонент использует 1025 мегабайт в этом месяце, с него возьмут плату за 2 гигабайта.\n",
    "- Примите, что неиспользованные за предыдущий месяц звонки, смс, интернет на следующий месяц не переносятся.\n",
    "\n",
    "---"
   ]
  },
  {
   "cell_type": "code",
   "execution_count": 1,
   "id": "84824bac-549b-4249-b47b-fe1c674bd0f9",
   "metadata": {},
   "outputs": [],
   "source": [
    "import pandas as pd\n",
    "import math\n",
    "import numpy as np\n",
    "import matplotlib.pyplot as plt\n",
    "from scipy import stats\n",
    "import seaborn as sns"
   ]
  },
  {
   "cell_type": "code",
   "execution_count": 2,
   "id": "50de3116-58bc-411f-bbfe-2db0a5f0f8a3",
   "metadata": {},
   "outputs": [
    {
     "data": {
      "text/html": [
       "<div>\n",
       "<style scoped>\n",
       "    .dataframe tbody tr th:only-of-type {\n",
       "        vertical-align: middle;\n",
       "    }\n",
       "\n",
       "    .dataframe tbody tr th {\n",
       "        vertical-align: top;\n",
       "    }\n",
       "\n",
       "    .dataframe thead th {\n",
       "        text-align: right;\n",
       "    }\n",
       "</style>\n",
       "<table border=\"1\" class=\"dataframe\">\n",
       "  <thead>\n",
       "    <tr style=\"text-align: right;\">\n",
       "      <th></th>\n",
       "      <th>user_id</th>\n",
       "      <th>age</th>\n",
       "      <th>churn_date</th>\n",
       "      <th>city</th>\n",
       "      <th>first_name</th>\n",
       "      <th>last_name</th>\n",
       "      <th>reg_date</th>\n",
       "      <th>tariff</th>\n",
       "    </tr>\n",
       "  </thead>\n",
       "  <tbody>\n",
       "    <tr>\n",
       "      <th>0</th>\n",
       "      <td>1000</td>\n",
       "      <td>52</td>\n",
       "      <td>NaN</td>\n",
       "      <td>Краснодар</td>\n",
       "      <td>Рафаил</td>\n",
       "      <td>Верещагин</td>\n",
       "      <td>2018-05-25</td>\n",
       "      <td>ultra</td>\n",
       "    </tr>\n",
       "    <tr>\n",
       "      <th>1</th>\n",
       "      <td>1001</td>\n",
       "      <td>41</td>\n",
       "      <td>NaN</td>\n",
       "      <td>Москва</td>\n",
       "      <td>Иван</td>\n",
       "      <td>Ежов</td>\n",
       "      <td>2018-11-01</td>\n",
       "      <td>smart</td>\n",
       "    </tr>\n",
       "    <tr>\n",
       "      <th>2</th>\n",
       "      <td>1002</td>\n",
       "      <td>59</td>\n",
       "      <td>NaN</td>\n",
       "      <td>Стерлитамак</td>\n",
       "      <td>Евгений</td>\n",
       "      <td>Абрамович</td>\n",
       "      <td>2018-06-17</td>\n",
       "      <td>smart</td>\n",
       "    </tr>\n",
       "    <tr>\n",
       "      <th>3</th>\n",
       "      <td>1003</td>\n",
       "      <td>23</td>\n",
       "      <td>NaN</td>\n",
       "      <td>Москва</td>\n",
       "      <td>Белла</td>\n",
       "      <td>Белякова</td>\n",
       "      <td>2018-08-17</td>\n",
       "      <td>ultra</td>\n",
       "    </tr>\n",
       "    <tr>\n",
       "      <th>4</th>\n",
       "      <td>1004</td>\n",
       "      <td>68</td>\n",
       "      <td>NaN</td>\n",
       "      <td>Новокузнецк</td>\n",
       "      <td>Татьяна</td>\n",
       "      <td>Авдеенко</td>\n",
       "      <td>2018-05-14</td>\n",
       "      <td>ultra</td>\n",
       "    </tr>\n",
       "  </tbody>\n",
       "</table>\n",
       "</div>"
      ],
      "text/plain": [
       "   user_id  age churn_date         city first_name  last_name    reg_date  \\\n",
       "0     1000   52        NaN    Краснодар     Рафаил  Верещагин  2018-05-25   \n",
       "1     1001   41        NaN       Москва       Иван       Ежов  2018-11-01   \n",
       "2     1002   59        NaN  Стерлитамак    Евгений  Абрамович  2018-06-17   \n",
       "3     1003   23        NaN       Москва      Белла   Белякова  2018-08-17   \n",
       "4     1004   68        NaN  Новокузнецк    Татьяна   Авдеенко  2018-05-14   \n",
       "\n",
       "  tariff  \n",
       "0  ultra  \n",
       "1  smart  \n",
       "2  smart  \n",
       "3  ultra  \n",
       "4  ultra  "
      ]
     },
     "execution_count": 2,
     "metadata": {},
     "output_type": "execute_result"
    }
   ],
   "source": [
    "users = pd.read_csv('users.csv')\n",
    "users.head()"
   ]
  },
  {
   "cell_type": "markdown",
   "id": "cecf474d-f804-4429-b0c4-10198c514e77",
   "metadata": {},
   "source": [
    "### Таблица users (информация о пользователях):\n",
    "- user_id — уникальный идентификатор пользователя\n",
    "- first_name — имя пользователя\n",
    "- last_name — фамилия пользователя\n",
    "- age — возраст пользователя (годы)\n",
    "- reg_date — дата подключения тарифа (день, месяц, год)\n",
    "- churn_date — дата прекращения пользования тарифом (если значение пропущено, то тариф ещё действовал на момент выгрузки данных)\n",
    "- city — город проживания пользователя\n",
    "- tariff — название тарифного плана"
   ]
  },
  {
   "cell_type": "code",
   "execution_count": 3,
   "id": "730a5684-0e61-435e-84e9-764c4a434a1c",
   "metadata": {},
   "outputs": [
    {
     "data": {
      "text/html": [
       "<div>\n",
       "<style scoped>\n",
       "    .dataframe tbody tr th:only-of-type {\n",
       "        vertical-align: middle;\n",
       "    }\n",
       "\n",
       "    .dataframe tbody tr th {\n",
       "        vertical-align: top;\n",
       "    }\n",
       "\n",
       "    .dataframe thead th {\n",
       "        text-align: right;\n",
       "    }\n",
       "</style>\n",
       "<table border=\"1\" class=\"dataframe\">\n",
       "  <thead>\n",
       "    <tr style=\"text-align: right;\">\n",
       "      <th></th>\n",
       "      <th>id</th>\n",
       "      <th>call_date</th>\n",
       "      <th>duration</th>\n",
       "      <th>user_id</th>\n",
       "    </tr>\n",
       "  </thead>\n",
       "  <tbody>\n",
       "    <tr>\n",
       "      <th>0</th>\n",
       "      <td>1000_0</td>\n",
       "      <td>2018-07-25</td>\n",
       "      <td>0.00</td>\n",
       "      <td>1000</td>\n",
       "    </tr>\n",
       "    <tr>\n",
       "      <th>1</th>\n",
       "      <td>1000_1</td>\n",
       "      <td>2018-08-17</td>\n",
       "      <td>0.00</td>\n",
       "      <td>1000</td>\n",
       "    </tr>\n",
       "    <tr>\n",
       "      <th>2</th>\n",
       "      <td>1000_2</td>\n",
       "      <td>2018-06-11</td>\n",
       "      <td>2.85</td>\n",
       "      <td>1000</td>\n",
       "    </tr>\n",
       "    <tr>\n",
       "      <th>3</th>\n",
       "      <td>1000_3</td>\n",
       "      <td>2018-09-21</td>\n",
       "      <td>13.80</td>\n",
       "      <td>1000</td>\n",
       "    </tr>\n",
       "    <tr>\n",
       "      <th>4</th>\n",
       "      <td>1000_4</td>\n",
       "      <td>2018-12-15</td>\n",
       "      <td>5.18</td>\n",
       "      <td>1000</td>\n",
       "    </tr>\n",
       "  </tbody>\n",
       "</table>\n",
       "</div>"
      ],
      "text/plain": [
       "       id   call_date  duration  user_id\n",
       "0  1000_0  2018-07-25      0.00     1000\n",
       "1  1000_1  2018-08-17      0.00     1000\n",
       "2  1000_2  2018-06-11      2.85     1000\n",
       "3  1000_3  2018-09-21     13.80     1000\n",
       "4  1000_4  2018-12-15      5.18     1000"
      ]
     },
     "execution_count": 3,
     "metadata": {},
     "output_type": "execute_result"
    }
   ],
   "source": [
    "calls = pd.read_csv('calls.csv')\n",
    "calls.head()"
   ]
  },
  {
   "cell_type": "markdown",
   "id": "d6f3ffee-010d-40f9-b616-ce387405a774",
   "metadata": {},
   "source": [
    "#### Таблица calls (информация о звонках):\n",
    "- id — уникальный номер звонка\n",
    "- call_date — дата звонка\n",
    "- duration — длительность звонка в минутах\n",
    "- user_id — идентификатор пользователя, сделавшего звонок"
   ]
  },
  {
   "cell_type": "code",
   "execution_count": 4,
   "id": "41eb140a-a567-4e85-9ad7-3fa218353b5d",
   "metadata": {},
   "outputs": [
    {
     "data": {
      "text/html": [
       "<div>\n",
       "<style scoped>\n",
       "    .dataframe tbody tr th:only-of-type {\n",
       "        vertical-align: middle;\n",
       "    }\n",
       "\n",
       "    .dataframe tbody tr th {\n",
       "        vertical-align: top;\n",
       "    }\n",
       "\n",
       "    .dataframe thead th {\n",
       "        text-align: right;\n",
       "    }\n",
       "</style>\n",
       "<table border=\"1\" class=\"dataframe\">\n",
       "  <thead>\n",
       "    <tr style=\"text-align: right;\">\n",
       "      <th></th>\n",
       "      <th>id</th>\n",
       "      <th>message_date</th>\n",
       "      <th>user_id</th>\n",
       "    </tr>\n",
       "  </thead>\n",
       "  <tbody>\n",
       "    <tr>\n",
       "      <th>0</th>\n",
       "      <td>1000_0</td>\n",
       "      <td>2018-06-27</td>\n",
       "      <td>1000</td>\n",
       "    </tr>\n",
       "    <tr>\n",
       "      <th>1</th>\n",
       "      <td>1000_1</td>\n",
       "      <td>2018-10-08</td>\n",
       "      <td>1000</td>\n",
       "    </tr>\n",
       "    <tr>\n",
       "      <th>2</th>\n",
       "      <td>1000_2</td>\n",
       "      <td>2018-08-04</td>\n",
       "      <td>1000</td>\n",
       "    </tr>\n",
       "    <tr>\n",
       "      <th>3</th>\n",
       "      <td>1000_3</td>\n",
       "      <td>2018-06-16</td>\n",
       "      <td>1000</td>\n",
       "    </tr>\n",
       "    <tr>\n",
       "      <th>4</th>\n",
       "      <td>1000_4</td>\n",
       "      <td>2018-12-05</td>\n",
       "      <td>1000</td>\n",
       "    </tr>\n",
       "  </tbody>\n",
       "</table>\n",
       "</div>"
      ],
      "text/plain": [
       "       id message_date  user_id\n",
       "0  1000_0   2018-06-27     1000\n",
       "1  1000_1   2018-10-08     1000\n",
       "2  1000_2   2018-08-04     1000\n",
       "3  1000_3   2018-06-16     1000\n",
       "4  1000_4   2018-12-05     1000"
      ]
     },
     "execution_count": 4,
     "metadata": {},
     "output_type": "execute_result"
    }
   ],
   "source": [
    "messages = pd.read_csv('messages.csv')\n",
    "messages.head()"
   ]
  },
  {
   "cell_type": "markdown",
   "id": "229d0e72-b881-48c2-9994-a59883921edc",
   "metadata": {},
   "source": [
    "#### Таблица messages (информация о сообщениях):\n",
    "- id — уникальный номер сообщения\n",
    "- message_date — дата сообщения\n",
    "- user_id — идентификатор пользователя, отправившего сообщение"
   ]
  },
  {
   "cell_type": "markdown",
   "id": "5fe02c7e-05da-48c1-ac37-fd0aa0735c91",
   "metadata": {},
   "source": [
    "<a id='tariff_description'></a>"
   ]
  },
  {
   "cell_type": "code",
   "execution_count": 5,
   "id": "b68240ca-0936-4113-976b-cac52d108cd3",
   "metadata": {},
   "outputs": [
    {
     "data": {
      "text/html": [
       "<div>\n",
       "<style scoped>\n",
       "    .dataframe tbody tr th:only-of-type {\n",
       "        vertical-align: middle;\n",
       "    }\n",
       "\n",
       "    .dataframe tbody tr th {\n",
       "        vertical-align: top;\n",
       "    }\n",
       "\n",
       "    .dataframe thead th {\n",
       "        text-align: right;\n",
       "    }\n",
       "</style>\n",
       "<table border=\"1\" class=\"dataframe\">\n",
       "  <thead>\n",
       "    <tr style=\"text-align: right;\">\n",
       "      <th></th>\n",
       "      <th>messages_included</th>\n",
       "      <th>mb_per_month_included</th>\n",
       "      <th>minutes_included</th>\n",
       "      <th>rub_monthly_fee</th>\n",
       "      <th>rub_per_gb</th>\n",
       "      <th>rub_per_message</th>\n",
       "      <th>rub_per_minute</th>\n",
       "      <th>tariff_name</th>\n",
       "    </tr>\n",
       "  </thead>\n",
       "  <tbody>\n",
       "    <tr>\n",
       "      <th>0</th>\n",
       "      <td>50</td>\n",
       "      <td>15360</td>\n",
       "      <td>500</td>\n",
       "      <td>550</td>\n",
       "      <td>200</td>\n",
       "      <td>3</td>\n",
       "      <td>3</td>\n",
       "      <td>smart</td>\n",
       "    </tr>\n",
       "    <tr>\n",
       "      <th>1</th>\n",
       "      <td>1000</td>\n",
       "      <td>30720</td>\n",
       "      <td>3000</td>\n",
       "      <td>1950</td>\n",
       "      <td>150</td>\n",
       "      <td>1</td>\n",
       "      <td>1</td>\n",
       "      <td>ultra</td>\n",
       "    </tr>\n",
       "  </tbody>\n",
       "</table>\n",
       "</div>"
      ],
      "text/plain": [
       "   messages_included  mb_per_month_included  minutes_included  \\\n",
       "0                 50                  15360               500   \n",
       "1               1000                  30720              3000   \n",
       "\n",
       "   rub_monthly_fee  rub_per_gb  rub_per_message  rub_per_minute tariff_name  \n",
       "0              550         200                3               3       smart  \n",
       "1             1950         150                1               1       ultra  "
      ]
     },
     "execution_count": 5,
     "metadata": {},
     "output_type": "execute_result"
    }
   ],
   "source": [
    "tariffs = pd.read_csv('tariffs.csv')\n",
    "tariffs"
   ]
  },
  {
   "cell_type": "markdown",
   "id": "d669da4c-6708-40b4-8606-cb2b91e3d3fe",
   "metadata": {},
   "source": [
    "#### Таблица tariffs (информация о тарифах):\n",
    "- tariff_name — название тарифа\n",
    "- rub_monthly_fee — ежемесячная абонентская плата в рублях\n",
    "- minutes_included — количество минут разговора в месяц, включённых в абонентскую плату\n",
    "- messages_included — количество сообщений в месяц, включённых в абонентскую плату\n",
    "- mb_per_month_included — объём интернет-трафика, включённого в абонентскую плату (в мегабайтах)\n",
    "- rub_per_minute — стоимость минуты разговора сверх тарифного пакета (например, если в тарифе 100 минут разговора в месяц, то со 101 минуты будет взиматься плата)\n",
    "- rub_per_message — стоимость отправки сообщения сверх тарифного пакета\n",
    "- rub_per_gb — стоимость дополнительного гигабайта интернет-трафика сверх тарифного пакета (1 гигабайт = 1024 мегабайта)"
   ]
  },
  {
   "cell_type": "markdown",
   "id": "b4cb6997-af28-4416-828e-539808e9d157",
   "metadata": {},
   "source": [
    "[К гистограммам](#hist)"
   ]
  },
  {
   "cell_type": "code",
   "execution_count": 6,
   "id": "e1f910f0-681c-47d9-8768-2913edd93564",
   "metadata": {},
   "outputs": [
    {
     "data": {
      "text/html": [
       "<div>\n",
       "<style scoped>\n",
       "    .dataframe tbody tr th:only-of-type {\n",
       "        vertical-align: middle;\n",
       "    }\n",
       "\n",
       "    .dataframe tbody tr th {\n",
       "        vertical-align: top;\n",
       "    }\n",
       "\n",
       "    .dataframe thead th {\n",
       "        text-align: right;\n",
       "    }\n",
       "</style>\n",
       "<table border=\"1\" class=\"dataframe\">\n",
       "  <thead>\n",
       "    <tr style=\"text-align: right;\">\n",
       "      <th></th>\n",
       "      <th>Unnamed: 0</th>\n",
       "      <th>id</th>\n",
       "      <th>mb_used</th>\n",
       "      <th>session_date</th>\n",
       "      <th>user_id</th>\n",
       "    </tr>\n",
       "  </thead>\n",
       "  <tbody>\n",
       "    <tr>\n",
       "      <th>0</th>\n",
       "      <td>0</td>\n",
       "      <td>1000_0</td>\n",
       "      <td>112.95</td>\n",
       "      <td>2018-11-25</td>\n",
       "      <td>1000</td>\n",
       "    </tr>\n",
       "    <tr>\n",
       "      <th>1</th>\n",
       "      <td>1</td>\n",
       "      <td>1000_1</td>\n",
       "      <td>1052.81</td>\n",
       "      <td>2018-09-07</td>\n",
       "      <td>1000</td>\n",
       "    </tr>\n",
       "    <tr>\n",
       "      <th>2</th>\n",
       "      <td>2</td>\n",
       "      <td>1000_2</td>\n",
       "      <td>1197.26</td>\n",
       "      <td>2018-06-25</td>\n",
       "      <td>1000</td>\n",
       "    </tr>\n",
       "    <tr>\n",
       "      <th>3</th>\n",
       "      <td>3</td>\n",
       "      <td>1000_3</td>\n",
       "      <td>550.27</td>\n",
       "      <td>2018-08-22</td>\n",
       "      <td>1000</td>\n",
       "    </tr>\n",
       "    <tr>\n",
       "      <th>4</th>\n",
       "      <td>4</td>\n",
       "      <td>1000_4</td>\n",
       "      <td>302.56</td>\n",
       "      <td>2018-09-24</td>\n",
       "      <td>1000</td>\n",
       "    </tr>\n",
       "  </tbody>\n",
       "</table>\n",
       "</div>"
      ],
      "text/plain": [
       "   Unnamed: 0      id  mb_used session_date  user_id\n",
       "0           0  1000_0   112.95   2018-11-25     1000\n",
       "1           1  1000_1  1052.81   2018-09-07     1000\n",
       "2           2  1000_2  1197.26   2018-06-25     1000\n",
       "3           3  1000_3   550.27   2018-08-22     1000\n",
       "4           4  1000_4   302.56   2018-09-24     1000"
      ]
     },
     "execution_count": 6,
     "metadata": {},
     "output_type": "execute_result"
    }
   ],
   "source": [
    "internet = pd.read_csv('internet.csv')\n",
    "internet.head()"
   ]
  },
  {
   "cell_type": "markdown",
   "id": "311cb854-8c3f-4fea-b139-fb03322c32f6",
   "metadata": {},
   "source": [
    "#### Таблица internet (информация об интернет-сессиях):\n",
    "- id — уникальный номер сессии\n",
    "- mb_used — объём потраченного за сессию интернет-трафика (в мегабайтах)\n",
    "- session_date — дата интернет-сессии\n",
    "- user_id — идентификатор пользователя"
   ]
  },
  {
   "cell_type": "markdown",
   "id": "be8c11ff-73e2-4ecf-866a-b2f22966a1fa",
   "metadata": {},
   "source": [
    "---"
   ]
  },
  {
   "cell_type": "markdown",
   "id": "348e6041-2726-456e-99c3-954378fcd387",
   "metadata": {},
   "source": [
    "[к началу](#description)"
   ]
  },
  {
   "cell_type": "markdown",
   "id": "47b594fe-3752-4219-bbe6-fe4a16fea4bb",
   "metadata": {},
   "source": [
    "- Приведите данные к нужным типам; <a id='step_2'></a>\n",
    "- Найдите и исправьте ошибки в данных, если они есть.\n",
    "- Поясните, какие ошибки вы нашли и как их исправили. В данных вы найдёте звонки с нулевой продолжительностью. Это не ошибка: нулями обозначены пропущенные звонки, поэтому их не нужно удалять. "
   ]
  },
  {
   "cell_type": "markdown",
   "id": "0fbf1ab0-eafa-42f7-a74c-1268827e8c25",
   "metadata": {},
   "source": [
    "Провери данные users:\n",
    "- Какие типы нужно изменить\n",
    "- проверим данные на NaN\n",
    "- посмотрим минимальный и максимальный возраст, чтобы там не было не корректных значений\n",
    "- приведем строковые значения к нижнему регистру, чтобы избежать дубликатов"
   ]
  },
  {
   "cell_type": "code",
   "execution_count": 7,
   "id": "093e387c-502f-46ab-bbcf-e2dd2db0e812",
   "metadata": {},
   "outputs": [
    {
     "name": "stdout",
     "output_type": "stream",
     "text": [
      "<class 'pandas.core.frame.DataFrame'>\n",
      "RangeIndex: 500 entries, 0 to 499\n",
      "Data columns (total 8 columns):\n",
      " #   Column      Non-Null Count  Dtype \n",
      "---  ------      --------------  ----- \n",
      " 0   user_id     500 non-null    int64 \n",
      " 1   age         500 non-null    int64 \n",
      " 2   churn_date  38 non-null     object\n",
      " 3   city        500 non-null    object\n",
      " 4   first_name  500 non-null    object\n",
      " 5   last_name   500 non-null    object\n",
      " 6   reg_date    500 non-null    object\n",
      " 7   tariff      500 non-null    object\n",
      "dtypes: int64(2), object(6)\n",
      "memory usage: 31.4+ KB\n"
     ]
    }
   ],
   "source": [
    "users.info()"
   ]
  },
  {
   "cell_type": "markdown",
   "id": "1a4e57f2-1786-47ba-8f50-0662e106afee",
   "metadata": {},
   "source": [
    "Проверим данные на NaN"
   ]
  },
  {
   "cell_type": "code",
   "execution_count": 8,
   "id": "cb18f4fc-bc7c-40a6-b12b-818306ff4a47",
   "metadata": {},
   "outputs": [
    {
     "data": {
      "text/plain": [
       "user_id         0\n",
       "age             0\n",
       "churn_date    462\n",
       "city            0\n",
       "first_name      0\n",
       "last_name       0\n",
       "reg_date        0\n",
       "tariff          0\n",
       "dtype: int64"
      ]
     },
     "execution_count": 8,
     "metadata": {},
     "output_type": "execute_result"
    }
   ],
   "source": [
    "users.isna().sum()"
   ]
  },
  {
   "cell_type": "markdown",
   "id": "74e703b7-4f0f-4e72-9b3f-61c3b7018126",
   "metadata": {},
   "source": [
    "- churn_date — дата прекращения пользования тарифом (если значение пропущено, то тариф ещё действовал на момент выгрузки данных)"
   ]
  },
  {
   "cell_type": "markdown",
   "id": "c8041cc7-4201-493a-aaaa-95f7d097c392",
   "metadata": {},
   "source": [
    "Проверим нижнюю и верхнюю границу возраста"
   ]
  },
  {
   "cell_type": "code",
   "execution_count": 9,
   "id": "44156dcd-871d-4b9b-a136-375bcfb0de49",
   "metadata": {},
   "outputs": [
    {
     "data": {
      "text/plain": [
       "count    500.00000\n",
       "mean      46.58800\n",
       "std       16.66763\n",
       "min       18.00000\n",
       "25%       32.00000\n",
       "50%       46.00000\n",
       "75%       62.00000\n",
       "max       75.00000\n",
       "Name: age, dtype: float64"
      ]
     },
     "execution_count": 9,
     "metadata": {},
     "output_type": "execute_result"
    }
   ],
   "source": [
    "users.age.describe()"
   ]
  },
  {
   "cell_type": "markdown",
   "id": "b5600438-62c8-48f9-8a98-e5435d41eb69",
   "metadata": {},
   "source": [
    "churn_date, reg_date переведем в datetime"
   ]
  },
  {
   "cell_type": "code",
   "execution_count": 10,
   "id": "543e3219-0fa9-4d44-a123-f0c6d9b91c7c",
   "metadata": {},
   "outputs": [
    {
     "name": "stdout",
     "output_type": "stream",
     "text": [
      "<class 'pandas.core.frame.DataFrame'>\n",
      "RangeIndex: 500 entries, 0 to 499\n",
      "Data columns (total 8 columns):\n",
      " #   Column      Non-Null Count  Dtype         \n",
      "---  ------      --------------  -----         \n",
      " 0   user_id     500 non-null    int64         \n",
      " 1   age         500 non-null    int64         \n",
      " 2   churn_date  38 non-null     object        \n",
      " 3   city        500 non-null    object        \n",
      " 4   first_name  500 non-null    object        \n",
      " 5   last_name   500 non-null    object        \n",
      " 6   reg_date    500 non-null    datetime64[ns]\n",
      " 7   tariff      500 non-null    object        \n",
      "dtypes: datetime64[ns](1), int64(2), object(5)\n",
      "memory usage: 31.4+ KB\n"
     ]
    }
   ],
   "source": [
    "users.reg_date = pd.to_datetime(users.reg_date)\n",
    "users.info()"
   ]
  },
  {
   "cell_type": "code",
   "execution_count": 11,
   "id": "4023e81a-cb37-4684-ba38-a8cde02c3f89",
   "metadata": {},
   "outputs": [
    {
     "name": "stdout",
     "output_type": "stream",
     "text": [
      "<class 'pandas.core.frame.DataFrame'>\n",
      "RangeIndex: 500 entries, 0 to 499\n",
      "Data columns (total 8 columns):\n",
      " #   Column      Non-Null Count  Dtype         \n",
      "---  ------      --------------  -----         \n",
      " 0   user_id     500 non-null    int64         \n",
      " 1   age         500 non-null    int64         \n",
      " 2   churn_date  38 non-null     datetime64[ns]\n",
      " 3   city        500 non-null    object        \n",
      " 4   first_name  500 non-null    object        \n",
      " 5   last_name   500 non-null    object        \n",
      " 6   reg_date    500 non-null    datetime64[ns]\n",
      " 7   tariff      500 non-null    object        \n",
      "dtypes: datetime64[ns](2), int64(2), object(4)\n",
      "memory usage: 31.4+ KB\n"
     ]
    }
   ],
   "source": [
    "users.churn_date = pd.to_datetime(users.churn_date)\n",
    "users.info()"
   ]
  },
  {
   "cell_type": "code",
   "execution_count": 12,
   "id": "5259be84-1077-42f2-a581-d4e853010c38",
   "metadata": {},
   "outputs": [
    {
     "data": {
      "text/html": [
       "<div>\n",
       "<style scoped>\n",
       "    .dataframe tbody tr th:only-of-type {\n",
       "        vertical-align: middle;\n",
       "    }\n",
       "\n",
       "    .dataframe tbody tr th {\n",
       "        vertical-align: top;\n",
       "    }\n",
       "\n",
       "    .dataframe thead th {\n",
       "        text-align: right;\n",
       "    }\n",
       "</style>\n",
       "<table border=\"1\" class=\"dataframe\">\n",
       "  <thead>\n",
       "    <tr style=\"text-align: right;\">\n",
       "      <th></th>\n",
       "      <th>first_name</th>\n",
       "      <th>last_name</th>\n",
       "      <th>city</th>\n",
       "    </tr>\n",
       "  </thead>\n",
       "  <tbody>\n",
       "    <tr>\n",
       "      <th>0</th>\n",
       "      <td>рафаил</td>\n",
       "      <td>верещагин</td>\n",
       "      <td>краснодар</td>\n",
       "    </tr>\n",
       "    <tr>\n",
       "      <th>1</th>\n",
       "      <td>иван</td>\n",
       "      <td>ежов</td>\n",
       "      <td>москва</td>\n",
       "    </tr>\n",
       "    <tr>\n",
       "      <th>2</th>\n",
       "      <td>евгений</td>\n",
       "      <td>абрамович</td>\n",
       "      <td>стерлитамак</td>\n",
       "    </tr>\n",
       "    <tr>\n",
       "      <th>3</th>\n",
       "      <td>белла</td>\n",
       "      <td>белякова</td>\n",
       "      <td>москва</td>\n",
       "    </tr>\n",
       "    <tr>\n",
       "      <th>4</th>\n",
       "      <td>татьяна</td>\n",
       "      <td>авдеенко</td>\n",
       "      <td>новокузнецк</td>\n",
       "    </tr>\n",
       "    <tr>\n",
       "      <th>...</th>\n",
       "      <td>...</td>\n",
       "      <td>...</td>\n",
       "      <td>...</td>\n",
       "    </tr>\n",
       "    <tr>\n",
       "      <th>495</th>\n",
       "      <td>авксентий</td>\n",
       "      <td>фокин</td>\n",
       "      <td>иркутск</td>\n",
       "    </tr>\n",
       "    <tr>\n",
       "      <th>496</th>\n",
       "      <td>трифон</td>\n",
       "      <td>блохин</td>\n",
       "      <td>вологда</td>\n",
       "    </tr>\n",
       "    <tr>\n",
       "      <th>497</th>\n",
       "      <td>каролина</td>\n",
       "      <td>агеева</td>\n",
       "      <td>челябинск</td>\n",
       "    </tr>\n",
       "    <tr>\n",
       "      <th>498</th>\n",
       "      <td>всеволод</td>\n",
       "      <td>акимчин</td>\n",
       "      <td>владикавказ</td>\n",
       "    </tr>\n",
       "    <tr>\n",
       "      <th>499</th>\n",
       "      <td>гектор</td>\n",
       "      <td>корнилов</td>\n",
       "      <td>пермь</td>\n",
       "    </tr>\n",
       "  </tbody>\n",
       "</table>\n",
       "<p>500 rows × 3 columns</p>\n",
       "</div>"
      ],
      "text/plain": [
       "    first_name  last_name         city\n",
       "0       рафаил  верещагин    краснодар\n",
       "1         иван       ежов       москва\n",
       "2      евгений  абрамович  стерлитамак\n",
       "3        белла   белякова       москва\n",
       "4      татьяна   авдеенко  новокузнецк\n",
       "..         ...        ...          ...\n",
       "495  авксентий      фокин      иркутск\n",
       "496     трифон     блохин      вологда\n",
       "497   каролина     агеева    челябинск\n",
       "498   всеволод    акимчин  владикавказ\n",
       "499     гектор   корнилов        пермь\n",
       "\n",
       "[500 rows x 3 columns]"
      ]
     },
     "execution_count": 12,
     "metadata": {},
     "output_type": "execute_result"
    }
   ],
   "source": [
    "lower_list = ['first_name', 'last_name', 'city']\n",
    "for st in lower_list:\n",
    "    users[st] = users[st].str.lower()\n",
    "users[lower_list]"
   ]
  },
  {
   "cell_type": "code",
   "execution_count": 13,
   "id": "258f5108-6777-44a1-bd9c-bb5841eb295f",
   "metadata": {},
   "outputs": [
    {
     "data": {
      "text/plain": [
       "500"
      ]
     },
     "execution_count": 13,
     "metadata": {},
     "output_type": "execute_result"
    }
   ],
   "source": [
    "len(users.user_id.unique())"
   ]
  },
  {
   "cell_type": "code",
   "execution_count": 14,
   "id": "b9959856-c134-4f6a-8a53-76b818214047",
   "metadata": {},
   "outputs": [
    {
     "data": {
      "text/plain": [
       "0"
      ]
     },
     "execution_count": 14,
     "metadata": {},
     "output_type": "execute_result"
    }
   ],
   "source": [
    "users.user_id.duplicated().sum()"
   ]
  },
  {
   "cell_type": "code",
   "execution_count": 15,
   "id": "0c9f441d-68e4-4cc7-acfc-bddd284d59de",
   "metadata": {},
   "outputs": [
    {
     "data": {
      "text/plain": [
       "tariff\n",
       "smart    351\n",
       "ultra    149\n",
       "Name: user_id, dtype: int64"
      ]
     },
     "execution_count": 15,
     "metadata": {},
     "output_type": "execute_result"
    }
   ],
   "source": [
    "users.groupby('tariff').user_id.agg('count')"
   ]
  },
  {
   "cell_type": "markdown",
   "id": "99f5c765-7617-4f0d-bac3-87fe8ea00622",
   "metadata": {},
   "source": [
    "Проверим данные по звонкам\n",
    "- проверим есть ли пустые значения\n",
    "- в каких столбцах следует изменить тип\n",
    "- есть ли дубликаты в id звонка\n",
    "- округлим длительнось до большего целого, тк при подсчете секунды округляются до большего целого"
   ]
  },
  {
   "cell_type": "code",
   "execution_count": 16,
   "id": "f378ed8a-0d37-478f-8e92-5cd22403067a",
   "metadata": {},
   "outputs": [
    {
     "data": {
      "text/plain": [
       "id           0\n",
       "call_date    0\n",
       "duration     0\n",
       "user_id      0\n",
       "dtype: int64"
      ]
     },
     "execution_count": 16,
     "metadata": {},
     "output_type": "execute_result"
    }
   ],
   "source": [
    "calls.isna().sum()"
   ]
  },
  {
   "cell_type": "code",
   "execution_count": 17,
   "id": "d5500d0f-c769-4cd5-9752-09bb6f1b2b2d",
   "metadata": {},
   "outputs": [
    {
     "name": "stdout",
     "output_type": "stream",
     "text": [
      "<class 'pandas.core.frame.DataFrame'>\n",
      "RangeIndex: 202607 entries, 0 to 202606\n",
      "Data columns (total 4 columns):\n",
      " #   Column     Non-Null Count   Dtype  \n",
      "---  ------     --------------   -----  \n",
      " 0   id         202607 non-null  object \n",
      " 1   call_date  202607 non-null  object \n",
      " 2   duration   202607 non-null  float64\n",
      " 3   user_id    202607 non-null  int64  \n",
      "dtypes: float64(1), int64(1), object(2)\n",
      "memory usage: 6.2+ MB\n"
     ]
    }
   ],
   "source": [
    "calls.info()"
   ]
  },
  {
   "cell_type": "code",
   "execution_count": 18,
   "id": "3753e60a-d863-40c7-890d-5df683b8cdd9",
   "metadata": {},
   "outputs": [
    {
     "name": "stdout",
     "output_type": "stream",
     "text": [
      "<class 'pandas.core.frame.DataFrame'>\n",
      "RangeIndex: 202607 entries, 0 to 202606\n",
      "Data columns (total 4 columns):\n",
      " #   Column     Non-Null Count   Dtype         \n",
      "---  ------     --------------   -----         \n",
      " 0   id         202607 non-null  object        \n",
      " 1   call_date  202607 non-null  datetime64[ns]\n",
      " 2   duration   202607 non-null  float64       \n",
      " 3   user_id    202607 non-null  int64         \n",
      "dtypes: datetime64[ns](1), float64(1), int64(1), object(1)\n",
      "memory usage: 6.2+ MB\n"
     ]
    }
   ],
   "source": [
    "calls.call_date = pd.to_datetime(calls.call_date)\n",
    "calls.info()"
   ]
  },
  {
   "cell_type": "code",
   "execution_count": 19,
   "id": "0f3707f0-5e77-45fe-8a4a-3b8c3a030538",
   "metadata": {},
   "outputs": [
    {
     "data": {
      "text/plain": [
       "0"
      ]
     },
     "execution_count": 19,
     "metadata": {},
     "output_type": "execute_result"
    }
   ],
   "source": [
    "calls.id.duplicated().sum()"
   ]
  },
  {
   "cell_type": "code",
   "execution_count": 20,
   "id": "937c465c-b179-4c16-abe5-6d4c59e7420d",
   "metadata": {},
   "outputs": [
    {
     "data": {
      "text/plain": [
       "0"
      ]
     },
     "execution_count": 20,
     "metadata": {},
     "output_type": "execute_result"
    }
   ],
   "source": [
    "calls[calls.duration < 0].id.count()"
   ]
  },
  {
   "cell_type": "code",
   "execution_count": 21,
   "id": "e97a6b0f-9818-4e50-a4b2-d82d9ab7a7e2",
   "metadata": {},
   "outputs": [],
   "source": [
    "calls['ceil_duration'] = calls.duration.apply(lambda x: math.ceil(x))"
   ]
  },
  {
   "cell_type": "code",
   "execution_count": 22,
   "id": "d5f352c4-4fa2-49bb-af52-9655a9533627",
   "metadata": {},
   "outputs": [
    {
     "data": {
      "text/html": [
       "<div>\n",
       "<style scoped>\n",
       "    .dataframe tbody tr th:only-of-type {\n",
       "        vertical-align: middle;\n",
       "    }\n",
       "\n",
       "    .dataframe tbody tr th {\n",
       "        vertical-align: top;\n",
       "    }\n",
       "\n",
       "    .dataframe thead th {\n",
       "        text-align: right;\n",
       "    }\n",
       "</style>\n",
       "<table border=\"1\" class=\"dataframe\">\n",
       "  <thead>\n",
       "    <tr style=\"text-align: right;\">\n",
       "      <th></th>\n",
       "      <th>duration</th>\n",
       "      <th>ceil_duration</th>\n",
       "    </tr>\n",
       "  </thead>\n",
       "  <tbody>\n",
       "    <tr>\n",
       "      <th>0</th>\n",
       "      <td>0.00</td>\n",
       "      <td>0</td>\n",
       "    </tr>\n",
       "    <tr>\n",
       "      <th>1</th>\n",
       "      <td>0.00</td>\n",
       "      <td>0</td>\n",
       "    </tr>\n",
       "    <tr>\n",
       "      <th>2</th>\n",
       "      <td>2.85</td>\n",
       "      <td>3</td>\n",
       "    </tr>\n",
       "    <tr>\n",
       "      <th>3</th>\n",
       "      <td>13.80</td>\n",
       "      <td>14</td>\n",
       "    </tr>\n",
       "    <tr>\n",
       "      <th>4</th>\n",
       "      <td>5.18</td>\n",
       "      <td>6</td>\n",
       "    </tr>\n",
       "  </tbody>\n",
       "</table>\n",
       "</div>"
      ],
      "text/plain": [
       "   duration  ceil_duration\n",
       "0      0.00              0\n",
       "1      0.00              0\n",
       "2      2.85              3\n",
       "3     13.80             14\n",
       "4      5.18              6"
      ]
     },
     "execution_count": 22,
     "metadata": {},
     "output_type": "execute_result"
    }
   ],
   "source": [
    "calls[['duration', 'ceil_duration']].head()"
   ]
  },
  {
   "cell_type": "markdown",
   "id": "a9aed382-d859-4d1a-bd2b-0abbc7c64787",
   "metadata": {},
   "source": [
    "Проверим messages:\n",
    "- проверим пропуски\n",
    "- проверим тип\n",
    "- уникальность id сообщения"
   ]
  },
  {
   "cell_type": "code",
   "execution_count": 23,
   "id": "117bbc7b-ace7-4b45-ac17-8a4c32ff7c9c",
   "metadata": {},
   "outputs": [
    {
     "data": {
      "text/plain": [
       "id              0\n",
       "message_date    0\n",
       "user_id         0\n",
       "dtype: int64"
      ]
     },
     "execution_count": 23,
     "metadata": {},
     "output_type": "execute_result"
    }
   ],
   "source": [
    "messages.isna().sum()"
   ]
  },
  {
   "cell_type": "code",
   "execution_count": 24,
   "id": "61982689-5e30-4a96-87ee-2e05138c90a5",
   "metadata": {},
   "outputs": [
    {
     "data": {
      "text/plain": [
       "0"
      ]
     },
     "execution_count": 24,
     "metadata": {},
     "output_type": "execute_result"
    }
   ],
   "source": [
    "messages.id.duplicated().sum()"
   ]
  },
  {
   "cell_type": "code",
   "execution_count": 25,
   "id": "cc8bce49-1a4a-4f30-af0e-03bd1b292b14",
   "metadata": {},
   "outputs": [
    {
     "name": "stdout",
     "output_type": "stream",
     "text": [
      "<class 'pandas.core.frame.DataFrame'>\n",
      "RangeIndex: 123036 entries, 0 to 123035\n",
      "Data columns (total 3 columns):\n",
      " #   Column        Non-Null Count   Dtype \n",
      "---  ------        --------------   ----- \n",
      " 0   id            123036 non-null  object\n",
      " 1   message_date  123036 non-null  object\n",
      " 2   user_id       123036 non-null  int64 \n",
      "dtypes: int64(1), object(2)\n",
      "memory usage: 2.8+ MB\n"
     ]
    }
   ],
   "source": [
    "messages.info()"
   ]
  },
  {
   "cell_type": "code",
   "execution_count": 26,
   "id": "7e3d6cc5-ab7e-4fb6-9820-93447788cf64",
   "metadata": {},
   "outputs": [
    {
     "name": "stdout",
     "output_type": "stream",
     "text": [
      "<class 'pandas.core.frame.DataFrame'>\n",
      "RangeIndex: 123036 entries, 0 to 123035\n",
      "Data columns (total 3 columns):\n",
      " #   Column        Non-Null Count   Dtype         \n",
      "---  ------        --------------   -----         \n",
      " 0   id            123036 non-null  object        \n",
      " 1   message_date  123036 non-null  datetime64[ns]\n",
      " 2   user_id       123036 non-null  int64         \n",
      "dtypes: datetime64[ns](1), int64(1), object(1)\n",
      "memory usage: 2.8+ MB\n"
     ]
    }
   ],
   "source": [
    "messages.message_date = pd.to_datetime(messages.message_date)\n",
    "messages.info()"
   ]
  },
  {
   "cell_type": "markdown",
   "id": "59acbbcd-6260-475b-aa68-9bd3a1bc6560",
   "metadata": {},
   "source": [
    "Проверим internet:\n",
    "- проверим пропуски\n",
    "- проверим тип\n",
    "- уникальность номер сессии\n",
    "- отрицательный объем"
   ]
  },
  {
   "cell_type": "code",
   "execution_count": 27,
   "id": "8a92f517-0b9c-4e30-b190-279697abe83a",
   "metadata": {},
   "outputs": [
    {
     "data": {
      "text/plain": [
       "Unnamed: 0      0\n",
       "id              0\n",
       "mb_used         0\n",
       "session_date    0\n",
       "user_id         0\n",
       "dtype: int64"
      ]
     },
     "execution_count": 27,
     "metadata": {},
     "output_type": "execute_result"
    }
   ],
   "source": [
    "internet.isna().sum()"
   ]
  },
  {
   "cell_type": "markdown",
   "id": "e01d5c8e-3081-434d-a3e0-7969a1f4dae4",
   "metadata": {},
   "source": [
    "Неизвестный столбец Unnamed: 0 дропнем, тк его применение не очевино и он не был заявлен в данных"
   ]
  },
  {
   "cell_type": "code",
   "execution_count": 28,
   "id": "2299ebd5-ffc5-4aaf-843e-8f4fcf5c890c",
   "metadata": {},
   "outputs": [
    {
     "data": {
      "text/plain": [
       "Index(['id', 'mb_used', 'session_date', 'user_id'], dtype='object')"
      ]
     },
     "execution_count": 28,
     "metadata": {},
     "output_type": "execute_result"
    }
   ],
   "source": [
    "internet.drop(columns='Unnamed: 0', inplace=True)\n",
    "internet.columns"
   ]
  },
  {
   "cell_type": "code",
   "execution_count": 29,
   "id": "0f090ce1-dbbc-4cbe-86c3-0db04cb24ee5",
   "metadata": {},
   "outputs": [
    {
     "name": "stdout",
     "output_type": "stream",
     "text": [
      "<class 'pandas.core.frame.DataFrame'>\n",
      "RangeIndex: 149396 entries, 0 to 149395\n",
      "Data columns (total 4 columns):\n",
      " #   Column        Non-Null Count   Dtype  \n",
      "---  ------        --------------   -----  \n",
      " 0   id            149396 non-null  object \n",
      " 1   mb_used       149396 non-null  float64\n",
      " 2   session_date  149396 non-null  object \n",
      " 3   user_id       149396 non-null  int64  \n",
      "dtypes: float64(1), int64(1), object(2)\n",
      "memory usage: 4.6+ MB\n"
     ]
    }
   ],
   "source": [
    "internet.info()"
   ]
  },
  {
   "cell_type": "code",
   "execution_count": 30,
   "id": "56d2450f-331c-4d93-afd8-e581d6b5461c",
   "metadata": {},
   "outputs": [
    {
     "name": "stdout",
     "output_type": "stream",
     "text": [
      "<class 'pandas.core.frame.DataFrame'>\n",
      "RangeIndex: 149396 entries, 0 to 149395\n",
      "Data columns (total 4 columns):\n",
      " #   Column        Non-Null Count   Dtype         \n",
      "---  ------        --------------   -----         \n",
      " 0   id            149396 non-null  object        \n",
      " 1   mb_used       149396 non-null  float64       \n",
      " 2   session_date  149396 non-null  datetime64[ns]\n",
      " 3   user_id       149396 non-null  int64         \n",
      "dtypes: datetime64[ns](1), float64(1), int64(1), object(1)\n",
      "memory usage: 4.6+ MB\n"
     ]
    }
   ],
   "source": [
    "internet.session_date = pd.to_datetime(internet.session_date)\n",
    "internet.info()"
   ]
  },
  {
   "cell_type": "code",
   "execution_count": 31,
   "id": "69c3ba43-4465-43ad-8dd5-97e1a9651bfc",
   "metadata": {},
   "outputs": [
    {
     "data": {
      "text/plain": [
       "0"
      ]
     },
     "execution_count": 31,
     "metadata": {},
     "output_type": "execute_result"
    }
   ],
   "source": [
    "internet.id.duplicated().sum()"
   ]
  },
  {
   "cell_type": "code",
   "execution_count": 32,
   "id": "95d3f4cc-bb58-4b08-822b-680227c1610b",
   "metadata": {},
   "outputs": [
    {
     "data": {
      "text/plain": [
       "0"
      ]
     },
     "execution_count": 32,
     "metadata": {},
     "output_type": "execute_result"
    }
   ],
   "source": [
    "internet[internet.mb_used < 0 ].user_id.count()\n"
   ]
  },
  {
   "cell_type": "markdown",
   "id": "cf1e6f96-7dec-4970-a5ae-245d93a285f7",
   "metadata": {},
   "source": [
    " изменим в tariffs мб на гб, тк в тарифах все равно округляются мб до целых гб"
   ]
  },
  {
   "cell_type": "code",
   "execution_count": 33,
   "id": "816fb47f-3f7a-4204-8edf-a80ce6efbfa4",
   "metadata": {},
   "outputs": [
    {
     "data": {
      "text/html": [
       "<div>\n",
       "<style scoped>\n",
       "    .dataframe tbody tr th:only-of-type {\n",
       "        vertical-align: middle;\n",
       "    }\n",
       "\n",
       "    .dataframe tbody tr th {\n",
       "        vertical-align: top;\n",
       "    }\n",
       "\n",
       "    .dataframe thead th {\n",
       "        text-align: right;\n",
       "    }\n",
       "</style>\n",
       "<table border=\"1\" class=\"dataframe\">\n",
       "  <thead>\n",
       "    <tr style=\"text-align: right;\">\n",
       "      <th></th>\n",
       "      <th>mb_per_month_included</th>\n",
       "      <th>gb_month_included</th>\n",
       "    </tr>\n",
       "  </thead>\n",
       "  <tbody>\n",
       "    <tr>\n",
       "      <th>0</th>\n",
       "      <td>15360</td>\n",
       "      <td>15.0</td>\n",
       "    </tr>\n",
       "    <tr>\n",
       "      <th>1</th>\n",
       "      <td>30720</td>\n",
       "      <td>30.0</td>\n",
       "    </tr>\n",
       "  </tbody>\n",
       "</table>\n",
       "</div>"
      ],
      "text/plain": [
       "   mb_per_month_included  gb_month_included\n",
       "0                  15360               15.0\n",
       "1                  30720               30.0"
      ]
     },
     "execution_count": 33,
     "metadata": {},
     "output_type": "execute_result"
    }
   ],
   "source": [
    "tariffs['gb_month_included'] =  tariffs.mb_per_month_included.apply(lambda x: (x/1024))\n",
    "tariffs[['mb_per_month_included', 'gb_month_included']]"
   ]
  },
  {
   "cell_type": "markdown",
   "id": "f7121c9f-4076-49ed-9f37-6aa5b702d88a",
   "metadata": {},
   "source": [
    "#### Посчитайте для каждого пользователя:"
   ]
  },
  {
   "cell_type": "markdown",
   "id": "bff294f5-c2ef-40f4-a2c9-2903c9b8826d",
   "metadata": {},
   "source": [
    "- [количество сделанных звонков и израсходованных минут разговора по месяцам;](#calls)\n",
    "- [количество отправленных сообщений по месяцам;](#message)\n",
    "- [объем израсходованного интернет-трафика по месяцам;](#month_internet)\n",
    "- [помесячную выручку с каждого пользователя (вычтите бесплатный лимит из суммарного количества звонков, сообщений и интернет-трафика; остаток умножьте на значение из тарифного плана; прибавьте абонентскую плату, соответствующую тарифному плану).](#proceeds_of_user)"
   ]
  },
  {
   "cell_type": "markdown",
   "id": "a61c1a67-767c-49e3-b760-f55c5b21faf6",
   "metadata": {},
   "source": [
    "Добавим новый столбец с месяцем и годом, чтобы было удобнее делить звонки по месяцам"
   ]
  },
  {
   "cell_type": "code",
   "execution_count": 34,
   "id": "b80570a3-b2f5-48a7-9002-288c25716d37",
   "metadata": {},
   "outputs": [
    {
     "data": {
      "text/plain": [
       "<PeriodArray>\n",
       "['2018-07', '2018-08', '2018-06', '2018-09', '2018-12', '2018-11', '2018-10',\n",
       " '2018-05', '2018-03', '2018-04', '2018-01', '2018-02']\n",
       "Length: 12, dtype: period[M]"
      ]
     },
     "execution_count": 34,
     "metadata": {},
     "output_type": "execute_result"
    }
   ],
   "source": [
    "#calls.groupby('user_id').duration.agg(['sum'])\n",
    "calls['month'] = calls.call_date.dt.to_period('M')\n",
    "calls[['month', 'call_date']].head()\n",
    "calls.month.unique()"
   ]
  },
  {
   "cell_type": "markdown",
   "id": "7c6ddef2-8c3a-4034-a970-95695af9887e",
   "metadata": {},
   "source": [
    "количество сделанных звонков и израсходованных минут разговора по месяцам; <a id='calls'></a>\n",
    "- сгруппируем по user_id и month\n",
    "- переименуем столбцы"
   ]
  },
  {
   "cell_type": "code",
   "execution_count": 35,
   "id": "c1876619-b589-47a0-b2d7-dbf129af977e",
   "metadata": {},
   "outputs": [],
   "source": [
    "all_calls = calls.groupby(['user_id', 'month']).ceil_duration.agg(['sum', 'count']).reset_index()\n",
    "#all_calls = calls.pivot_table(index='user_id', columns='month', values='ceil_duration', aggfunc=['sum', 'count'])"
   ]
  },
  {
   "cell_type": "code",
   "execution_count": 36,
   "id": "f71fa275-f3c1-46f3-9255-7726bdef845a",
   "metadata": {},
   "outputs": [
    {
     "data": {
      "text/html": [
       "<div>\n",
       "<style scoped>\n",
       "    .dataframe tbody tr th:only-of-type {\n",
       "        vertical-align: middle;\n",
       "    }\n",
       "\n",
       "    .dataframe tbody tr th {\n",
       "        vertical-align: top;\n",
       "    }\n",
       "\n",
       "    .dataframe thead th {\n",
       "        text-align: right;\n",
       "    }\n",
       "</style>\n",
       "<table border=\"1\" class=\"dataframe\">\n",
       "  <thead>\n",
       "    <tr style=\"text-align: right;\">\n",
       "      <th></th>\n",
       "      <th>user_id</th>\n",
       "      <th>month</th>\n",
       "      <th>duration_calls</th>\n",
       "      <th>count_calls</th>\n",
       "    </tr>\n",
       "  </thead>\n",
       "  <tbody>\n",
       "    <tr>\n",
       "      <th>0</th>\n",
       "      <td>1000</td>\n",
       "      <td>2018-05</td>\n",
       "      <td>159</td>\n",
       "      <td>22</td>\n",
       "    </tr>\n",
       "    <tr>\n",
       "      <th>1</th>\n",
       "      <td>1000</td>\n",
       "      <td>2018-06</td>\n",
       "      <td>172</td>\n",
       "      <td>43</td>\n",
       "    </tr>\n",
       "    <tr>\n",
       "      <th>2</th>\n",
       "      <td>1000</td>\n",
       "      <td>2018-07</td>\n",
       "      <td>340</td>\n",
       "      <td>47</td>\n",
       "    </tr>\n",
       "    <tr>\n",
       "      <th>3</th>\n",
       "      <td>1000</td>\n",
       "      <td>2018-08</td>\n",
       "      <td>408</td>\n",
       "      <td>52</td>\n",
       "    </tr>\n",
       "    <tr>\n",
       "      <th>4</th>\n",
       "      <td>1000</td>\n",
       "      <td>2018-09</td>\n",
       "      <td>466</td>\n",
       "      <td>58</td>\n",
       "    </tr>\n",
       "    <tr>\n",
       "      <th>5</th>\n",
       "      <td>1000</td>\n",
       "      <td>2018-10</td>\n",
       "      <td>350</td>\n",
       "      <td>57</td>\n",
       "    </tr>\n",
       "    <tr>\n",
       "      <th>6</th>\n",
       "      <td>1000</td>\n",
       "      <td>2018-11</td>\n",
       "      <td>338</td>\n",
       "      <td>43</td>\n",
       "    </tr>\n",
       "    <tr>\n",
       "      <th>7</th>\n",
       "      <td>1000</td>\n",
       "      <td>2018-12</td>\n",
       "      <td>333</td>\n",
       "      <td>46</td>\n",
       "    </tr>\n",
       "    <tr>\n",
       "      <th>8</th>\n",
       "      <td>1001</td>\n",
       "      <td>2018-11</td>\n",
       "      <td>430</td>\n",
       "      <td>59</td>\n",
       "    </tr>\n",
       "    <tr>\n",
       "      <th>9</th>\n",
       "      <td>1001</td>\n",
       "      <td>2018-12</td>\n",
       "      <td>414</td>\n",
       "      <td>63</td>\n",
       "    </tr>\n",
       "  </tbody>\n",
       "</table>\n",
       "</div>"
      ],
      "text/plain": [
       "   user_id    month  duration_calls  count_calls\n",
       "0     1000  2018-05             159           22\n",
       "1     1000  2018-06             172           43\n",
       "2     1000  2018-07             340           47\n",
       "3     1000  2018-08             408           52\n",
       "4     1000  2018-09             466           58\n",
       "5     1000  2018-10             350           57\n",
       "6     1000  2018-11             338           43\n",
       "7     1000  2018-12             333           46\n",
       "8     1001  2018-11             430           59\n",
       "9     1001  2018-12             414           63"
      ]
     },
     "execution_count": 36,
     "metadata": {},
     "output_type": "execute_result"
    }
   ],
   "source": [
    "all_calls.columns = ['user_id', 'month', 'duration_calls', 'count_calls']\n",
    "all_calls.head(10)\n"
   ]
  },
  {
   "cell_type": "markdown",
   "id": "70a14f14-09ba-41f1-8175-db6b73696e00",
   "metadata": {},
   "source": [
    "количество отправленных сообщений по месяцам;<a id='message'></a>\n",
    "сделаем то же самое, чтот и выше"
   ]
  },
  {
   "cell_type": "code",
   "execution_count": 37,
   "id": "d0f659f2-9c50-43bf-ba1a-13e263bf6e8c",
   "metadata": {},
   "outputs": [
    {
     "data": {
      "text/html": [
       "<div>\n",
       "<style scoped>\n",
       "    .dataframe tbody tr th:only-of-type {\n",
       "        vertical-align: middle;\n",
       "    }\n",
       "\n",
       "    .dataframe tbody tr th {\n",
       "        vertical-align: top;\n",
       "    }\n",
       "\n",
       "    .dataframe thead th {\n",
       "        text-align: right;\n",
       "    }\n",
       "</style>\n",
       "<table border=\"1\" class=\"dataframe\">\n",
       "  <thead>\n",
       "    <tr style=\"text-align: right;\">\n",
       "      <th></th>\n",
       "      <th>month</th>\n",
       "      <th>message_date</th>\n",
       "    </tr>\n",
       "  </thead>\n",
       "  <tbody>\n",
       "    <tr>\n",
       "      <th>0</th>\n",
       "      <td>2018-06</td>\n",
       "      <td>2018-06-27</td>\n",
       "    </tr>\n",
       "    <tr>\n",
       "      <th>1</th>\n",
       "      <td>2018-10</td>\n",
       "      <td>2018-10-08</td>\n",
       "    </tr>\n",
       "    <tr>\n",
       "      <th>2</th>\n",
       "      <td>2018-08</td>\n",
       "      <td>2018-08-04</td>\n",
       "    </tr>\n",
       "    <tr>\n",
       "      <th>3</th>\n",
       "      <td>2018-06</td>\n",
       "      <td>2018-06-16</td>\n",
       "    </tr>\n",
       "    <tr>\n",
       "      <th>4</th>\n",
       "      <td>2018-12</td>\n",
       "      <td>2018-12-05</td>\n",
       "    </tr>\n",
       "  </tbody>\n",
       "</table>\n",
       "</div>"
      ],
      "text/plain": [
       "     month message_date\n",
       "0  2018-06   2018-06-27\n",
       "1  2018-10   2018-10-08\n",
       "2  2018-08   2018-08-04\n",
       "3  2018-06   2018-06-16\n",
       "4  2018-12   2018-12-05"
      ]
     },
     "execution_count": 37,
     "metadata": {},
     "output_type": "execute_result"
    }
   ],
   "source": [
    "messages['month'] = messages.message_date.dt.to_period('M')\n",
    "\n",
    "messages[['month', 'message_date']].head()"
   ]
  },
  {
   "cell_type": "code",
   "execution_count": 38,
   "id": "613c2aa7-4cf2-448d-bb41-e330d73ce297",
   "metadata": {},
   "outputs": [
    {
     "data": {
      "text/html": [
       "<div>\n",
       "<style scoped>\n",
       "    .dataframe tbody tr th:only-of-type {\n",
       "        vertical-align: middle;\n",
       "    }\n",
       "\n",
       "    .dataframe tbody tr th {\n",
       "        vertical-align: top;\n",
       "    }\n",
       "\n",
       "    .dataframe thead th {\n",
       "        text-align: right;\n",
       "    }\n",
       "</style>\n",
       "<table border=\"1\" class=\"dataframe\">\n",
       "  <thead>\n",
       "    <tr style=\"text-align: right;\">\n",
       "      <th></th>\n",
       "      <th>user_id</th>\n",
       "      <th>month</th>\n",
       "      <th>message_count</th>\n",
       "    </tr>\n",
       "  </thead>\n",
       "  <tbody>\n",
       "    <tr>\n",
       "      <th>0</th>\n",
       "      <td>1000</td>\n",
       "      <td>2018-05</td>\n",
       "      <td>22</td>\n",
       "    </tr>\n",
       "    <tr>\n",
       "      <th>1</th>\n",
       "      <td>1000</td>\n",
       "      <td>2018-06</td>\n",
       "      <td>60</td>\n",
       "    </tr>\n",
       "    <tr>\n",
       "      <th>2</th>\n",
       "      <td>1000</td>\n",
       "      <td>2018-07</td>\n",
       "      <td>75</td>\n",
       "    </tr>\n",
       "    <tr>\n",
       "      <th>3</th>\n",
       "      <td>1000</td>\n",
       "      <td>2018-08</td>\n",
       "      <td>81</td>\n",
       "    </tr>\n",
       "    <tr>\n",
       "      <th>4</th>\n",
       "      <td>1000</td>\n",
       "      <td>2018-09</td>\n",
       "      <td>57</td>\n",
       "    </tr>\n",
       "    <tr>\n",
       "      <th>5</th>\n",
       "      <td>1000</td>\n",
       "      <td>2018-10</td>\n",
       "      <td>73</td>\n",
       "    </tr>\n",
       "    <tr>\n",
       "      <th>6</th>\n",
       "      <td>1000</td>\n",
       "      <td>2018-11</td>\n",
       "      <td>58</td>\n",
       "    </tr>\n",
       "    <tr>\n",
       "      <th>7</th>\n",
       "      <td>1000</td>\n",
       "      <td>2018-12</td>\n",
       "      <td>70</td>\n",
       "    </tr>\n",
       "    <tr>\n",
       "      <th>8</th>\n",
       "      <td>1002</td>\n",
       "      <td>2018-06</td>\n",
       "      <td>4</td>\n",
       "    </tr>\n",
       "    <tr>\n",
       "      <th>9</th>\n",
       "      <td>1002</td>\n",
       "      <td>2018-07</td>\n",
       "      <td>11</td>\n",
       "    </tr>\n",
       "  </tbody>\n",
       "</table>\n",
       "</div>"
      ],
      "text/plain": [
       "   user_id    month  message_count\n",
       "0     1000  2018-05             22\n",
       "1     1000  2018-06             60\n",
       "2     1000  2018-07             75\n",
       "3     1000  2018-08             81\n",
       "4     1000  2018-09             57\n",
       "5     1000  2018-10             73\n",
       "6     1000  2018-11             58\n",
       "7     1000  2018-12             70\n",
       "8     1002  2018-06              4\n",
       "9     1002  2018-07             11"
      ]
     },
     "execution_count": 38,
     "metadata": {},
     "output_type": "execute_result"
    }
   ],
   "source": [
    "all_messages = messages.groupby(['user_id', 'month']).id.agg(['count']).reset_index()\n",
    "all_messages.columns = all_messages.columns.str.replace('count', 'message_count')\n",
    "all_messages.head(10)"
   ]
  },
  {
   "cell_type": "markdown",
   "id": "3af4881e-6e37-4d32-a37e-7efbd98a3bb8",
   "metadata": {},
   "source": [
    "объем израсходованного интернет-трафика по месяцам<a id='month_internet'> </a>:\n",
    "- сделаем столбец с месяцами\n",
    "- округлим до наибольшего целого гб"
   ]
  },
  {
   "cell_type": "code",
   "execution_count": 39,
   "id": "3fba0b06-04d0-4751-80a6-b79b40fe2780",
   "metadata": {},
   "outputs": [
    {
     "data": {
      "text/html": [
       "<div>\n",
       "<style scoped>\n",
       "    .dataframe tbody tr th:only-of-type {\n",
       "        vertical-align: middle;\n",
       "    }\n",
       "\n",
       "    .dataframe tbody tr th {\n",
       "        vertical-align: top;\n",
       "    }\n",
       "\n",
       "    .dataframe thead th {\n",
       "        text-align: right;\n",
       "    }\n",
       "</style>\n",
       "<table border=\"1\" class=\"dataframe\">\n",
       "  <thead>\n",
       "    <tr style=\"text-align: right;\">\n",
       "      <th></th>\n",
       "      <th>month</th>\n",
       "      <th>session_date</th>\n",
       "    </tr>\n",
       "  </thead>\n",
       "  <tbody>\n",
       "    <tr>\n",
       "      <th>0</th>\n",
       "      <td>2018-11</td>\n",
       "      <td>2018-11-25</td>\n",
       "    </tr>\n",
       "    <tr>\n",
       "      <th>1</th>\n",
       "      <td>2018-09</td>\n",
       "      <td>2018-09-07</td>\n",
       "    </tr>\n",
       "    <tr>\n",
       "      <th>2</th>\n",
       "      <td>2018-06</td>\n",
       "      <td>2018-06-25</td>\n",
       "    </tr>\n",
       "    <tr>\n",
       "      <th>3</th>\n",
       "      <td>2018-08</td>\n",
       "      <td>2018-08-22</td>\n",
       "    </tr>\n",
       "    <tr>\n",
       "      <th>4</th>\n",
       "      <td>2018-09</td>\n",
       "      <td>2018-09-24</td>\n",
       "    </tr>\n",
       "  </tbody>\n",
       "</table>\n",
       "</div>"
      ],
      "text/plain": [
       "     month session_date\n",
       "0  2018-11   2018-11-25\n",
       "1  2018-09   2018-09-07\n",
       "2  2018-06   2018-06-25\n",
       "3  2018-08   2018-08-22\n",
       "4  2018-09   2018-09-24"
      ]
     },
     "execution_count": 39,
     "metadata": {},
     "output_type": "execute_result"
    }
   ],
   "source": [
    "internet['month'] = internet.session_date.dt.to_period('M')\n",
    "internet[['month', 'session_date']].head()\n"
   ]
  },
  {
   "cell_type": "code",
   "execution_count": 40,
   "id": "e92080e6-db23-4cfe-be03-b038fae2d7ec",
   "metadata": {},
   "outputs": [
    {
     "data": {
      "text/html": [
       "<div>\n",
       "<style scoped>\n",
       "    .dataframe tbody tr th:only-of-type {\n",
       "        vertical-align: middle;\n",
       "    }\n",
       "\n",
       "    .dataframe tbody tr th {\n",
       "        vertical-align: top;\n",
       "    }\n",
       "\n",
       "    .dataframe thead th {\n",
       "        text-align: right;\n",
       "    }\n",
       "</style>\n",
       "<table border=\"1\" class=\"dataframe\">\n",
       "  <thead>\n",
       "    <tr style=\"text-align: right;\">\n",
       "      <th></th>\n",
       "      <th>user_id</th>\n",
       "      <th>month</th>\n",
       "      <th>gb_used</th>\n",
       "    </tr>\n",
       "  </thead>\n",
       "  <tbody>\n",
       "    <tr>\n",
       "      <th>0</th>\n",
       "      <td>1000</td>\n",
       "      <td>2018-05</td>\n",
       "      <td>3</td>\n",
       "    </tr>\n",
       "    <tr>\n",
       "      <th>1</th>\n",
       "      <td>1000</td>\n",
       "      <td>2018-06</td>\n",
       "      <td>23</td>\n",
       "    </tr>\n",
       "    <tr>\n",
       "      <th>2</th>\n",
       "      <td>1000</td>\n",
       "      <td>2018-07</td>\n",
       "      <td>14</td>\n",
       "    </tr>\n",
       "    <tr>\n",
       "      <th>3</th>\n",
       "      <td>1000</td>\n",
       "      <td>2018-08</td>\n",
       "      <td>14</td>\n",
       "    </tr>\n",
       "    <tr>\n",
       "      <th>4</th>\n",
       "      <td>1000</td>\n",
       "      <td>2018-09</td>\n",
       "      <td>15</td>\n",
       "    </tr>\n",
       "    <tr>\n",
       "      <th>5</th>\n",
       "      <td>1000</td>\n",
       "      <td>2018-10</td>\n",
       "      <td>15</td>\n",
       "    </tr>\n",
       "    <tr>\n",
       "      <th>6</th>\n",
       "      <td>1000</td>\n",
       "      <td>2018-11</td>\n",
       "      <td>15</td>\n",
       "    </tr>\n",
       "    <tr>\n",
       "      <th>7</th>\n",
       "      <td>1000</td>\n",
       "      <td>2018-12</td>\n",
       "      <td>10</td>\n",
       "    </tr>\n",
       "    <tr>\n",
       "      <th>8</th>\n",
       "      <td>1001</td>\n",
       "      <td>2018-11</td>\n",
       "      <td>18</td>\n",
       "    </tr>\n",
       "    <tr>\n",
       "      <th>9</th>\n",
       "      <td>1001</td>\n",
       "      <td>2018-12</td>\n",
       "      <td>14</td>\n",
       "    </tr>\n",
       "    <tr>\n",
       "      <th>10</th>\n",
       "      <td>1002</td>\n",
       "      <td>2018-06</td>\n",
       "      <td>11</td>\n",
       "    </tr>\n",
       "    <tr>\n",
       "      <th>11</th>\n",
       "      <td>1002</td>\n",
       "      <td>2018-07</td>\n",
       "      <td>18</td>\n",
       "    </tr>\n",
       "  </tbody>\n",
       "</table>\n",
       "</div>"
      ],
      "text/plain": [
       "    user_id    month  gb_used\n",
       "0      1000  2018-05        3\n",
       "1      1000  2018-06       23\n",
       "2      1000  2018-07       14\n",
       "3      1000  2018-08       14\n",
       "4      1000  2018-09       15\n",
       "5      1000  2018-10       15\n",
       "6      1000  2018-11       15\n",
       "7      1000  2018-12       10\n",
       "8      1001  2018-11       18\n",
       "9      1001  2018-12       14\n",
       "10     1002  2018-06       11\n",
       "11     1002  2018-07       18"
      ]
     },
     "execution_count": 40,
     "metadata": {},
     "output_type": "execute_result"
    }
   ],
   "source": [
    "\n",
    "month_internet = internet.groupby(['user_id', 'month']).mb_used.agg(['sum']).reset_index()\n",
    "month_internet['gb_used'] = month_internet['sum'].apply(lambda x: math.ceil(x/1024))\n",
    "\n",
    "month_internet.drop('sum', axis=1, inplace=True)\n",
    "month_internet.head(12)"
   ]
  },
  {
   "cell_type": "markdown",
   "id": "2b541f2e-3681-4d0a-b097-deae67e0bf26",
   "metadata": {},
   "source": [
    "- сделаем переменную с нужными нам столбцами из users\n",
    "- проверим количество уникальных id в каждом тарифе чтобы их не потерять"
   ]
  },
  {
   "cell_type": "code",
   "execution_count": 41,
   "id": "9949f4e2-a231-4ef3-a3ce-4208eb5bcbd9",
   "metadata": {},
   "outputs": [
    {
     "data": {
      "text/html": [
       "<div>\n",
       "<style scoped>\n",
       "    .dataframe tbody tr th:only-of-type {\n",
       "        vertical-align: middle;\n",
       "    }\n",
       "\n",
       "    .dataframe tbody tr th {\n",
       "        vertical-align: top;\n",
       "    }\n",
       "\n",
       "    .dataframe thead th {\n",
       "        text-align: right;\n",
       "    }\n",
       "</style>\n",
       "<table border=\"1\" class=\"dataframe\">\n",
       "  <thead>\n",
       "    <tr style=\"text-align: right;\">\n",
       "      <th></th>\n",
       "      <th>user_id</th>\n",
       "      <th>tariff</th>\n",
       "      <th>age</th>\n",
       "      <th>city</th>\n",
       "      <th>churn_date</th>\n",
       "    </tr>\n",
       "  </thead>\n",
       "  <tbody>\n",
       "    <tr>\n",
       "      <th>0</th>\n",
       "      <td>1000</td>\n",
       "      <td>ultra</td>\n",
       "      <td>52</td>\n",
       "      <td>краснодар</td>\n",
       "      <td>NaT</td>\n",
       "    </tr>\n",
       "    <tr>\n",
       "      <th>1</th>\n",
       "      <td>1001</td>\n",
       "      <td>smart</td>\n",
       "      <td>41</td>\n",
       "      <td>москва</td>\n",
       "      <td>NaT</td>\n",
       "    </tr>\n",
       "    <tr>\n",
       "      <th>2</th>\n",
       "      <td>1002</td>\n",
       "      <td>smart</td>\n",
       "      <td>59</td>\n",
       "      <td>стерлитамак</td>\n",
       "      <td>NaT</td>\n",
       "    </tr>\n",
       "    <tr>\n",
       "      <th>3</th>\n",
       "      <td>1003</td>\n",
       "      <td>ultra</td>\n",
       "      <td>23</td>\n",
       "      <td>москва</td>\n",
       "      <td>NaT</td>\n",
       "    </tr>\n",
       "    <tr>\n",
       "      <th>4</th>\n",
       "      <td>1004</td>\n",
       "      <td>ultra</td>\n",
       "      <td>68</td>\n",
       "      <td>новокузнецк</td>\n",
       "      <td>NaT</td>\n",
       "    </tr>\n",
       "  </tbody>\n",
       "</table>\n",
       "</div>"
      ],
      "text/plain": [
       "   user_id tariff  age         city churn_date\n",
       "0     1000  ultra   52    краснодар        NaT\n",
       "1     1001  smart   41       москва        NaT\n",
       "2     1002  smart   59  стерлитамак        NaT\n",
       "3     1003  ultra   23       москва        NaT\n",
       "4     1004  ultra   68  новокузнецк        NaT"
      ]
     },
     "execution_count": 41,
     "metadata": {},
     "output_type": "execute_result"
    }
   ],
   "source": [
    "user_info = users[['user_id', 'tariff', 'age', 'city', 'churn_date']]\n",
    "user_info.head()"
   ]
  },
  {
   "cell_type": "markdown",
   "id": "04308c35-ff9d-4ffe-b575-f55a2534f474",
   "metadata": {},
   "source": [
    "- раскидаем тарифы в отдельные переменные, чтобы с ними было удобнее работать\n",
    "- объединим с остальными таблицами\n",
    "- проверим количество уникальных id в каждой переменной"
   ]
  },
  {
   "cell_type": "code",
   "execution_count": 42,
   "id": "23569e95-b239-4129-af48-60a4e3a8560d",
   "metadata": {},
   "outputs": [
    {
     "data": {
      "text/plain": [
       "tariff\n",
       "smart    351\n",
       "ultra    149\n",
       "Name: user_id, dtype: int64"
      ]
     },
     "execution_count": 42,
     "metadata": {},
     "output_type": "execute_result"
    }
   ],
   "source": [
    "user_info.groupby('tariff').user_id.count()"
   ]
  },
  {
   "cell_type": "code",
   "execution_count": 43,
   "id": "ef014325-9075-47cd-965c-bc0a848aa3ed",
   "metadata": {},
   "outputs": [
    {
     "data": {
      "text/plain": [
       "351"
      ]
     },
     "execution_count": 43,
     "metadata": {},
     "output_type": "execute_result"
    }
   ],
   "source": [
    "smart_users = user_info.query('tariff == \"smart\"').merge(all_calls, on=['user_id'], how='left')\n",
    "smart_users = smart_users.merge(month_internet, on=['user_id', 'month'], how='left')\n",
    "smart_users = smart_users.merge(all_messages, on=['user_id', 'month'], how='left')\n",
    "\n",
    "len(smart_users.user_id.unique())"
   ]
  },
  {
   "cell_type": "code",
   "execution_count": 44,
   "id": "c2749823-e2f2-4f8e-a775-bd65e2a6359d",
   "metadata": {},
   "outputs": [
    {
     "data": {
      "text/html": [
       "<div>\n",
       "<style scoped>\n",
       "    .dataframe tbody tr th:only-of-type {\n",
       "        vertical-align: middle;\n",
       "    }\n",
       "\n",
       "    .dataframe tbody tr th {\n",
       "        vertical-align: top;\n",
       "    }\n",
       "\n",
       "    .dataframe thead th {\n",
       "        text-align: right;\n",
       "    }\n",
       "</style>\n",
       "<table border=\"1\" class=\"dataframe\">\n",
       "  <thead>\n",
       "    <tr style=\"text-align: right;\">\n",
       "      <th></th>\n",
       "      <th>user_id</th>\n",
       "      <th>tariff</th>\n",
       "      <th>age</th>\n",
       "      <th>city</th>\n",
       "      <th>churn_date</th>\n",
       "      <th>month</th>\n",
       "      <th>duration_calls</th>\n",
       "      <th>count_calls</th>\n",
       "      <th>gb_used</th>\n",
       "      <th>message_count</th>\n",
       "    </tr>\n",
       "  </thead>\n",
       "  <tbody>\n",
       "    <tr>\n",
       "      <th>0</th>\n",
       "      <td>1001</td>\n",
       "      <td>smart</td>\n",
       "      <td>41</td>\n",
       "      <td>москва</td>\n",
       "      <td>NaT</td>\n",
       "      <td>2018-11</td>\n",
       "      <td>430.0</td>\n",
       "      <td>59.0</td>\n",
       "      <td>18.0</td>\n",
       "      <td>NaN</td>\n",
       "    </tr>\n",
       "    <tr>\n",
       "      <th>1</th>\n",
       "      <td>1001</td>\n",
       "      <td>smart</td>\n",
       "      <td>41</td>\n",
       "      <td>москва</td>\n",
       "      <td>NaT</td>\n",
       "      <td>2018-12</td>\n",
       "      <td>414.0</td>\n",
       "      <td>63.0</td>\n",
       "      <td>14.0</td>\n",
       "      <td>NaN</td>\n",
       "    </tr>\n",
       "    <tr>\n",
       "      <th>2</th>\n",
       "      <td>1002</td>\n",
       "      <td>smart</td>\n",
       "      <td>59</td>\n",
       "      <td>стерлитамак</td>\n",
       "      <td>NaT</td>\n",
       "      <td>2018-06</td>\n",
       "      <td>117.0</td>\n",
       "      <td>15.0</td>\n",
       "      <td>11.0</td>\n",
       "      <td>4.0</td>\n",
       "    </tr>\n",
       "    <tr>\n",
       "      <th>3</th>\n",
       "      <td>1002</td>\n",
       "      <td>smart</td>\n",
       "      <td>59</td>\n",
       "      <td>стерлитамак</td>\n",
       "      <td>NaT</td>\n",
       "      <td>2018-07</td>\n",
       "      <td>214.0</td>\n",
       "      <td>26.0</td>\n",
       "      <td>18.0</td>\n",
       "      <td>11.0</td>\n",
       "    </tr>\n",
       "    <tr>\n",
       "      <th>4</th>\n",
       "      <td>1002</td>\n",
       "      <td>smart</td>\n",
       "      <td>59</td>\n",
       "      <td>стерлитамак</td>\n",
       "      <td>NaT</td>\n",
       "      <td>2018-08</td>\n",
       "      <td>289.0</td>\n",
       "      <td>42.0</td>\n",
       "      <td>20.0</td>\n",
       "      <td>13.0</td>\n",
       "    </tr>\n",
       "  </tbody>\n",
       "</table>\n",
       "</div>"
      ],
      "text/plain": [
       "   user_id tariff  age         city churn_date    month  duration_calls  \\\n",
       "0     1001  smart   41       москва        NaT  2018-11           430.0   \n",
       "1     1001  smart   41       москва        NaT  2018-12           414.0   \n",
       "2     1002  smart   59  стерлитамак        NaT  2018-06           117.0   \n",
       "3     1002  smart   59  стерлитамак        NaT  2018-07           214.0   \n",
       "4     1002  smart   59  стерлитамак        NaT  2018-08           289.0   \n",
       "\n",
       "   count_calls  gb_used  message_count  \n",
       "0         59.0     18.0            NaN  \n",
       "1         63.0     14.0            NaN  \n",
       "2         15.0     11.0            4.0  \n",
       "3         26.0     18.0           11.0  \n",
       "4         42.0     20.0           13.0  "
      ]
     },
     "execution_count": 44,
     "metadata": {},
     "output_type": "execute_result"
    }
   ],
   "source": [
    "smart_users.head()"
   ]
  },
  {
   "cell_type": "code",
   "execution_count": 45,
   "id": "207c434f-9784-4906-b0d7-c95f10012e42",
   "metadata": {},
   "outputs": [
    {
     "data": {
      "text/plain": [
       "149"
      ]
     },
     "execution_count": 45,
     "metadata": {},
     "output_type": "execute_result"
    }
   ],
   "source": [
    "ultra_users = user_info.query('tariff == \"ultra\"').merge(all_calls, on=['user_id'], how='left')\n",
    "ultra_users = ultra_users.merge(month_internet, on=['user_id', 'month'], how='left')\n",
    "ultra_users = ultra_users.merge(all_messages, on=['user_id', 'month'], how='left')\n",
    "\n",
    "len(ultra_users.user_id.unique())"
   ]
  },
  {
   "cell_type": "code",
   "execution_count": 46,
   "id": "c06e0853-dda8-474b-b3fb-216173825d24",
   "metadata": {},
   "outputs": [
    {
     "data": {
      "text/html": [
       "<div>\n",
       "<style scoped>\n",
       "    .dataframe tbody tr th:only-of-type {\n",
       "        vertical-align: middle;\n",
       "    }\n",
       "\n",
       "    .dataframe tbody tr th {\n",
       "        vertical-align: top;\n",
       "    }\n",
       "\n",
       "    .dataframe thead th {\n",
       "        text-align: right;\n",
       "    }\n",
       "</style>\n",
       "<table border=\"1\" class=\"dataframe\">\n",
       "  <thead>\n",
       "    <tr style=\"text-align: right;\">\n",
       "      <th></th>\n",
       "      <th>user_id</th>\n",
       "      <th>tariff</th>\n",
       "      <th>age</th>\n",
       "      <th>city</th>\n",
       "      <th>churn_date</th>\n",
       "      <th>month</th>\n",
       "      <th>duration_calls</th>\n",
       "      <th>count_calls</th>\n",
       "      <th>gb_used</th>\n",
       "      <th>message_count</th>\n",
       "    </tr>\n",
       "  </thead>\n",
       "  <tbody>\n",
       "    <tr>\n",
       "      <th>0</th>\n",
       "      <td>1000</td>\n",
       "      <td>ultra</td>\n",
       "      <td>52</td>\n",
       "      <td>краснодар</td>\n",
       "      <td>NaT</td>\n",
       "      <td>2018-05</td>\n",
       "      <td>159.0</td>\n",
       "      <td>22.0</td>\n",
       "      <td>3.0</td>\n",
       "      <td>22.0</td>\n",
       "    </tr>\n",
       "    <tr>\n",
       "      <th>1</th>\n",
       "      <td>1000</td>\n",
       "      <td>ultra</td>\n",
       "      <td>52</td>\n",
       "      <td>краснодар</td>\n",
       "      <td>NaT</td>\n",
       "      <td>2018-06</td>\n",
       "      <td>172.0</td>\n",
       "      <td>43.0</td>\n",
       "      <td>23.0</td>\n",
       "      <td>60.0</td>\n",
       "    </tr>\n",
       "    <tr>\n",
       "      <th>2</th>\n",
       "      <td>1000</td>\n",
       "      <td>ultra</td>\n",
       "      <td>52</td>\n",
       "      <td>краснодар</td>\n",
       "      <td>NaT</td>\n",
       "      <td>2018-07</td>\n",
       "      <td>340.0</td>\n",
       "      <td>47.0</td>\n",
       "      <td>14.0</td>\n",
       "      <td>75.0</td>\n",
       "    </tr>\n",
       "    <tr>\n",
       "      <th>3</th>\n",
       "      <td>1000</td>\n",
       "      <td>ultra</td>\n",
       "      <td>52</td>\n",
       "      <td>краснодар</td>\n",
       "      <td>NaT</td>\n",
       "      <td>2018-08</td>\n",
       "      <td>408.0</td>\n",
       "      <td>52.0</td>\n",
       "      <td>14.0</td>\n",
       "      <td>81.0</td>\n",
       "    </tr>\n",
       "    <tr>\n",
       "      <th>4</th>\n",
       "      <td>1000</td>\n",
       "      <td>ultra</td>\n",
       "      <td>52</td>\n",
       "      <td>краснодар</td>\n",
       "      <td>NaT</td>\n",
       "      <td>2018-09</td>\n",
       "      <td>466.0</td>\n",
       "      <td>58.0</td>\n",
       "      <td>15.0</td>\n",
       "      <td>57.0</td>\n",
       "    </tr>\n",
       "  </tbody>\n",
       "</table>\n",
       "</div>"
      ],
      "text/plain": [
       "   user_id tariff  age       city churn_date    month  duration_calls  \\\n",
       "0     1000  ultra   52  краснодар        NaT  2018-05           159.0   \n",
       "1     1000  ultra   52  краснодар        NaT  2018-06           172.0   \n",
       "2     1000  ultra   52  краснодар        NaT  2018-07           340.0   \n",
       "3     1000  ultra   52  краснодар        NaT  2018-08           408.0   \n",
       "4     1000  ultra   52  краснодар        NaT  2018-09           466.0   \n",
       "\n",
       "   count_calls  gb_used  message_count  \n",
       "0         22.0      3.0           22.0  \n",
       "1         43.0     23.0           60.0  \n",
       "2         47.0     14.0           75.0  \n",
       "3         52.0     14.0           81.0  \n",
       "4         58.0     15.0           57.0  "
      ]
     },
     "execution_count": 46,
     "metadata": {},
     "output_type": "execute_result"
    }
   ],
   "source": [
    "ultra_users.head()"
   ]
  },
  {
   "cell_type": "markdown",
   "id": "77957563-e51a-4422-81f9-0575793488ba",
   "metadata": {},
   "source": [
    "помесячная выручка <a id='proceeds_of_user'></a>"
   ]
  },
  {
   "cell_type": "markdown",
   "id": "320026df-a901-4887-9a5d-86048bf86eec",
   "metadata": {},
   "source": [
    "Чтобы посчитать ежемесячную выручку с каждого клиента напишем функцию, а затем применим ее к каждой переменной"
   ]
  },
  {
   "cell_type": "code",
   "execution_count": 47,
   "id": "a75e6a97-0f9d-4950-bbac-108bbc31b8fc",
   "metadata": {},
   "outputs": [],
   "source": [
    "def proceeds_of_user(gb_used, duration_calls, message_count, tariff):\n",
    "    i = 0\n",
    "    total_gb = 0\n",
    "    total_calls = 0\n",
    "    total_message = 0\n",
    "    \n",
    "    if tariff == 'ultra':\n",
    "        i = 1\n",
    "        \n",
    "    if gb_used > tariffs.gb_month_included[i]:\n",
    "        total_gb = (gb_used - tariffs.gb_month_included[i]) * tariffs.rub_per_gb[i]\n",
    "    if duration_calls > tariffs.minutes_included[i]:\n",
    "        total_calls = (duration_calls - tariffs.minutes_included[i]) * tariffs.rub_per_minute[i]\n",
    "    if message_count > tariffs.messages_included[i]:\n",
    "        total_message = (message_count - tariffs.messages_included[i]) * tariffs.rub_per_message[i]\n",
    "    return total_gb + total_calls + total_message + tariffs.rub_monthly_fee[i]\n"
   ]
  },
  {
   "cell_type": "code",
   "execution_count": 48,
   "id": "d46c411d-9f9f-4fbc-a4dd-5aca3fd2709b",
   "metadata": {},
   "outputs": [],
   "source": [
    "ultra_users['proceeds'] = ultra_users.apply(lambda x: \n",
    "                                      proceeds_of_user(x['gb_used'], \n",
    "                                                       x['duration_calls'], \n",
    "                                                       x['message_count'], \n",
    "                                                       x['tariff']), axis=1)\n"
   ]
  },
  {
   "cell_type": "code",
   "execution_count": 49,
   "id": "4be2c93e-3bba-444b-a7ff-508dfc97fd75",
   "metadata": {},
   "outputs": [
    {
     "data": {
      "text/html": [
       "<div>\n",
       "<style scoped>\n",
       "    .dataframe tbody tr th:only-of-type {\n",
       "        vertical-align: middle;\n",
       "    }\n",
       "\n",
       "    .dataframe tbody tr th {\n",
       "        vertical-align: top;\n",
       "    }\n",
       "\n",
       "    .dataframe thead th {\n",
       "        text-align: right;\n",
       "    }\n",
       "</style>\n",
       "<table border=\"1\" class=\"dataframe\">\n",
       "  <thead>\n",
       "    <tr style=\"text-align: right;\">\n",
       "      <th></th>\n",
       "      <th>user_id</th>\n",
       "      <th>tariff</th>\n",
       "      <th>age</th>\n",
       "      <th>city</th>\n",
       "      <th>churn_date</th>\n",
       "      <th>month</th>\n",
       "      <th>duration_calls</th>\n",
       "      <th>count_calls</th>\n",
       "      <th>gb_used</th>\n",
       "      <th>message_count</th>\n",
       "      <th>proceeds</th>\n",
       "    </tr>\n",
       "  </thead>\n",
       "  <tbody>\n",
       "    <tr>\n",
       "      <th>271</th>\n",
       "      <td>1165</td>\n",
       "      <td>ultra</td>\n",
       "      <td>19</td>\n",
       "      <td>самара</td>\n",
       "      <td>NaT</td>\n",
       "      <td>2018-12</td>\n",
       "      <td>278.0</td>\n",
       "      <td>37.0</td>\n",
       "      <td>32.0</td>\n",
       "      <td>224.0</td>\n",
       "      <td>2250.0</td>\n",
       "    </tr>\n",
       "    <tr>\n",
       "      <th>52</th>\n",
       "      <td>1028</td>\n",
       "      <td>ultra</td>\n",
       "      <td>20</td>\n",
       "      <td>тверь</td>\n",
       "      <td>NaT</td>\n",
       "      <td>2018-10</td>\n",
       "      <td>954.0</td>\n",
       "      <td>138.0</td>\n",
       "      <td>22.0</td>\n",
       "      <td>223.0</td>\n",
       "      <td>1950.0</td>\n",
       "    </tr>\n",
       "    <tr>\n",
       "      <th>270</th>\n",
       "      <td>1165</td>\n",
       "      <td>ultra</td>\n",
       "      <td>19</td>\n",
       "      <td>самара</td>\n",
       "      <td>NaT</td>\n",
       "      <td>2018-11</td>\n",
       "      <td>232.0</td>\n",
       "      <td>34.0</td>\n",
       "      <td>42.0</td>\n",
       "      <td>197.0</td>\n",
       "      <td>3750.0</td>\n",
       "    </tr>\n",
       "    <tr>\n",
       "      <th>513</th>\n",
       "      <td>1300</td>\n",
       "      <td>ultra</td>\n",
       "      <td>40</td>\n",
       "      <td>москва</td>\n",
       "      <td>NaT</td>\n",
       "      <td>2018-10</td>\n",
       "      <td>731.0</td>\n",
       "      <td>111.0</td>\n",
       "      <td>38.0</td>\n",
       "      <td>191.0</td>\n",
       "      <td>3150.0</td>\n",
       "    </tr>\n",
       "    <tr>\n",
       "      <th>278</th>\n",
       "      <td>1167</td>\n",
       "      <td>ultra</td>\n",
       "      <td>30</td>\n",
       "      <td>кемерово</td>\n",
       "      <td>NaT</td>\n",
       "      <td>2018-10</td>\n",
       "      <td>727.0</td>\n",
       "      <td>97.0</td>\n",
       "      <td>16.0</td>\n",
       "      <td>190.0</td>\n",
       "      <td>1950.0</td>\n",
       "    </tr>\n",
       "    <tr>\n",
       "      <th>515</th>\n",
       "      <td>1300</td>\n",
       "      <td>ultra</td>\n",
       "      <td>40</td>\n",
       "      <td>москва</td>\n",
       "      <td>NaT</td>\n",
       "      <td>2018-12</td>\n",
       "      <td>623.0</td>\n",
       "      <td>97.0</td>\n",
       "      <td>35.0</td>\n",
       "      <td>183.0</td>\n",
       "      <td>2700.0</td>\n",
       "    </tr>\n",
       "    <tr>\n",
       "      <th>53</th>\n",
       "      <td>1028</td>\n",
       "      <td>ultra</td>\n",
       "      <td>20</td>\n",
       "      <td>тверь</td>\n",
       "      <td>NaT</td>\n",
       "      <td>2018-11</td>\n",
       "      <td>1021.0</td>\n",
       "      <td>133.0</td>\n",
       "      <td>18.0</td>\n",
       "      <td>182.0</td>\n",
       "      <td>1950.0</td>\n",
       "    </tr>\n",
       "    <tr>\n",
       "      <th>15</th>\n",
       "      <td>1004</td>\n",
       "      <td>ultra</td>\n",
       "      <td>68</td>\n",
       "      <td>новокузнецк</td>\n",
       "      <td>NaT</td>\n",
       "      <td>2018-07</td>\n",
       "      <td>135.0</td>\n",
       "      <td>22.0</td>\n",
       "      <td>22.0</td>\n",
       "      <td>181.0</td>\n",
       "      <td>1950.0</td>\n",
       "    </tr>\n",
       "    <tr>\n",
       "      <th>280</th>\n",
       "      <td>1167</td>\n",
       "      <td>ultra</td>\n",
       "      <td>30</td>\n",
       "      <td>кемерово</td>\n",
       "      <td>NaT</td>\n",
       "      <td>2018-12</td>\n",
       "      <td>841.0</td>\n",
       "      <td>114.0</td>\n",
       "      <td>25.0</td>\n",
       "      <td>178.0</td>\n",
       "      <td>1950.0</td>\n",
       "    </tr>\n",
       "    <tr>\n",
       "      <th>512</th>\n",
       "      <td>1300</td>\n",
       "      <td>ultra</td>\n",
       "      <td>40</td>\n",
       "      <td>москва</td>\n",
       "      <td>NaT</td>\n",
       "      <td>2018-09</td>\n",
       "      <td>725.0</td>\n",
       "      <td>96.0</td>\n",
       "      <td>33.0</td>\n",
       "      <td>176.0</td>\n",
       "      <td>2400.0</td>\n",
       "    </tr>\n",
       "  </tbody>\n",
       "</table>\n",
       "</div>"
      ],
      "text/plain": [
       "     user_id tariff  age         city churn_date    month  duration_calls  \\\n",
       "271     1165  ultra   19       самара        NaT  2018-12           278.0   \n",
       "52      1028  ultra   20        тверь        NaT  2018-10           954.0   \n",
       "270     1165  ultra   19       самара        NaT  2018-11           232.0   \n",
       "513     1300  ultra   40       москва        NaT  2018-10           731.0   \n",
       "278     1167  ultra   30     кемерово        NaT  2018-10           727.0   \n",
       "515     1300  ultra   40       москва        NaT  2018-12           623.0   \n",
       "53      1028  ultra   20        тверь        NaT  2018-11          1021.0   \n",
       "15      1004  ultra   68  новокузнецк        NaT  2018-07           135.0   \n",
       "280     1167  ultra   30     кемерово        NaT  2018-12           841.0   \n",
       "512     1300  ultra   40       москва        NaT  2018-09           725.0   \n",
       "\n",
       "     count_calls  gb_used  message_count  proceeds  \n",
       "271         37.0     32.0          224.0    2250.0  \n",
       "52         138.0     22.0          223.0    1950.0  \n",
       "270         34.0     42.0          197.0    3750.0  \n",
       "513        111.0     38.0          191.0    3150.0  \n",
       "278         97.0     16.0          190.0    1950.0  \n",
       "515         97.0     35.0          183.0    2700.0  \n",
       "53         133.0     18.0          182.0    1950.0  \n",
       "15          22.0     22.0          181.0    1950.0  \n",
       "280        114.0     25.0          178.0    1950.0  \n",
       "512         96.0     33.0          176.0    2400.0  "
      ]
     },
     "execution_count": 49,
     "metadata": {},
     "output_type": "execute_result"
    }
   ],
   "source": [
    "ultra_users.sort_values('message_count', ascending=False).head(10)"
   ]
  },
  {
   "cell_type": "code",
   "execution_count": 50,
   "id": "01f39bce-cc31-4428-9e65-66ba4a4c4f44",
   "metadata": {},
   "outputs": [
    {
     "data": {
      "text/plain": [
       "user_id             0\n",
       "tariff              0\n",
       "age                 0\n",
       "city                0\n",
       "churn_date        880\n",
       "month               6\n",
       "duration_calls      6\n",
       "count_calls         6\n",
       "gb_used            16\n",
       "message_count     195\n",
       "proceeds            0\n",
       "dtype: int64"
      ]
     },
     "execution_count": 50,
     "metadata": {},
     "output_type": "execute_result"
    }
   ],
   "source": [
    "ultra_users.isna().sum()"
   ]
  },
  {
   "cell_type": "code",
   "execution_count": 103,
   "id": "659463b3-7651-4217-abd7-0c787ce597be",
   "metadata": {},
   "outputs": [],
   "source": [
    "ultra_users.fillna(value={'message_count': 0, 'duration_calls': 0, 'count_calls': 0, 'gb_used': 0}, inplace=True)"
   ]
  },
  {
   "cell_type": "code",
   "execution_count": 104,
   "id": "29631bb8-7e2a-4abe-bd13-f425b98c872e",
   "metadata": {},
   "outputs": [
    {
     "data": {
      "text/plain": [
       "user_id             0\n",
       "tariff              0\n",
       "age                 0\n",
       "city                0\n",
       "churn_date        880\n",
       "month               6\n",
       "duration_calls      0\n",
       "count_calls         0\n",
       "gb_used             0\n",
       "message_count       0\n",
       "proceeds            0\n",
       "dtype: int64"
      ]
     },
     "execution_count": 104,
     "metadata": {},
     "output_type": "execute_result"
    }
   ],
   "source": [
    "ultra_users.isna().sum()"
   ]
  },
  {
   "cell_type": "code",
   "execution_count": 51,
   "id": "42fa0378-2897-429f-8999-d3fca5aef499",
   "metadata": {},
   "outputs": [
    {
     "data": {
      "text/html": [
       "<div>\n",
       "<style scoped>\n",
       "    .dataframe tbody tr th:only-of-type {\n",
       "        vertical-align: middle;\n",
       "    }\n",
       "\n",
       "    .dataframe tbody tr th {\n",
       "        vertical-align: top;\n",
       "    }\n",
       "\n",
       "    .dataframe thead th {\n",
       "        text-align: right;\n",
       "    }\n",
       "</style>\n",
       "<table border=\"1\" class=\"dataframe\">\n",
       "  <thead>\n",
       "    <tr style=\"text-align: right;\">\n",
       "      <th></th>\n",
       "      <th>user_id</th>\n",
       "      <th>tariff</th>\n",
       "      <th>age</th>\n",
       "      <th>city</th>\n",
       "      <th>churn_date</th>\n",
       "      <th>month</th>\n",
       "      <th>duration_calls</th>\n",
       "      <th>count_calls</th>\n",
       "      <th>gb_used</th>\n",
       "      <th>message_count</th>\n",
       "      <th>proceeds</th>\n",
       "    </tr>\n",
       "  </thead>\n",
       "  <tbody>\n",
       "    <tr>\n",
       "      <th>151</th>\n",
       "      <td>1091</td>\n",
       "      <td>ultra</td>\n",
       "      <td>36</td>\n",
       "      <td>набережные челны</td>\n",
       "      <td>NaT</td>\n",
       "      <td>NaT</td>\n",
       "      <td>NaN</td>\n",
       "      <td>NaN</td>\n",
       "      <td>NaN</td>\n",
       "      <td>NaN</td>\n",
       "      <td>1950.0</td>\n",
       "    </tr>\n",
       "    <tr>\n",
       "      <th>197</th>\n",
       "      <td>1106</td>\n",
       "      <td>ultra</td>\n",
       "      <td>67</td>\n",
       "      <td>калуга</td>\n",
       "      <td>NaT</td>\n",
       "      <td>NaT</td>\n",
       "      <td>NaN</td>\n",
       "      <td>NaN</td>\n",
       "      <td>NaN</td>\n",
       "      <td>NaN</td>\n",
       "      <td>1950.0</td>\n",
       "    </tr>\n",
       "    <tr>\n",
       "      <th>228</th>\n",
       "      <td>1128</td>\n",
       "      <td>ultra</td>\n",
       "      <td>51</td>\n",
       "      <td>волжский</td>\n",
       "      <td>2018-12-23</td>\n",
       "      <td>NaT</td>\n",
       "      <td>NaN</td>\n",
       "      <td>NaN</td>\n",
       "      <td>NaN</td>\n",
       "      <td>NaN</td>\n",
       "      <td>1950.0</td>\n",
       "    </tr>\n",
       "    <tr>\n",
       "      <th>380</th>\n",
       "      <td>1231</td>\n",
       "      <td>ultra</td>\n",
       "      <td>63</td>\n",
       "      <td>чебоксары</td>\n",
       "      <td>NaT</td>\n",
       "      <td>NaT</td>\n",
       "      <td>NaN</td>\n",
       "      <td>NaN</td>\n",
       "      <td>NaN</td>\n",
       "      <td>NaN</td>\n",
       "      <td>1950.0</td>\n",
       "    </tr>\n",
       "    <tr>\n",
       "      <th>554</th>\n",
       "      <td>1328</td>\n",
       "      <td>ultra</td>\n",
       "      <td>44</td>\n",
       "      <td>мурманск</td>\n",
       "      <td>NaT</td>\n",
       "      <td>NaT</td>\n",
       "      <td>NaN</td>\n",
       "      <td>NaN</td>\n",
       "      <td>NaN</td>\n",
       "      <td>NaN</td>\n",
       "      <td>1950.0</td>\n",
       "    </tr>\n",
       "    <tr>\n",
       "      <th>929</th>\n",
       "      <td>1473</td>\n",
       "      <td>ultra</td>\n",
       "      <td>18</td>\n",
       "      <td>красноярск</td>\n",
       "      <td>NaT</td>\n",
       "      <td>NaT</td>\n",
       "      <td>NaN</td>\n",
       "      <td>NaN</td>\n",
       "      <td>NaN</td>\n",
       "      <td>NaN</td>\n",
       "      <td>1950.0</td>\n",
       "    </tr>\n",
       "  </tbody>\n",
       "</table>\n",
       "</div>"
      ],
      "text/plain": [
       "     user_id tariff  age              city churn_date month  duration_calls  \\\n",
       "151     1091  ultra   36  набережные челны        NaT   NaT             NaN   \n",
       "197     1106  ultra   67            калуга        NaT   NaT             NaN   \n",
       "228     1128  ultra   51          волжский 2018-12-23   NaT             NaN   \n",
       "380     1231  ultra   63         чебоксары        NaT   NaT             NaN   \n",
       "554     1328  ultra   44          мурманск        NaT   NaT             NaN   \n",
       "929     1473  ultra   18        красноярск        NaT   NaT             NaN   \n",
       "\n",
       "     count_calls  gb_used  message_count  proceeds  \n",
       "151          NaN      NaN            NaN    1950.0  \n",
       "197          NaN      NaN            NaN    1950.0  \n",
       "228          NaN      NaN            NaN    1950.0  \n",
       "380          NaN      NaN            NaN    1950.0  \n",
       "554          NaN      NaN            NaN    1950.0  \n",
       "929          NaN      NaN            NaN    1950.0  "
      ]
     },
     "execution_count": 51,
     "metadata": {},
     "output_type": "execute_result"
    }
   ],
   "source": [
    "ultra_users[ultra_users.month.isna()]"
   ]
  },
  {
   "cell_type": "code",
   "execution_count": 52,
   "id": "b06a0947",
   "metadata": {},
   "outputs": [],
   "source": [
    "smart_users['proceeds'] = smart_users.apply(lambda x: \n",
    "                                      proceeds_of_user(x['gb_used'], \n",
    "                                                       x['duration_calls'], \n",
    "                                                       x['message_count'], \n",
    "                                                       x['tariff']), axis=1)\n"
   ]
  },
  {
   "cell_type": "code",
   "execution_count": 53,
   "id": "fd02248f-dc39-40ef-a472-8f15a0fa5d08",
   "metadata": {},
   "outputs": [
    {
     "data": {
      "text/html": [
       "<div>\n",
       "<style scoped>\n",
       "    .dataframe tbody tr th:only-of-type {\n",
       "        vertical-align: middle;\n",
       "    }\n",
       "\n",
       "    .dataframe tbody tr th {\n",
       "        vertical-align: top;\n",
       "    }\n",
       "\n",
       "    .dataframe thead th {\n",
       "        text-align: right;\n",
       "    }\n",
       "</style>\n",
       "<table border=\"1\" class=\"dataframe\">\n",
       "  <thead>\n",
       "    <tr style=\"text-align: right;\">\n",
       "      <th></th>\n",
       "      <th>user_id</th>\n",
       "      <th>tariff</th>\n",
       "      <th>age</th>\n",
       "      <th>city</th>\n",
       "      <th>churn_date</th>\n",
       "      <th>month</th>\n",
       "      <th>duration_calls</th>\n",
       "      <th>count_calls</th>\n",
       "      <th>gb_used</th>\n",
       "      <th>message_count</th>\n",
       "      <th>proceeds</th>\n",
       "    </tr>\n",
       "  </thead>\n",
       "  <tbody>\n",
       "    <tr>\n",
       "      <th>499</th>\n",
       "      <td>1112</td>\n",
       "      <td>smart</td>\n",
       "      <td>51</td>\n",
       "      <td>ульяновск</td>\n",
       "      <td>NaT</td>\n",
       "      <td>2018-12</td>\n",
       "      <td>544.0</td>\n",
       "      <td>75.0</td>\n",
       "      <td>22.0</td>\n",
       "      <td>143.0</td>\n",
       "      <td>2361.0</td>\n",
       "    </tr>\n",
       "    <tr>\n",
       "      <th>1487</th>\n",
       "      <td>1324</td>\n",
       "      <td>smart</td>\n",
       "      <td>25</td>\n",
       "      <td>череповец</td>\n",
       "      <td>NaT</td>\n",
       "      <td>2018-10</td>\n",
       "      <td>838.0</td>\n",
       "      <td>117.0</td>\n",
       "      <td>27.0</td>\n",
       "      <td>139.0</td>\n",
       "      <td>4231.0</td>\n",
       "    </tr>\n",
       "    <tr>\n",
       "      <th>1484</th>\n",
       "      <td>1324</td>\n",
       "      <td>smart</td>\n",
       "      <td>25</td>\n",
       "      <td>череповец</td>\n",
       "      <td>NaT</td>\n",
       "      <td>2018-07</td>\n",
       "      <td>719.0</td>\n",
       "      <td>97.0</td>\n",
       "      <td>20.0</td>\n",
       "      <td>137.0</td>\n",
       "      <td>2468.0</td>\n",
       "    </tr>\n",
       "    <tr>\n",
       "      <th>1486</th>\n",
       "      <td>1324</td>\n",
       "      <td>smart</td>\n",
       "      <td>25</td>\n",
       "      <td>череповец</td>\n",
       "      <td>NaT</td>\n",
       "      <td>2018-09</td>\n",
       "      <td>715.0</td>\n",
       "      <td>107.0</td>\n",
       "      <td>23.0</td>\n",
       "      <td>136.0</td>\n",
       "      <td>3053.0</td>\n",
       "    </tr>\n",
       "    <tr>\n",
       "      <th>1483</th>\n",
       "      <td>1324</td>\n",
       "      <td>smart</td>\n",
       "      <td>25</td>\n",
       "      <td>череповец</td>\n",
       "      <td>NaT</td>\n",
       "      <td>2018-06</td>\n",
       "      <td>757.0</td>\n",
       "      <td>114.0</td>\n",
       "      <td>26.0</td>\n",
       "      <td>134.0</td>\n",
       "      <td>3773.0</td>\n",
       "    </tr>\n",
       "    <tr>\n",
       "      <th>1485</th>\n",
       "      <td>1324</td>\n",
       "      <td>smart</td>\n",
       "      <td>25</td>\n",
       "      <td>череповец</td>\n",
       "      <td>NaT</td>\n",
       "      <td>2018-08</td>\n",
       "      <td>782.0</td>\n",
       "      <td>104.0</td>\n",
       "      <td>24.0</td>\n",
       "      <td>134.0</td>\n",
       "      <td>3448.0</td>\n",
       "    </tr>\n",
       "    <tr>\n",
       "      <th>985</th>\n",
       "      <td>1212</td>\n",
       "      <td>smart</td>\n",
       "      <td>21</td>\n",
       "      <td>саранск</td>\n",
       "      <td>NaT</td>\n",
       "      <td>2018-12</td>\n",
       "      <td>443.0</td>\n",
       "      <td>72.0</td>\n",
       "      <td>22.0</td>\n",
       "      <td>129.0</td>\n",
       "      <td>2187.0</td>\n",
       "    </tr>\n",
       "    <tr>\n",
       "      <th>2167</th>\n",
       "      <td>1484</td>\n",
       "      <td>smart</td>\n",
       "      <td>55</td>\n",
       "      <td>екатеринбург</td>\n",
       "      <td>NaT</td>\n",
       "      <td>2018-10</td>\n",
       "      <td>369.0</td>\n",
       "      <td>48.0</td>\n",
       "      <td>14.0</td>\n",
       "      <td>127.0</td>\n",
       "      <td>781.0</td>\n",
       "    </tr>\n",
       "    <tr>\n",
       "      <th>1489</th>\n",
       "      <td>1324</td>\n",
       "      <td>smart</td>\n",
       "      <td>25</td>\n",
       "      <td>череповец</td>\n",
       "      <td>NaT</td>\n",
       "      <td>2018-12</td>\n",
       "      <td>754.0</td>\n",
       "      <td>101.0</td>\n",
       "      <td>20.0</td>\n",
       "      <td>125.0</td>\n",
       "      <td>2537.0</td>\n",
       "    </tr>\n",
       "    <tr>\n",
       "      <th>1488</th>\n",
       "      <td>1324</td>\n",
       "      <td>smart</td>\n",
       "      <td>25</td>\n",
       "      <td>череповец</td>\n",
       "      <td>NaT</td>\n",
       "      <td>2018-11</td>\n",
       "      <td>535.0</td>\n",
       "      <td>93.0</td>\n",
       "      <td>21.0</td>\n",
       "      <td>124.0</td>\n",
       "      <td>2077.0</td>\n",
       "    </tr>\n",
       "  </tbody>\n",
       "</table>\n",
       "</div>"
      ],
      "text/plain": [
       "      user_id tariff  age          city churn_date    month  duration_calls  \\\n",
       "499      1112  smart   51     ульяновск        NaT  2018-12           544.0   \n",
       "1487     1324  smart   25     череповец        NaT  2018-10           838.0   \n",
       "1484     1324  smart   25     череповец        NaT  2018-07           719.0   \n",
       "1486     1324  smart   25     череповец        NaT  2018-09           715.0   \n",
       "1483     1324  smart   25     череповец        NaT  2018-06           757.0   \n",
       "1485     1324  smart   25     череповец        NaT  2018-08           782.0   \n",
       "985      1212  smart   21       саранск        NaT  2018-12           443.0   \n",
       "2167     1484  smart   55  екатеринбург        NaT  2018-10           369.0   \n",
       "1489     1324  smart   25     череповец        NaT  2018-12           754.0   \n",
       "1488     1324  smart   25     череповец        NaT  2018-11           535.0   \n",
       "\n",
       "      count_calls  gb_used  message_count  proceeds  \n",
       "499          75.0     22.0          143.0    2361.0  \n",
       "1487        117.0     27.0          139.0    4231.0  \n",
       "1484         97.0     20.0          137.0    2468.0  \n",
       "1486        107.0     23.0          136.0    3053.0  \n",
       "1483        114.0     26.0          134.0    3773.0  \n",
       "1485        104.0     24.0          134.0    3448.0  \n",
       "985          72.0     22.0          129.0    2187.0  \n",
       "2167         48.0     14.0          127.0     781.0  \n",
       "1489        101.0     20.0          125.0    2537.0  \n",
       "1488         93.0     21.0          124.0    2077.0  "
      ]
     },
     "execution_count": 53,
     "metadata": {},
     "output_type": "execute_result"
    }
   ],
   "source": [
    "smart_users.sort_values('message_count', ascending=False).head(10)"
   ]
  },
  {
   "cell_type": "code",
   "execution_count": 54,
   "id": "230e62e9-5bb7-4577-b077-ef8a14ac6d4a",
   "metadata": {},
   "outputs": [
    {
     "data": {
      "text/plain": [
       "user_id              0\n",
       "tariff               0\n",
       "age                  0\n",
       "city                 0\n",
       "churn_date        2113\n",
       "month                2\n",
       "duration_calls       2\n",
       "count_calls          2\n",
       "gb_used              3\n",
       "message_count      309\n",
       "proceeds             0\n",
       "dtype: int64"
      ]
     },
     "execution_count": 54,
     "metadata": {},
     "output_type": "execute_result"
    }
   ],
   "source": [
    "smart_users.isna().sum()"
   ]
  },
  {
   "cell_type": "code",
   "execution_count": 101,
   "id": "df569238-6c43-49d6-857b-827c0eab628a",
   "metadata": {},
   "outputs": [],
   "source": [
    "smart_users.fillna(value={'message_count': 0, 'duration_calls': 0, 'count_calls': 0, 'gb_used': 0}, inplace=True)"
   ]
  },
  {
   "cell_type": "code",
   "execution_count": 102,
   "id": "f7e8f622-bf54-4eb9-93a4-573e068101db",
   "metadata": {},
   "outputs": [
    {
     "data": {
      "text/plain": [
       "user_id              0\n",
       "tariff               0\n",
       "age                  0\n",
       "city                 0\n",
       "churn_date        2113\n",
       "month                2\n",
       "duration_calls       0\n",
       "count_calls          0\n",
       "gb_used              0\n",
       "message_count        0\n",
       "proceeds             0\n",
       "dtype: int64"
      ]
     },
     "execution_count": 102,
     "metadata": {},
     "output_type": "execute_result"
    }
   ],
   "source": [
    "smart_users.isna().sum()"
   ]
  },
  {
   "cell_type": "code",
   "execution_count": 63,
   "id": "ce0eea49-5d94-4c0f-8907-2168576af083",
   "metadata": {},
   "outputs": [
    {
     "name": "stdout",
     "output_type": "stream",
     "text": [
      "<class 'pandas.core.frame.DataFrame'>\n",
      "RangeIndex: 3182 entries, 0 to 3181\n",
      "Data columns (total 12 columns):\n",
      " #   Column          Non-Null Count  Dtype         \n",
      "---  ------          --------------  -----         \n",
      " 0   index           3182 non-null   int64         \n",
      " 1   user_id         3182 non-null   int64         \n",
      " 2   tariff          3182 non-null   object        \n",
      " 3   age             3182 non-null   int64         \n",
      " 4   city            3182 non-null   object        \n",
      " 5   churn_date      189 non-null    datetime64[ns]\n",
      " 6   month           3174 non-null   period[M]     \n",
      " 7   duration_calls  3174 non-null   float64       \n",
      " 8   count_calls     3174 non-null   float64       \n",
      " 9   gb_used         3163 non-null   float64       \n",
      " 10  message_count   2678 non-null   float64       \n",
      " 11  proceeds        3182 non-null   float64       \n",
      "dtypes: datetime64[ns](1), float64(5), int64(3), object(2), period[M](1)\n",
      "memory usage: 298.4+ KB\n"
     ]
    }
   ],
   "source": [
    "all_data = pd.concat([smart_users, ultra_users]).reset_index()\n",
    "all_data.info()"
   ]
  },
  {
   "cell_type": "code",
   "execution_count": 64,
   "id": "c3961dea-dd12-4e30-b2d7-fb433237e33d",
   "metadata": {},
   "outputs": [
    {
     "data": {
      "text/plain": [
       "500"
      ]
     },
     "execution_count": 64,
     "metadata": {},
     "output_type": "execute_result"
    }
   ],
   "source": [
    "len(all_data.user_id.unique())"
   ]
  },
  {
   "cell_type": "markdown",
   "id": "833a332e-cfc0-427e-9bc6-5b2ded492cc2",
   "metadata": {},
   "source": [
    "---"
   ]
  },
  {
   "cell_type": "markdown",
   "id": "98168d64-0e64-4c9b-bd6c-5a890a5da757",
   "metadata": {},
   "source": [
    "[к началу](#description)"
   ]
  },
  {
   "cell_type": "markdown",
   "id": "06b7f6bf-2f07-416d-a5c1-ba9c4ceaf113",
   "metadata": {},
   "source": [
    "### Опишите поведение клиентов оператора, исходя из выборки.\n",
    "1. Сколько минут разговора, сколько сообщений и какой объём интернет-трафика требуется пользователям каждого тарифа в месяц?\n",
    "2. Посчитайте:\n",
    "    - среднее количество,\n",
    "    - дисперсию и стандартное отклонение.\n",
    "    - Постройте гистограммы.\n",
    "    - Опишите распределения.\n",
    "<a id='step_3'></a>"
   ]
  },
  {
   "cell_type": "markdown",
   "id": "3420f9d3-c038-43c0-a368-36d82ee68518",
   "metadata": {},
   "source": [
    "### Считаем среднее, дисперсию и стандартное отклонение"
   ]
  },
  {
   "cell_type": "markdown",
   "id": "a318dc2a-0e2c-4ccc-84ea-a6e07af6e5f4",
   "metadata": {},
   "source": [
    "Делаем таблицу со средним по 4 основным столбцам"
   ]
  },
  {
   "cell_type": "code",
   "execution_count": 74,
   "id": "6ac9cef3-465f-4034-a97e-585aec21bb33",
   "metadata": {},
   "outputs": [
    {
     "data": {
      "text/html": [
       "<div>\n",
       "<style scoped>\n",
       "    .dataframe tbody tr th:only-of-type {\n",
       "        vertical-align: middle;\n",
       "    }\n",
       "\n",
       "    .dataframe tbody tr th {\n",
       "        vertical-align: top;\n",
       "    }\n",
       "\n",
       "    .dataframe thead tr th {\n",
       "        text-align: left;\n",
       "    }\n",
       "\n",
       "    .dataframe thead tr:last-of-type th {\n",
       "        text-align: right;\n",
       "    }\n",
       "</style>\n",
       "<table border=\"1\" class=\"dataframe\">\n",
       "  <thead>\n",
       "    <tr>\n",
       "      <th></th>\n",
       "      <th colspan=\"2\" halign=\"left\">gb_used</th>\n",
       "      <th colspan=\"2\" halign=\"left\">duration_calls</th>\n",
       "      <th colspan=\"2\" halign=\"left\">message_count</th>\n",
       "      <th colspan=\"2\" halign=\"left\">proceeds</th>\n",
       "    </tr>\n",
       "    <tr>\n",
       "      <th></th>\n",
       "      <th>mean</th>\n",
       "      <th>median</th>\n",
       "      <th>mean</th>\n",
       "      <th>median</th>\n",
       "      <th>mean</th>\n",
       "      <th>median</th>\n",
       "      <th>mean</th>\n",
       "      <th>median</th>\n",
       "    </tr>\n",
       "    <tr>\n",
       "      <th>tariff</th>\n",
       "      <th></th>\n",
       "      <th></th>\n",
       "      <th></th>\n",
       "      <th></th>\n",
       "      <th></th>\n",
       "      <th></th>\n",
       "      <th></th>\n",
       "      <th></th>\n",
       "    </tr>\n",
       "  </thead>\n",
       "  <tbody>\n",
       "    <tr>\n",
       "      <th>smart</th>\n",
       "      <td>16.0</td>\n",
       "      <td>17.0</td>\n",
       "      <td>419.0</td>\n",
       "      <td>423.0</td>\n",
       "      <td>39.0</td>\n",
       "      <td>34.0</td>\n",
       "      <td>1290.0</td>\n",
       "      <td>1023.0</td>\n",
       "    </tr>\n",
       "    <tr>\n",
       "      <th>ultra</th>\n",
       "      <td>20.0</td>\n",
       "      <td>19.0</td>\n",
       "      <td>545.0</td>\n",
       "      <td>528.0</td>\n",
       "      <td>61.0</td>\n",
       "      <td>52.0</td>\n",
       "      <td>2070.0</td>\n",
       "      <td>1950.0</td>\n",
       "    </tr>\n",
       "  </tbody>\n",
       "</table>\n",
       "</div>"
      ],
      "text/plain": [
       "       gb_used        duration_calls        message_count        proceeds  \\\n",
       "          mean median           mean median          mean median     mean   \n",
       "tariff                                                                      \n",
       "smart     16.0   17.0          419.0  423.0          39.0   34.0   1290.0   \n",
       "ultra     20.0   19.0          545.0  528.0          61.0   52.0   2070.0   \n",
       "\n",
       "                \n",
       "        median  \n",
       "tariff          \n",
       "smart   1023.0  \n",
       "ultra   1950.0  "
      ]
     },
     "execution_count": 74,
     "metadata": {},
     "output_type": "execute_result"
    }
   ],
   "source": [
    "round(all_data.groupby('tariff')[['gb_used', 'duration_calls', 'message_count', 'proceeds']].agg(['mean', 'median']))"
   ]
  },
  {
   "cell_type": "markdown",
   "id": "64f5bede-7322-43eb-b2ae-d50e2e9a5735",
   "metadata": {},
   "source": [
    "Исходя из таблицы, пользователям тарифа смарт не хватает бесплатного лимита гигабайтов, а пользователям тарифа ультра опций в избытке\n",
    "\n",
    "Между значением медиан и средних в тарифе ультра в большую сторону всегда отклоняется среднее относительно медианы, возможно в тарифе ультра больше выбросов которые сильнее влияют на среднее значение.\n",
    "В тарифе смарт не значительная разница между средним и медианным значением, не считая proceeds"
   ]
  },
  {
   "cell_type": "markdown",
   "id": "80634d52",
   "metadata": {},
   "source": [
    "---"
   ]
  },
  {
   "cell_type": "markdown",
   "id": "0c8e0bd1-1362-4d0a-a98d-d1865a4f80d4",
   "metadata": {},
   "source": [
    "#### Дисперсия и стандартное отклонение для тарифов:"
   ]
  },
  {
   "cell_type": "code",
   "execution_count": 136,
   "id": "0b49607c-e4bf-4d88-9043-170be212e3b3",
   "metadata": {},
   "outputs": [
    {
     "data": {
      "text/html": [
       "<div>\n",
       "<style scoped>\n",
       "    .dataframe tbody tr th:only-of-type {\n",
       "        vertical-align: middle;\n",
       "    }\n",
       "\n",
       "    .dataframe tbody tr th {\n",
       "        vertical-align: top;\n",
       "    }\n",
       "\n",
       "    .dataframe thead th {\n",
       "        text-align: right;\n",
       "    }\n",
       "</style>\n",
       "<table border=\"1\" class=\"dataframe\">\n",
       "  <thead>\n",
       "    <tr style=\"text-align: right;\">\n",
       "      <th></th>\n",
       "      <th>gb_used_ultra</th>\n",
       "      <th>duration_calls_ultra</th>\n",
       "      <th>message_count_ultra</th>\n",
       "      <th>proceeds_ultra</th>\n",
       "    </tr>\n",
       "  </thead>\n",
       "  <tbody>\n",
       "    <tr>\n",
       "      <th>d_utra</th>\n",
       "      <td>94.700000</td>\n",
       "      <td>94104.400000</td>\n",
       "      <td>1996.900000</td>\n",
       "      <td>143000.300000</td>\n",
       "    </tr>\n",
       "    <tr>\n",
       "      <th>s_ultra</th>\n",
       "      <td>9.731393</td>\n",
       "      <td>306.764405</td>\n",
       "      <td>44.686687</td>\n",
       "      <td>378.153805</td>\n",
       "    </tr>\n",
       "  </tbody>\n",
       "</table>\n",
       "</div>"
      ],
      "text/plain": [
       "         gb_used_ultra  duration_calls_ultra  message_count_ultra  \\\n",
       "d_utra       94.700000          94104.400000          1996.900000   \n",
       "s_ultra       9.731393            306.764405            44.686687   \n",
       "\n",
       "         proceeds_ultra  \n",
       "d_utra    143000.300000  \n",
       "s_ultra      378.153805  "
      ]
     },
     "execution_count": 136,
     "metadata": {},
     "output_type": "execute_result"
    }
   ],
   "source": [
    "d_ultra = [round(np.var(ultra_users[x]), 1) for x in ['gb_used', 'duration_calls', 'message_count', 'proceeds']]\n",
    "s_ultra = np.sqrt(d_ultra)\n",
    "\n",
    "ds_ultra = pd.DataFrame([d_ultra, s_ultra], index=['d_utra', 's_ultra'], columns=['gb_used_ultra', 'duration_calls_ultra', 'message_count_ultra', 'proceeds_ultra'])\n",
    "ds_ultra"
   ]
  },
  {
   "cell_type": "markdown",
   "id": "649eba8b-1178-488b-a41f-b1b54eeefb9e",
   "metadata": {},
   "source": [
    "Отклонение в тарифе ультра большие, следовательно и большая разница между каждым конкретным значением и средним. \n",
    "Дисперсия большая относительно всех показателей, следовательно и большая степень разброса значений величин относительно их математического ожидания"
   ]
  },
  {
   "cell_type": "code",
   "execution_count": 137,
   "id": "64d0613f-e0c4-47c5-80b4-7a4a668b219a",
   "metadata": {},
   "outputs": [
    {
     "data": {
      "text/html": [
       "<div>\n",
       "<style scoped>\n",
       "    .dataframe tbody tr th:only-of-type {\n",
       "        vertical-align: middle;\n",
       "    }\n",
       "\n",
       "    .dataframe tbody tr th {\n",
       "        vertical-align: top;\n",
       "    }\n",
       "\n",
       "    .dataframe thead th {\n",
       "        text-align: right;\n",
       "    }\n",
       "</style>\n",
       "<table border=\"1\" class=\"dataframe\">\n",
       "  <thead>\n",
       "    <tr style=\"text-align: right;\">\n",
       "      <th></th>\n",
       "      <th>gb_used_smart</th>\n",
       "      <th>duration_calls_smart</th>\n",
       "      <th>message_count_smart</th>\n",
       "      <th>proceeds_smart</th>\n",
       "    </tr>\n",
       "  </thead>\n",
       "  <tbody>\n",
       "    <tr>\n",
       "      <th>d_smart</th>\n",
       "      <td>33.000000</td>\n",
       "      <td>35828.100000</td>\n",
       "      <td>718.800000</td>\n",
       "      <td>670545.600000</td>\n",
       "    </tr>\n",
       "    <tr>\n",
       "      <th>d_smart</th>\n",
       "      <td>5.744563</td>\n",
       "      <td>189.283121</td>\n",
       "      <td>26.810446</td>\n",
       "      <td>818.868488</td>\n",
       "    </tr>\n",
       "  </tbody>\n",
       "</table>\n",
       "</div>"
      ],
      "text/plain": [
       "         gb_used_smart  duration_calls_smart  message_count_smart  \\\n",
       "d_smart      33.000000          35828.100000           718.800000   \n",
       "d_smart       5.744563            189.283121            26.810446   \n",
       "\n",
       "         proceeds_smart  \n",
       "d_smart   670545.600000  \n",
       "d_smart      818.868488  "
      ]
     },
     "execution_count": 137,
     "metadata": {},
     "output_type": "execute_result"
    }
   ],
   "source": [
    "d_smart = [round(np.var(smart_users[x]), 1) for x in ['gb_used', 'duration_calls', 'message_count', 'proceeds']]\n",
    "s_smart = np.sqrt(d_smart)\n",
    "\n",
    "ds_smart = pd.DataFrame([d_smart, s_smart], index=['d_smart', 'd_smart'], columns=['gb_used_smart', 'duration_calls_smart', 'message_count_smart', 'proceeds_smart'])\n",
    "ds_smart"
   ]
  },
  {
   "cell_type": "markdown",
   "id": "0b031516-8cca-4c1e-8503-3bd683a93d50",
   "metadata": {},
   "source": [
    "- Высокое отклонение относительно тарифа ультра у выручки в тарифе смарт, при этом если сравнивать с тарифом ультра, по остальным показателям разброс отклонений в тарифе смарт намного ниже\n",
    "- Дисперсия высокая, но относительно тарифа ультра ее разброс намного меньше, не считая выручки\n",
    "\n",
    "---"
   ]
  },
  {
   "cell_type": "markdown",
   "id": "0eaa0f0c-e78c-4607-9fe8-ae57edbea239",
   "metadata": {},
   "source": [
    "В тарифе ультра довольно большое отклонения между значениями и средним, в отличие от смарт, при этом данных для тарифа смарт почти вдвое больше, таким образом более низкие показатели отклонения и дисперсии в тарифе смарт можно объяснить большим размером выборки"
   ]
  },
  {
   "cell_type": "markdown",
   "id": "548fe1a1-75f0-4b05-9d96-4916a52f2861",
   "metadata": {},
   "source": [
    "#### Распреление данных на гистаграммах"
   ]
  },
  {
   "cell_type": "markdown",
   "id": "66bc1ce6-4ddb-4822-8bae-86a66d37e4e1",
   "metadata": {},
   "source": [
    "#### синий: smart;\n",
    "#### красный: ultra; <a id='hist'></a>"
   ]
  },
  {
   "cell_type": "markdown",
   "id": "f92aa9d4-ade0-4c81-93e2-77eeae9a6bd0",
   "metadata": {},
   "source": [
    "[Описание тарифа](#tariff_description)"
   ]
  },
  {
   "cell_type": "code",
   "execution_count": 142,
   "id": "4b9fbe97",
   "metadata": {},
   "outputs": [
    {
     "data": {
      "image/png": "[encoded data removed]",
      "text/plain": [
       "<Figure size 432x288 with 1 Axes>"
      ]
     },
     "metadata": {
      "needs_background": "light"
     },
     "output_type": "display_data"
    }
   ],
   "source": [
    "ultra_gb = tariffs.query('tariff_name == \"ultra\"').reset_index().gb_month_included[0]\n",
    "smart_gb = tariffs.query('tariff_name == \"smart\"').reset_index().gb_month_included[0]\n",
    "\n",
    "ultra_users.gb_used.hist(alpha=0.5, color='red')\n",
    "smart_users.gb_used.hist(alpha=0.5, color='blue')\n",
    "plt.axvline(x=ultra_gb, color ='red')\n",
    "plt.axvline(x=smart_gb, color ='blue')\n",
    "\n",
    "\n",
    "plt.show()"
   ]
  },
  {
   "cell_type": "markdown",
   "id": "815d71f8-2f1b-4adb-b8a3-e8e0cd722ddd",
   "metadata": {},
   "source": [
    "По гистаграме можно предположить:\n",
    "- большая часть пользователей тарифа smart выходит за пределы бесплатного лимита интернета\n",
    "- На тарифе ультра большей части клиентов достаточно бесплатного лимита"
   ]
  },
  {
   "cell_type": "code",
   "execution_count": 80,
   "id": "e63bd6ed-c3bd-47f7-aea9-cb58f63bb4cb",
   "metadata": {},
   "outputs": [
    {
     "name": "stdout",
     "output_type": "stream",
     "text": [
      "За год пользователи тарифа smart 58.43 % превысили бесплатный лимит гб\n",
      "И только 41.44 % за год пользователи не превысили бесплатного лимита \n"
     ]
    }
   ],
   "source": [
    "print(f'За год пользователи тарифа smart в {round(smart_users.query(\"gb_used > 15\").user_id.count()/len(smart_users) * 100, 2)} % превысили бесплатный лимит гб')\n",
    "print(f'И только {round(smart_users.query(\"gb_used <= 15\").user_id.count()/len(smart_users) * 100, 2)} % за год пользователи не превысили бесплатного лимита ')"
   ]
  },
  {
   "cell_type": "code",
   "execution_count": 81,
   "id": "77362093-68bc-4221-aabf-c5c06cd8f913",
   "metadata": {},
   "outputs": [
    {
     "name": "stdout",
     "output_type": "stream",
     "text": [
      "За год пользователи тарифа ultra 13.38 % превысили бесплатный лимит гб\n",
      "И 84.95 % за год пользователи не превысили бесплатного лимита \n"
     ]
    }
   ],
   "source": [
    "print(f'За год пользователи тарифа ultra в {round(ultra_users.query(\"gb_used > 30\").user_id.count()/len(ultra_users) * 100, 2)} % превысили бесплатный лимит гб')\n",
    "print(f'И {round(ultra_users.query(\"gb_used <= 30\").user_id.count()/len(ultra_users) * 100, 2)} % за год пользователи не превысили бесплатного лимита ')"
   ]
  },
  {
   "cell_type": "markdown",
   "id": "d19da5a8-62d4-4b14-9405-5fd41df06ca6",
   "metadata": {},
   "source": [
    "---\n",
    "\n",
    "Чтобы предположить какой объем интернет трафика требуется пользователям каждого тарифа в месяц, возьмем значения по 80 процентилю, чтобы только 20% были за границей лимита"
   ]
  },
  {
   "cell_type": "code",
   "execution_count": 145,
   "id": "f151bb32-35e8-4e22-8e0b-680d8e55b6e4",
   "metadata": {},
   "outputs": [
    {
     "data": {
      "text/plain": [
       "21.0"
      ]
     },
     "execution_count": 145,
     "metadata": {},
     "output_type": "execute_result"
    }
   ],
   "source": [
    "#print(f'{math.ceil(stats.trim_mean(smart_users.gb_used, 0.1))}')\n",
    "np.percentile(smart_users.gb_used.fillna(0), 80)"
   ]
  },
  {
   "cell_type": "code",
   "execution_count": 146,
   "id": "540350f2-e371-4b0a-822b-2a0218c9d4e2",
   "metadata": {},
   "outputs": [
    {
     "data": {
      "text/plain": [
       "28.0"
      ]
     },
     "execution_count": 146,
     "metadata": {},
     "output_type": "execute_result"
    }
   ],
   "source": [
    "#math.ceil(stats.trim_mean(ultra_users.gb_used, 0.1))\n",
    "np.percentile(ultra_users.gb_used.fillna(0), 80)"
   ]
  },
  {
   "cell_type": "markdown",
   "id": "120513f9-6b31-4790-943c-f9fa930a5ee3",
   "metadata": {},
   "source": [
    "Если не обращать внимания на отдельные выбросы, 21гб для пользователей тарифа smart И 28гб для тарифа ultra были бы оптимальны."
   ]
  },
  {
   "cell_type": "markdown",
   "id": "aa387faa-d057-44fd-9fae-5244a4460b5c",
   "metadata": {},
   "source": [
    "[Описание тарифа](#tariff_description)"
   ]
  },
  {
   "cell_type": "code",
   "execution_count": 151,
   "id": "2bd71b74-4292-4694-a7c3-cece004152fd",
   "metadata": {},
   "outputs": [
    {
     "data": {
      "image/png": "[encoded data removed]",
      "text/plain": [
       "<Figure size 432x288 with 1 Axes>"
      ]
     },
     "metadata": {
      "needs_background": "light"
     },
     "output_type": "display_data"
    }
   ],
   "source": [
    "ultra_min = tariffs.query('tariff_name == \"ultra\"').reset_index().minutes_included[0]\n",
    "smart_min = tariffs.query('tariff_name == \"smart\"').reset_index().minutes_included[0]\n",
    "\n",
    "ultra_users.duration_calls.hist(alpha=0.5, color='red')\n",
    "smart_users.duration_calls.hist(alpha=0.5, color='blue')\n",
    "plt.axvline(x=ultra_min, color ='red')\n",
    "plt.axvline(x=smart_min, color ='blue')\n",
    "plt.show()"
   ]
  },
  {
   "cell_type": "markdown",
   "id": "5380f50c-dc7b-49bc-810b-aa77f9b1807f",
   "metadata": {},
   "source": [
    "- На тарифе смарт все еще достаточно часто клиенты общаются дольше, чем им позволяет бесплатный лимит\n",
    "- На тарифе ультра напротив, подавляющее количество раз, клиенты даже не доходят до лимита длительности звонков"
   ]
  },
  {
   "cell_type": "code",
   "execution_count": 105,
   "id": "04587733",
   "metadata": {},
   "outputs": [
    {
     "name": "stdout",
     "output_type": "stream",
     "text": [
      "За год пользователи тарифа smart в 33.89 % превысили бесплатный лимит минут\n",
      "И 66.11 % за год пользователи не превысили бесплатного лимита \n"
     ]
    }
   ],
   "source": [
    "print(f'За год пользователи тарифа smart в {round(smart_users.query(\"duration_calls > 500\").user_id.count()/len(smart_users) * 100, 2)} % превысили бесплатный лимит минут')\n",
    "print(f'И {round(smart_users.query(\"duration_calls <= 500\").user_id.count()/len(smart_users)* 100, 2) } % за год пользователи не превысили бесплатного лимита ')"
   ]
  },
  {
   "cell_type": "code",
   "execution_count": 106,
   "id": "6649b969",
   "metadata": {},
   "outputs": [
    {
     "name": "stdout",
     "output_type": "stream",
     "text": [
      "За год пользователи тарифа ultra в 0.0 % превысили бесплатный лимит минут\n",
      "И 100.0 % за год пользователи не превысили бесплатного лимита \n"
     ]
    }
   ],
   "source": [
    "print(f'За год пользователи тарифа ultra в {round(ultra_users.query(\"duration_calls > 3000\").user_id.count()/len(ultra_users), 2)} % превысили бесплатный лимит минут')\n",
    "print(f'И {round(ultra_users.query(\"duration_calls <= 3000\").user_id.count()/len(ultra_users) * 100, 2)} % за год пользователей не превысили бесплатного лимита ')"
   ]
  },
  {
   "cell_type": "markdown",
   "id": "14614962-aa9c-462f-827f-b393e9eaac66",
   "metadata": {},
   "source": [
    "Посчитаем так же как и в интернет-трафике 80 процентиль, чтобы понять оптимальную длительность для телефонных разговоров"
   ]
  },
  {
   "cell_type": "code",
   "execution_count": 107,
   "id": "6e048da4",
   "metadata": {
    "scrolled": true
   },
   "outputs": [
    {
     "name": "stdout",
     "output_type": "stream",
     "text": [
      "Для тарифа smart 576.0 минут возможно было бы оптимально\n"
     ]
    }
   ],
   "source": [
    "print(f'Для тарифа smart {np.percentile(smart_users.duration_calls.fillna(0), 80)} минут возможно было бы оптимально')"
   ]
  },
  {
   "cell_type": "code",
   "execution_count": 108,
   "id": "3c28b34c",
   "metadata": {},
   "outputs": [
    {
     "name": "stdout",
     "output_type": "stream",
     "text": [
      "Для тарифа ultra 812.6000000000001 минут возможно было бы оптимально\n"
     ]
    }
   ],
   "source": [
    "print(f'Для тарифа ultra {np.percentile(ultra_users.duration_calls.fillna(0), 80)} минут возможно было бы оптимально')"
   ]
  },
  {
   "cell_type": "code",
   "execution_count": 109,
   "id": "1acf5041-997c-486b-adfa-62c5f36ae32a",
   "metadata": {},
   "outputs": [
    {
     "data": {
      "image/png": "[encoded data removed]",
      "text/plain": [
       "<Figure size 640x480 with 1 Axes>"
      ]
     },
     "metadata": {},
     "output_type": "display_data"
    }
   ],
   "source": [
    "ultra_mess = tariffs.query('tariff_name == \"ultra\"').reset_index().messages_included[0]\n",
    "smart_mess = tariffs.query('tariff_name == \"smart\"').reset_index().messages_included[0]\n",
    "\n",
    "ultra_users.message_count.hist(alpha=0.5, color='red')\n",
    "smart_users.message_count.hist(alpha=0.5, color='blue')\n",
    "\n",
    "plt.axvline(x=ultra_mess, color ='red')\n",
    "plt.axvline(x=smart_mess, color ='blue')\n",
    "plt.show()"
   ]
  },
  {
   "cell_type": "markdown",
   "id": "2ce25e5c-be7a-4ad1-9e76-882a0ab5f2b5",
   "metadata": {},
   "source": [
    "- по большей части пользователям тарифа smart хватает бесплатного лимита сообщений, но далеко не всем\n",
    "- пользователям тарифа ультра бесплатного лимита сообщений хватает с избытком"
   ]
  },
  {
   "cell_type": "code",
   "execution_count": 110,
   "id": "22c15bc5-558a-44e1-94b4-816306b892b1",
   "metadata": {},
   "outputs": [
    {
     "name": "stdout",
     "output_type": "stream",
     "text": [
      "За год пользователи тарифа smart в 25.35 % превысили бесплатный лимит сообщений\n",
      "И 74.65 % за год пользователи не превысили бесплатного лимита \n"
     ]
    }
   ],
   "source": [
    "print(f'За год пользователи тарифа smart в {round(smart_users.query(\"message_count > 50\").user_id.count()/len(smart_users) * 100, 2)} % превысили бесплатный лимит сообщений')\n",
    "print(f'И {round(smart_users.query(\"message_count <= 50\").user_id.count()/len(smart_users) * 100, 2)} % за год пользователи не превысили бесплатного лимита ')"
   ]
  },
  {
   "cell_type": "code",
   "execution_count": 117,
   "id": "6d2ef6f9-7c54-477b-8bde-69cc34f1d980",
   "metadata": {},
   "outputs": [
    {
     "name": "stdout",
     "output_type": "stream",
     "text": [
      "За год из пользователей тарифа ultra 0.0 % превысили бесплатный лимит сообщений\n",
      "И 100.0 % за год пользователей не превысили бесплатного лимита \n"
     ]
    }
   ],
   "source": [
    "print(f'За год из пользователей тарифа ultra {round(ultra_users.query(\"message_count > 1000\").user_id.count()/len(ultra_users)* 100, 2)} % превысили бесплатный лимит сообщений')\n",
    "print(f'И {round(ultra_users.query(\"message_count <= 1000\").user_id.count()/len(ultra_users)* 100, 2)} % за год пользователей не превысили бесплатного лимита ')"
   ]
  },
  {
   "cell_type": "code",
   "execution_count": 115,
   "id": "eecf9a20-923b-40c3-9f13-8cefb30d2a99",
   "metadata": {},
   "outputs": [
    {
     "name": "stdout",
     "output_type": "stream",
     "text": [
      "Для тарифа smart 57.0 сообщений возможно было бы оптимально\n"
     ]
    }
   ],
   "source": [
    "print(f'Для тарифа smart {np.percentile(smart_users.message_count.fillna(0), 80)} сообщений возможно было бы оптимально')"
   ]
  },
  {
   "cell_type": "code",
   "execution_count": 116,
   "id": "3731c421-ab3c-4d33-9eb7-511118282f0e",
   "metadata": {},
   "outputs": [
    {
     "name": "stdout",
     "output_type": "stream",
     "text": [
      "Для тарифа ultra 87.80000000000007 cообщений возможно было бы оптимально\n"
     ]
    }
   ],
   "source": [
    "print(f'Для тарифа ultra {np.percentile(ultra_users.message_count.fillna(0), 80)} cообщений возможно было бы оптимально')"
   ]
  },
  {
   "cell_type": "markdown",
   "id": "ed32b27c-89e2-4719-90ce-944e5f7c6090",
   "metadata": {},
   "source": [
    "Пользователям тарифа смарт почти всегда не хватает опций включенных в пакет, в то время когда пользователи тарифа ультра часто даже близко не подходят к лимитам"
   ]
  },
  {
   "cell_type": "markdown",
   "id": "11dd01d7-c28a-4db7-81be-afd45677a63b",
   "metadata": {},
   "source": [
    "---\n",
    "\n",
    "Разделим клиентов на возрастные группы"
   ]
  },
  {
   "cell_type": "code",
   "execution_count": 161,
   "id": "52e31916-bd92-4818-8abf-e5514b59453c",
   "metadata": {},
   "outputs": [],
   "source": [
    "def age_category(age):\n",
    "    \n",
    "    young = np.percentile(users.age, 25)\n",
    "    adult = np.percentile(users.age, 50)\n",
    "    old = np.percentile(users.age, 75)\n",
    "    \n",
    "    if age <= young:\n",
    "        return 'young'\n",
    "    elif (age > young) & (age <= adult):\n",
    "        return 'adult'\n",
    "    elif (age > adult) & (age <= old):\n",
    "        return 'old'\n",
    "    else:\n",
    "        return 'elder'"
   ]
  },
  {
   "cell_type": "code",
   "execution_count": 162,
   "id": "46f08969-b0c7-4004-a69f-f497957531d1",
   "metadata": {},
   "outputs": [
    {
     "data": {
      "text/html": [
       "<div>\n",
       "<style scoped>\n",
       "    .dataframe tbody tr th:only-of-type {\n",
       "        vertical-align: middle;\n",
       "    }\n",
       "\n",
       "    .dataframe tbody tr th {\n",
       "        vertical-align: top;\n",
       "    }\n",
       "\n",
       "    .dataframe thead th {\n",
       "        text-align: right;\n",
       "    }\n",
       "</style>\n",
       "<table border=\"1\" class=\"dataframe\">\n",
       "  <thead>\n",
       "    <tr style=\"text-align: right;\">\n",
       "      <th></th>\n",
       "      <th>age</th>\n",
       "      <th>age_category</th>\n",
       "    </tr>\n",
       "  </thead>\n",
       "  <tbody>\n",
       "    <tr>\n",
       "      <th>0</th>\n",
       "      <td>52</td>\n",
       "      <td>old</td>\n",
       "    </tr>\n",
       "    <tr>\n",
       "      <th>1</th>\n",
       "      <td>52</td>\n",
       "      <td>old</td>\n",
       "    </tr>\n",
       "    <tr>\n",
       "      <th>2</th>\n",
       "      <td>52</td>\n",
       "      <td>old</td>\n",
       "    </tr>\n",
       "    <tr>\n",
       "      <th>3</th>\n",
       "      <td>52</td>\n",
       "      <td>old</td>\n",
       "    </tr>\n",
       "    <tr>\n",
       "      <th>4</th>\n",
       "      <td>52</td>\n",
       "      <td>old</td>\n",
       "    </tr>\n",
       "    <tr>\n",
       "      <th>...</th>\n",
       "      <td>...</td>\n",
       "      <td>...</td>\n",
       "    </tr>\n",
       "    <tr>\n",
       "      <th>3177</th>\n",
       "      <td>68</td>\n",
       "      <td>elder</td>\n",
       "    </tr>\n",
       "    <tr>\n",
       "      <th>3178</th>\n",
       "      <td>35</td>\n",
       "      <td>adult</td>\n",
       "    </tr>\n",
       "    <tr>\n",
       "      <th>3179</th>\n",
       "      <td>35</td>\n",
       "      <td>adult</td>\n",
       "    </tr>\n",
       "    <tr>\n",
       "      <th>3180</th>\n",
       "      <td>35</td>\n",
       "      <td>adult</td>\n",
       "    </tr>\n",
       "    <tr>\n",
       "      <th>3181</th>\n",
       "      <td>35</td>\n",
       "      <td>adult</td>\n",
       "    </tr>\n",
       "  </tbody>\n",
       "</table>\n",
       "<p>3182 rows × 2 columns</p>\n",
       "</div>"
      ],
      "text/plain": [
       "      age age_category\n",
       "0      52          old\n",
       "1      52          old\n",
       "2      52          old\n",
       "3      52          old\n",
       "4      52          old\n",
       "...   ...          ...\n",
       "3177   68        elder\n",
       "3178   35        adult\n",
       "3179   35        adult\n",
       "3180   35        adult\n",
       "3181   35        adult\n",
       "\n",
       "[3182 rows x 2 columns]"
      ]
     },
     "execution_count": 162,
     "metadata": {},
     "output_type": "execute_result"
    }
   ],
   "source": [
    "all_data['age_category'] = all_data.age.apply(age_category)\n",
    "all_data[['age', 'age_category']]"
   ]
  },
  {
   "cell_type": "markdown",
   "id": "15c8e581-e023-49f3-9b74-b80ebdaab616",
   "metadata": {},
   "source": [
    "посмотрим влияет ли как-то возраст, на частоту превышения лимитов. Для этого сделаем новый столбец overdraft, чтобы отметить булевыми значениями наличие выхода за лимит"
   ]
  },
  {
   "cell_type": "code",
   "execution_count": 163,
   "id": "a94fcfbb-0a08-498a-8d2b-02505583a384",
   "metadata": {},
   "outputs": [],
   "source": [
    "def overdraft(proceeds, tariff):\n",
    "    if (tariff == 'ultra') & (proceeds > 1950):\n",
    "        return True\n",
    "    elif(tariff == 'smart') & (proceeds > 550):\n",
    "        return True\n",
    "    return False"
   ]
  },
  {
   "cell_type": "code",
   "execution_count": 164,
   "id": "e5cde459-f584-40b7-8ed0-0153cde11ce8",
   "metadata": {},
   "outputs": [
    {
     "data": {
      "text/html": [
       "<div>\n",
       "<style scoped>\n",
       "    .dataframe tbody tr th:only-of-type {\n",
       "        vertical-align: middle;\n",
       "    }\n",
       "\n",
       "    .dataframe tbody tr th {\n",
       "        vertical-align: top;\n",
       "    }\n",
       "\n",
       "    .dataframe thead th {\n",
       "        text-align: right;\n",
       "    }\n",
       "</style>\n",
       "<table border=\"1\" class=\"dataframe\">\n",
       "  <thead>\n",
       "    <tr style=\"text-align: right;\">\n",
       "      <th></th>\n",
       "      <th>proceeds</th>\n",
       "      <th>tariff</th>\n",
       "      <th>overdraft</th>\n",
       "    </tr>\n",
       "  </thead>\n",
       "  <tbody>\n",
       "    <tr>\n",
       "      <th>0</th>\n",
       "      <td>1950.0</td>\n",
       "      <td>ultra</td>\n",
       "      <td>False</td>\n",
       "    </tr>\n",
       "    <tr>\n",
       "      <th>1</th>\n",
       "      <td>1950.0</td>\n",
       "      <td>ultra</td>\n",
       "      <td>False</td>\n",
       "    </tr>\n",
       "    <tr>\n",
       "      <th>2</th>\n",
       "      <td>1950.0</td>\n",
       "      <td>ultra</td>\n",
       "      <td>False</td>\n",
       "    </tr>\n",
       "    <tr>\n",
       "      <th>3</th>\n",
       "      <td>1950.0</td>\n",
       "      <td>ultra</td>\n",
       "      <td>False</td>\n",
       "    </tr>\n",
       "    <tr>\n",
       "      <th>4</th>\n",
       "      <td>1950.0</td>\n",
       "      <td>ultra</td>\n",
       "      <td>False</td>\n",
       "    </tr>\n",
       "    <tr>\n",
       "      <th>...</th>\n",
       "      <td>...</td>\n",
       "      <td>...</td>\n",
       "      <td>...</td>\n",
       "    </tr>\n",
       "    <tr>\n",
       "      <th>3177</th>\n",
       "      <td>1750.0</td>\n",
       "      <td>smart</td>\n",
       "      <td>True</td>\n",
       "    </tr>\n",
       "    <tr>\n",
       "      <th>3178</th>\n",
       "      <td>550.0</td>\n",
       "      <td>smart</td>\n",
       "      <td>False</td>\n",
       "    </tr>\n",
       "    <tr>\n",
       "      <th>3179</th>\n",
       "      <td>1150.0</td>\n",
       "      <td>smart</td>\n",
       "      <td>True</td>\n",
       "    </tr>\n",
       "    <tr>\n",
       "      <th>3180</th>\n",
       "      <td>1513.0</td>\n",
       "      <td>smart</td>\n",
       "      <td>True</td>\n",
       "    </tr>\n",
       "    <tr>\n",
       "      <th>3181</th>\n",
       "      <td>598.0</td>\n",
       "      <td>smart</td>\n",
       "      <td>True</td>\n",
       "    </tr>\n",
       "  </tbody>\n",
       "</table>\n",
       "<p>3182 rows × 3 columns</p>\n",
       "</div>"
      ],
      "text/plain": [
       "      proceeds tariff  overdraft\n",
       "0       1950.0  ultra      False\n",
       "1       1950.0  ultra      False\n",
       "2       1950.0  ultra      False\n",
       "3       1950.0  ultra      False\n",
       "4       1950.0  ultra      False\n",
       "...        ...    ...        ...\n",
       "3177    1750.0  smart       True\n",
       "3178     550.0  smart      False\n",
       "3179    1150.0  smart       True\n",
       "3180    1513.0  smart       True\n",
       "3181     598.0  smart       True\n",
       "\n",
       "[3182 rows x 3 columns]"
      ]
     },
     "execution_count": 164,
     "metadata": {},
     "output_type": "execute_result"
    }
   ],
   "source": [
    "#all_data['overdraft'] = all_data.apply(lambda x: overdraft(x['proceeds'], x['tariff']), axis=1)\n",
    "#all_data[['proceeds', 'tariff', 'overdraft']]"
   ]
  },
  {
   "cell_type": "code",
   "execution_count": 165,
   "id": "3ff887d0",
   "metadata": {},
   "outputs": [
    {
     "data": {
      "text/html": [
       "<div>\n",
       "<style scoped>\n",
       "    .dataframe tbody tr th:only-of-type {\n",
       "        vertical-align: middle;\n",
       "    }\n",
       "\n",
       "    .dataframe tbody tr th {\n",
       "        vertical-align: top;\n",
       "    }\n",
       "\n",
       "    .dataframe thead th {\n",
       "        text-align: right;\n",
       "    }\n",
       "</style>\n",
       "<table border=\"1\" class=\"dataframe\">\n",
       "  <thead>\n",
       "    <tr style=\"text-align: right;\">\n",
       "      <th></th>\n",
       "      <th>proceeds</th>\n",
       "      <th>tariff</th>\n",
       "      <th>overdraft</th>\n",
       "    </tr>\n",
       "  </thead>\n",
       "  <tbody>\n",
       "    <tr>\n",
       "      <th>0</th>\n",
       "      <td>1950.0</td>\n",
       "      <td>ultra</td>\n",
       "      <td>False</td>\n",
       "    </tr>\n",
       "    <tr>\n",
       "      <th>1</th>\n",
       "      <td>1950.0</td>\n",
       "      <td>ultra</td>\n",
       "      <td>False</td>\n",
       "    </tr>\n",
       "    <tr>\n",
       "      <th>2</th>\n",
       "      <td>1950.0</td>\n",
       "      <td>ultra</td>\n",
       "      <td>False</td>\n",
       "    </tr>\n",
       "    <tr>\n",
       "      <th>3</th>\n",
       "      <td>1950.0</td>\n",
       "      <td>ultra</td>\n",
       "      <td>False</td>\n",
       "    </tr>\n",
       "    <tr>\n",
       "      <th>4</th>\n",
       "      <td>1950.0</td>\n",
       "      <td>ultra</td>\n",
       "      <td>False</td>\n",
       "    </tr>\n",
       "    <tr>\n",
       "      <th>3177</th>\n",
       "      <td>1750.0</td>\n",
       "      <td>smart</td>\n",
       "      <td>True</td>\n",
       "    </tr>\n",
       "    <tr>\n",
       "      <th>3178</th>\n",
       "      <td>550.0</td>\n",
       "      <td>smart</td>\n",
       "      <td>False</td>\n",
       "    </tr>\n",
       "    <tr>\n",
       "      <th>3179</th>\n",
       "      <td>1150.0</td>\n",
       "      <td>smart</td>\n",
       "      <td>True</td>\n",
       "    </tr>\n",
       "    <tr>\n",
       "      <th>3180</th>\n",
       "      <td>1513.0</td>\n",
       "      <td>smart</td>\n",
       "      <td>True</td>\n",
       "    </tr>\n",
       "    <tr>\n",
       "      <th>3181</th>\n",
       "      <td>598.0</td>\n",
       "      <td>smart</td>\n",
       "      <td>True</td>\n",
       "    </tr>\n",
       "  </tbody>\n",
       "</table>\n",
       "</div>"
      ],
      "text/plain": [
       "      proceeds tariff  overdraft\n",
       "0       1950.0  ultra      False\n",
       "1       1950.0  ultra      False\n",
       "2       1950.0  ultra      False\n",
       "3       1950.0  ultra      False\n",
       "4       1950.0  ultra      False\n",
       "3177    1750.0  smart       True\n",
       "3178     550.0  smart      False\n",
       "3179    1150.0  smart       True\n",
       "3180    1513.0  smart       True\n",
       "3181     598.0  smart       True"
      ]
     },
     "execution_count": 165,
     "metadata": {},
     "output_type": "execute_result"
    }
   ],
   "source": [
    "\n",
    "all_data_ = all_data.merge(tariffs, left_on='tariff', right_on='tariff_name')\n",
    "all_data_['overdraft'] = all_data_['proceeds'] > all_data_['rub_monthly_fee']\n",
    "\n",
    "result = pd.concat([all_data_[['proceeds', 'tariff', 'overdraft']].head(), all_data_[['proceeds', 'tariff', 'overdraft']].tail()])\n",
    "result"
   ]
  },
  {
   "cell_type": "markdown",
   "id": "67f9fc17",
   "metadata": {},
   "source": [
    "----"
   ]
  },
  {
   "cell_type": "code",
   "execution_count": 166,
   "id": "b0af0cae-08b2-4eee-9c50-d8b4f64e0555",
   "metadata": {},
   "outputs": [
    {
     "data": {
      "image/png": "[encoded data removed]",
      "text/plain": [
       "<Figure size 432x432 with 3 Axes>"
      ]
     },
     "metadata": {
      "needs_background": "light"
     },
     "output_type": "display_data"
    }
   ],
   "source": [
    "sns.jointplot(\n",
    "    data=all_data.query('overdraft == True'),\n",
    "    x='age', \n",
    "    y='proceeds', \n",
    "    hue='age_category', \n",
    "    palette='Set1',\n",
    "    xlim = (18, 75),\n",
    "    ylim = (500, 5000),\n",
    "    alpha=0.4\n",
    ")\n",
    "plt.show()"
   ]
  },
  {
   "cell_type": "code",
   "execution_count": 167,
   "id": "203b99c3-6796-4270-a9a1-789ed556be42",
   "metadata": {},
   "outputs": [
    {
     "data": {
      "text/html": [
       "<div>\n",
       "<style scoped>\n",
       "    .dataframe tbody tr th:only-of-type {\n",
       "        vertical-align: middle;\n",
       "    }\n",
       "\n",
       "    .dataframe tbody tr th {\n",
       "        vertical-align: top;\n",
       "    }\n",
       "\n",
       "    .dataframe thead th {\n",
       "        text-align: right;\n",
       "    }\n",
       "</style>\n",
       "<table border=\"1\" class=\"dataframe\">\n",
       "  <thead>\n",
       "    <tr style=\"text-align: right;\">\n",
       "      <th></th>\n",
       "      <th>overdraft</th>\n",
       "      <th>proceeds</th>\n",
       "    </tr>\n",
       "    <tr>\n",
       "      <th>age_category</th>\n",
       "      <th></th>\n",
       "      <th></th>\n",
       "    </tr>\n",
       "  </thead>\n",
       "  <tbody>\n",
       "    <tr>\n",
       "      <th>adult</th>\n",
       "      <td>0.538961</td>\n",
       "      <td>1746.5</td>\n",
       "    </tr>\n",
       "    <tr>\n",
       "      <th>elder</th>\n",
       "      <td>0.572178</td>\n",
       "      <td>1701.5</td>\n",
       "    </tr>\n",
       "    <tr>\n",
       "      <th>old</th>\n",
       "      <td>0.564320</td>\n",
       "      <td>1488.0</td>\n",
       "    </tr>\n",
       "    <tr>\n",
       "      <th>young</th>\n",
       "      <td>0.569007</td>\n",
       "      <td>1750.0</td>\n",
       "    </tr>\n",
       "  </tbody>\n",
       "</table>\n",
       "</div>"
      ],
      "text/plain": [
       "              overdraft  proceeds\n",
       "age_category                     \n",
       "adult          0.538961    1746.5\n",
       "elder          0.572178    1701.5\n",
       "old            0.564320    1488.0\n",
       "young          0.569007    1750.0"
      ]
     },
     "execution_count": 167,
     "metadata": {},
     "output_type": "execute_result"
    }
   ],
   "source": [
    "all_data.groupby('age_category').agg({'overdraft': 'mean', 'proceeds': 'median'})"
   ]
  },
  {
   "cell_type": "code",
   "execution_count": 168,
   "id": "bcd80cc2-50fb-47e3-be62-1670c32c3161",
   "metadata": {},
   "outputs": [
    {
     "name": "stdout",
     "output_type": "stream",
     "text": [
      " young: до 32.0, adult: до 46.0, old: до 62.0, elder: старше, чем 62.0\n"
     ]
    }
   ],
   "source": [
    "young = np.percentile(users.age, 25)\n",
    "adult = np.percentile(users.age, 50)\n",
    "old = np.percentile(users.age, 75)\n",
    "print(f' young: до {young}, adult: до {adult}, old: до {old}, elder: старше, чем {old}')"
   ]
  },
  {
   "cell_type": "markdown",
   "id": "b29722f8-9f0d-45de-a7eb-7063e6e37019",
   "metadata": {},
   "source": [
    "Меньший процент с overdraft == True у категории 33-46, больший у 18-32. При этом самая меньшая медианная выручка с категории 47-62. Возможно так происходит потому что молодые люди много чаще пользуется всеми доступными услугами мобильной связи, чем более старшее поколение"
   ]
  },
  {
   "cell_type": "code",
   "execution_count": 170,
   "id": "3e8bb3b0",
   "metadata": {},
   "outputs": [
    {
     "name": "stderr",
     "output_type": "stream",
     "text": [
      "/opt/conda/lib/python3.9/site-packages/pandas/core/computation/expressions.py:204: UserWarning: evaluating in Python space because the '*' operator is not supported by numexpr for the bool dtype, use '&' instead\n",
      "  warnings.warn(\n"
     ]
    },
    {
     "data": {
      "text/html": [
       "<div>\n",
       "<style scoped>\n",
       "    .dataframe tbody tr th:only-of-type {\n",
       "        vertical-align: middle;\n",
       "    }\n",
       "\n",
       "    .dataframe tbody tr th {\n",
       "        vertical-align: top;\n",
       "    }\n",
       "\n",
       "    .dataframe thead th {\n",
       "        text-align: right;\n",
       "    }\n",
       "</style>\n",
       "<table border=\"1\" class=\"dataframe\">\n",
       "  <thead>\n",
       "    <tr style=\"text-align: right;\">\n",
       "      <th></th>\n",
       "      <th>everithing_overdraft</th>\n",
       "      <th>tariff</th>\n",
       "    </tr>\n",
       "    <tr>\n",
       "      <th>tariff</th>\n",
       "      <th></th>\n",
       "      <th></th>\n",
       "    </tr>\n",
       "  </thead>\n",
       "  <tbody>\n",
       "    <tr>\n",
       "      <th>smart</th>\n",
       "      <td>164</td>\n",
       "      <td>2225</td>\n",
       "    </tr>\n",
       "    <tr>\n",
       "      <th>ultra</th>\n",
       "      <td>0</td>\n",
       "      <td>957</td>\n",
       "    </tr>\n",
       "  </tbody>\n",
       "</table>\n",
       "</div>"
      ],
      "text/plain": [
       "        everithing_overdraft  tariff\n",
       "tariff                              \n",
       "smart                    164    2225\n",
       "ultra                      0     957"
      ]
     },
     "execution_count": 170,
     "metadata": {},
     "output_type": "execute_result"
    }
   ],
   "source": [
    "all_data_['is_message_overdraft'] = all_data_['messages_included'] < all_data_['message_count']\n",
    "all_data_['is_gb_overdraft'] = all_data_['gb_month_included'] < all_data_['gb_used']\n",
    "all_data_['is_duration_calls_overdraft'] = all_data_['minutes_included'] < all_data_['duration_calls']\n",
    "\n",
    "all_data_['everithing_overdraft']=all_data_['is_message_overdraft']*all_data_['is_gb_overdraft']*all_data_['is_duration_calls_overdraft']\n",
    "\n",
    "\n",
    "all_data_.groupby('tariff').agg({\n",
    "    'everithing_overdraft':'sum'\n",
    "}).merge(all_data_.tariff.value_counts(), left_index=True, right_index=True)"
   ]
  },
  {
   "cell_type": "code",
   "execution_count": 171,
   "id": "140b4819",
   "metadata": {},
   "outputs": [
    {
     "data": {
      "text/html": [
       "<div>\n",
       "<style scoped>\n",
       "    .dataframe tbody tr th:only-of-type {\n",
       "        vertical-align: middle;\n",
       "    }\n",
       "\n",
       "    .dataframe tbody tr th {\n",
       "        vertical-align: top;\n",
       "    }\n",
       "\n",
       "    .dataframe thead th {\n",
       "        text-align: right;\n",
       "    }\n",
       "</style>\n",
       "<table border=\"1\" class=\"dataframe\">\n",
       "  <thead>\n",
       "    <tr style=\"text-align: right;\">\n",
       "      <th></th>\n",
       "      <th>is_duration_calls_overdraft</th>\n",
       "      <th>is_gb_overdraft</th>\n",
       "      <th>is_message_overdraft</th>\n",
       "      <th>tariff</th>\n",
       "    </tr>\n",
       "    <tr>\n",
       "      <th>tariff</th>\n",
       "      <th></th>\n",
       "      <th></th>\n",
       "      <th></th>\n",
       "      <th></th>\n",
       "    </tr>\n",
       "  </thead>\n",
       "  <tbody>\n",
       "    <tr>\n",
       "      <th>smart</th>\n",
       "      <td>754</td>\n",
       "      <td>1300</td>\n",
       "      <td>564</td>\n",
       "      <td>2225</td>\n",
       "    </tr>\n",
       "    <tr>\n",
       "      <th>ultra</th>\n",
       "      <td>0</td>\n",
       "      <td>128</td>\n",
       "      <td>0</td>\n",
       "      <td>957</td>\n",
       "    </tr>\n",
       "  </tbody>\n",
       "</table>\n",
       "</div>"
      ],
      "text/plain": [
       "        is_duration_calls_overdraft  is_gb_overdraft  is_message_overdraft  \\\n",
       "tariff                                                                       \n",
       "smart                           754             1300                   564   \n",
       "ultra                             0              128                     0   \n",
       "\n",
       "        tariff  \n",
       "tariff          \n",
       "smart     2225  \n",
       "ultra      957  "
      ]
     },
     "execution_count": 171,
     "metadata": {},
     "output_type": "execute_result"
    }
   ],
   "source": [
    "all_data_.groupby('tariff').agg({\n",
    "    'is_duration_calls_overdraft':'sum',\n",
    "    'is_gb_overdraft':'sum',\n",
    "    'is_message_overdraft':'sum',\n",
    "}).merge(all_data_.tariff.value_counts(), left_index=True, right_index=True)"
   ]
  },
  {
   "cell_type": "markdown",
   "id": "d052f751-2e58-4bb7-9b98-667aa2d3d3d7",
   "metadata": {},
   "source": [
    "- пользователи тарифа ультра выходят в овердрафт только по гб\n",
    "- у пользователей тарифа смарт перерасход по всем услугам, наибольшие по гб, наименьшее по сообщениям."
   ]
  },
  {
   "cell_type": "markdown",
   "id": "3bf2ccbc-3552-4c14-a53e-ec64d33c1229",
   "metadata": {},
   "source": [
    "Посмотрим на графике как в течении года изменяется выручка за разные тарифы. Для этого проиндексируем месяцы"
   ]
  },
  {
   "cell_type": "code",
   "execution_count": 174,
   "id": "bc36311d-1a56-489b-94a2-bfdbc6b193d1",
   "metadata": {},
   "outputs": [
    {
     "data": {
      "text/html": [
       "<div>\n",
       "<style scoped>\n",
       "    .dataframe tbody tr th:only-of-type {\n",
       "        vertical-align: middle;\n",
       "    }\n",
       "\n",
       "    .dataframe tbody tr th {\n",
       "        vertical-align: top;\n",
       "    }\n",
       "\n",
       "    .dataframe thead th {\n",
       "        text-align: right;\n",
       "    }\n",
       "</style>\n",
       "<table border=\"1\" class=\"dataframe\">\n",
       "  <thead>\n",
       "    <tr style=\"text-align: right;\">\n",
       "      <th></th>\n",
       "      <th>month</th>\n",
       "      <th>month_index</th>\n",
       "    </tr>\n",
       "  </thead>\n",
       "  <tbody>\n",
       "    <tr>\n",
       "      <th>0</th>\n",
       "      <td>2018-05</td>\n",
       "      <td>5</td>\n",
       "    </tr>\n",
       "    <tr>\n",
       "      <th>1</th>\n",
       "      <td>2018-06</td>\n",
       "      <td>6</td>\n",
       "    </tr>\n",
       "    <tr>\n",
       "      <th>2</th>\n",
       "      <td>2018-07</td>\n",
       "      <td>7</td>\n",
       "    </tr>\n",
       "    <tr>\n",
       "      <th>3</th>\n",
       "      <td>2018-08</td>\n",
       "      <td>8</td>\n",
       "    </tr>\n",
       "    <tr>\n",
       "      <th>4</th>\n",
       "      <td>2018-09</td>\n",
       "      <td>9</td>\n",
       "    </tr>\n",
       "  </tbody>\n",
       "</table>\n",
       "</div>"
      ],
      "text/plain": [
       "     month  month_index\n",
       "0  2018-05            5\n",
       "1  2018-06            6\n",
       "2  2018-07            7\n",
       "3  2018-08            8\n",
       "4  2018-09            9"
      ]
     },
     "execution_count": 174,
     "metadata": {},
     "output_type": "execute_result"
    }
   ],
   "source": [
    "all_data['month_index'] = abs(all_data.month.dt.month)\n",
    "all_data[['month', 'month_index']].head()"
   ]
  },
  {
   "cell_type": "code",
   "execution_count": 175,
   "id": "d1de890a-5a75-4a85-b0c6-c198481f9c17",
   "metadata": {},
   "outputs": [
    {
     "data": {
      "text/plain": [
       "array([ 5,  6,  7,  8,  9, 10, 11, 12,  1,  2,  3,  4])"
      ]
     },
     "execution_count": 175,
     "metadata": {},
     "output_type": "execute_result"
    }
   ],
   "source": [
    "all_data.month_index.unique()"
   ]
  },
  {
   "cell_type": "code",
   "execution_count": 176,
   "id": "7dcae424",
   "metadata": {},
   "outputs": [
    {
     "data": {
      "image/png": "[encoded data removed]",
      "text/plain": [
       "<Figure size 432x288 with 1 Axes>"
      ]
     },
     "metadata": {
      "needs_background": "light"
     },
     "output_type": "display_data"
    }
   ],
   "source": [
    "sns.lineplot(\n",
    "    data=all_data.groupby(['month_index','tariff'], as_index=False).agg({\n",
    "        'proceeds':'sum'\n",
    "    }),\n",
    "    x='month_index', \n",
    "    y='proceeds', \n",
    "    hue='tariff', \n",
    "    palette='Set1',\n",
    "    alpha=0.4\n",
    ")\n",
    "plt.show()"
   ]
  },
  {
   "cell_type": "code",
   "execution_count": 177,
   "id": "ac233869-2ff3-4d25-aa18-c347afaa73b0",
   "metadata": {},
   "outputs": [
    {
     "data": {
      "text/html": [
       "<div>\n",
       "<style scoped>\n",
       "    .dataframe tbody tr th:only-of-type {\n",
       "        vertical-align: middle;\n",
       "    }\n",
       "\n",
       "    .dataframe tbody tr th {\n",
       "        vertical-align: top;\n",
       "    }\n",
       "\n",
       "    .dataframe thead th {\n",
       "        text-align: right;\n",
       "    }\n",
       "</style>\n",
       "<table border=\"1\" class=\"dataframe\">\n",
       "  <thead>\n",
       "    <tr style=\"text-align: right;\">\n",
       "      <th></th>\n",
       "      <th>month_index</th>\n",
       "      <th>tariff</th>\n",
       "      <th>proceeds</th>\n",
       "      <th>user_id</th>\n",
       "    </tr>\n",
       "  </thead>\n",
       "  <tbody>\n",
       "    <tr>\n",
       "      <th>0</th>\n",
       "      <td>1</td>\n",
       "      <td>smart</td>\n",
       "      <td>25625.0</td>\n",
       "      <td>36</td>\n",
       "    </tr>\n",
       "    <tr>\n",
       "      <th>1</th>\n",
       "      <td>1</td>\n",
       "      <td>ultra</td>\n",
       "      <td>29250.0</td>\n",
       "      <td>15</td>\n",
       "    </tr>\n",
       "    <tr>\n",
       "      <th>2</th>\n",
       "      <td>2</td>\n",
       "      <td>smart</td>\n",
       "      <td>48001.0</td>\n",
       "      <td>58</td>\n",
       "    </tr>\n",
       "    <tr>\n",
       "      <th>3</th>\n",
       "      <td>2</td>\n",
       "      <td>ultra</td>\n",
       "      <td>47400.0</td>\n",
       "      <td>24</td>\n",
       "    </tr>\n",
       "    <tr>\n",
       "      <th>4</th>\n",
       "      <td>3</td>\n",
       "      <td>smart</td>\n",
       "      <td>89676.0</td>\n",
       "      <td>77</td>\n",
       "    </tr>\n",
       "    <tr>\n",
       "      <th>5</th>\n",
       "      <td>3</td>\n",
       "      <td>ultra</td>\n",
       "      <td>74550.0</td>\n",
       "      <td>37</td>\n",
       "    </tr>\n",
       "    <tr>\n",
       "      <th>6</th>\n",
       "      <td>4</td>\n",
       "      <td>smart</td>\n",
       "      <td>107866.0</td>\n",
       "      <td>112</td>\n",
       "    </tr>\n",
       "    <tr>\n",
       "      <th>7</th>\n",
       "      <td>4</td>\n",
       "      <td>ultra</td>\n",
       "      <td>106200.0</td>\n",
       "      <td>53</td>\n",
       "    </tr>\n",
       "    <tr>\n",
       "      <th>8</th>\n",
       "      <td>5</td>\n",
       "      <td>smart</td>\n",
       "      <td>168849.0</td>\n",
       "      <td>141</td>\n",
       "    </tr>\n",
       "    <tr>\n",
       "      <th>9</th>\n",
       "      <td>5</td>\n",
       "      <td>ultra</td>\n",
       "      <td>132150.0</td>\n",
       "      <td>64</td>\n",
       "    </tr>\n",
       "    <tr>\n",
       "      <th>10</th>\n",
       "      <td>6</td>\n",
       "      <td>smart</td>\n",
       "      <td>196909.0</td>\n",
       "      <td>163</td>\n",
       "    </tr>\n",
       "    <tr>\n",
       "      <th>11</th>\n",
       "      <td>6</td>\n",
       "      <td>ultra</td>\n",
       "      <td>165450.0</td>\n",
       "      <td>81</td>\n",
       "    </tr>\n",
       "    <tr>\n",
       "      <th>12</th>\n",
       "      <td>7</td>\n",
       "      <td>smart</td>\n",
       "      <td>246014.0</td>\n",
       "      <td>201</td>\n",
       "    </tr>\n",
       "    <tr>\n",
       "      <th>13</th>\n",
       "      <td>7</td>\n",
       "      <td>ultra</td>\n",
       "      <td>186900.0</td>\n",
       "      <td>88</td>\n",
       "    </tr>\n",
       "    <tr>\n",
       "      <th>14</th>\n",
       "      <td>8</td>\n",
       "      <td>smart</td>\n",
       "      <td>309790.0</td>\n",
       "      <td>234</td>\n",
       "    </tr>\n",
       "    <tr>\n",
       "      <th>15</th>\n",
       "      <td>8</td>\n",
       "      <td>ultra</td>\n",
       "      <td>214800.0</td>\n",
       "      <td>103</td>\n",
       "    </tr>\n",
       "    <tr>\n",
       "      <th>16</th>\n",
       "      <td>9</td>\n",
       "      <td>smart</td>\n",
       "      <td>324036.0</td>\n",
       "      <td>259</td>\n",
       "    </tr>\n",
       "    <tr>\n",
       "      <th>17</th>\n",
       "      <td>9</td>\n",
       "      <td>ultra</td>\n",
       "      <td>224550.0</td>\n",
       "      <td>111</td>\n",
       "    </tr>\n",
       "    <tr>\n",
       "      <th>18</th>\n",
       "      <td>10</td>\n",
       "      <td>smart</td>\n",
       "      <td>399717.0</td>\n",
       "      <td>293</td>\n",
       "    </tr>\n",
       "    <tr>\n",
       "      <th>19</th>\n",
       "      <td>10</td>\n",
       "      <td>ultra</td>\n",
       "      <td>244200.0</td>\n",
       "      <td>118</td>\n",
       "    </tr>\n",
       "    <tr>\n",
       "      <th>20</th>\n",
       "      <td>11</td>\n",
       "      <td>smart</td>\n",
       "      <td>423253.0</td>\n",
       "      <td>315</td>\n",
       "    </tr>\n",
       "    <tr>\n",
       "      <th>21</th>\n",
       "      <td>11</td>\n",
       "      <td>ultra</td>\n",
       "      <td>269850.0</td>\n",
       "      <td>129</td>\n",
       "    </tr>\n",
       "    <tr>\n",
       "      <th>22</th>\n",
       "      <td>12</td>\n",
       "      <td>smart</td>\n",
       "      <td>531015.0</td>\n",
       "      <td>336</td>\n",
       "    </tr>\n",
       "    <tr>\n",
       "      <th>23</th>\n",
       "      <td>12</td>\n",
       "      <td>ultra</td>\n",
       "      <td>285900.0</td>\n",
       "      <td>134</td>\n",
       "    </tr>\n",
       "  </tbody>\n",
       "</table>\n",
       "</div>"
      ],
      "text/plain": [
       "    month_index tariff  proceeds  user_id\n",
       "0             1  smart   25625.0       36\n",
       "1             1  ultra   29250.0       15\n",
       "2             2  smart   48001.0       58\n",
       "3             2  ultra   47400.0       24\n",
       "4             3  smart   89676.0       77\n",
       "5             3  ultra   74550.0       37\n",
       "6             4  smart  107866.0      112\n",
       "7             4  ultra  106200.0       53\n",
       "8             5  smart  168849.0      141\n",
       "9             5  ultra  132150.0       64\n",
       "10            6  smart  196909.0      163\n",
       "11            6  ultra  165450.0       81\n",
       "12            7  smart  246014.0      201\n",
       "13            7  ultra  186900.0       88\n",
       "14            8  smart  309790.0      234\n",
       "15            8  ultra  214800.0      103\n",
       "16            9  smart  324036.0      259\n",
       "17            9  ultra  224550.0      111\n",
       "18           10  smart  399717.0      293\n",
       "19           10  ultra  244200.0      118\n",
       "20           11  smart  423253.0      315\n",
       "21           11  ultra  269850.0      129\n",
       "22           12  smart  531015.0      336\n",
       "23           12  ultra  285900.0      134"
      ]
     },
     "execution_count": 177,
     "metadata": {},
     "output_type": "execute_result"
    }
   ],
   "source": [
    "all_data.groupby(['month_index','tariff'], as_index=False).agg({'proceeds':'sum', 'user_id': 'count'})"
   ]
  },
  {
   "cell_type": "markdown",
   "id": "a6bcb963-872d-42ba-ac78-54ee843c92a6",
   "metadata": {},
   "source": [
    "По графику видно, что тариф смарт по сумме выручки привышает тариф ультра, возможно результаты могли бы отличатся, если бы у нас было одинаковое количество пользователей на двух тарифах"
   ]
  },
  {
   "cell_type": "markdown",
   "id": "ed3e5d3c-9121-43a5-b6aa-2ceaf1294ed2",
   "metadata": {},
   "source": [
    "##### Кажется тариф смарт был создан для того чтобы люди за него переплачивали. Тем не менее, пользователи тарифа смарт все равно тратят по-большей части меньше, чем если бы они брали тариф ультра, возможно именно поэтому, они предпочитают оставаться на тарифе смарт, несмотря на недостаток объема опций. "
   ]
  },
  {
   "cell_type": "markdown",
   "id": "5b021bac-3ef8-405d-a6d6-89be2a2e5a62",
   "metadata": {},
   "source": [
    "[к началу](#description)"
   ]
  },
  {
   "cell_type": "markdown",
   "id": "863949e1-06b5-4361-952a-ac5e7b77fa55",
   "metadata": {},
   "source": [
    "#### Проверьте гипотезы <a id=\"step_4\"></a>\n",
    "\n",
    "1. средняя выручка пользователей тарифов «Ультра» и «Смарт» различаются;\n",
    "2. средняя выручка пользователей из Москвы отличается от выручки пользователей из других регионов. Пороговое значение alpha задайте самостоятельно.\n",
    "3. Поясните:\n",
    "- как вы формулировали нулевую и альтернативную гипотезы;\n",
    "- какой критерий? использовали для проверки гипотез и почему."
   ]
  },
  {
   "cell_type": "markdown",
   "id": "f77c3b2b-cc29-4eb6-bf5a-9948f992284a",
   "metadata": {},
   "source": [
    "Чтобы применить метод для проверки двусторонней гипотезы, сформулируем гипотезу как:\n",
    "#### средняя выручка пользователей тарифов «Ультра» и «Смарт» в генеральной совокупности равны;"
   ]
  },
  {
   "cell_type": "code",
   "execution_count": 185,
   "id": "91db099c",
   "metadata": {},
   "outputs": [
    {
     "name": "stdout",
     "output_type": "stream",
     "text": [
      "cреднее по выручке тарифа смарт:  8178.777777777777\n",
      "cреднее по выручке тарифа ультра: 13296.644295302014\n"
     ]
    }
   ],
   "source": [
    "print('cреднее по выручке тарифа смарт: ', smart_users_groupby_users.proceeds.mean())\n",
    "print('cреднее по выручке тарифа ультра:', ultra_users_groupby_users.proceeds.mean())"
   ]
  },
  {
   "cell_type": "markdown",
   "id": "9f54d1a9",
   "metadata": {},
   "source": [
    "В данном случае в наличии обе выборки и правильно использовать ttest_ind:"
   ]
  },
  {
   "cell_type": "code",
   "execution_count": 179,
   "id": "dcd6e300",
   "metadata": {},
   "outputs": [
    {
     "data": {
      "text/plain": [
       "Ttest_indResult(statistic=-36.72498605181482, pvalue=2.796424815525196e-246)"
      ]
     },
     "execution_count": 179,
     "metadata": {},
     "output_type": "execute_result"
    }
   ],
   "source": [
    "results = stats.ttest_ind(\n",
    "    smart_users.proceeds, \n",
    "    ultra_users.proceeds,\n",
    "    equal_var = False\n",
    ")\n",
    "results"
   ]
  },
  {
   "cell_type": "markdown",
   "id": "0e92038e",
   "metadata": {},
   "source": [
    "```equal_var = False``` – параметр, отвечающий за равенство дисперсий в двух выборках. Чаще всего он будет False, но в идеале чтобы проверить их равенство существуют определенные критерии, например, критерий Фишера:"
   ]
  },
  {
   "cell_type": "code",
   "execution_count": 180,
   "id": "5de65f3a",
   "metadata": {},
   "outputs": [
    {
     "data": {
      "text/plain": [
       "(4.689121640447828, 670545.6387373381, 143000.26532758033)"
      ]
     },
     "execution_count": 180,
     "metadata": {},
     "output_type": "execute_result"
    }
   ],
   "source": [
    "# Считаем отношение большей дисперсии к меньшей\n",
    "\n",
    "var_1 = np.var(smart_users.proceeds)\n",
    "var_2 = np.var(ultra_users.proceeds)\n",
    "\n",
    "F = var_2/var_1 if var_2>=var_1 else var_1/var_2\n",
    "F, var_1, var_2"
   ]
  },
  {
   "cell_type": "code",
   "execution_count": 181,
   "id": "27dfbd99",
   "metadata": {},
   "outputs": [
    {
     "data": {
      "text/plain": [
       "(2224, 956)"
      ]
     },
     "execution_count": 181,
     "metadata": {},
     "output_type": "execute_result"
    }
   ],
   "source": [
    "#степени свободы\n",
    "lf1 = len(ultra_users.proceeds if var_2>=var_1 else smart_users.proceeds) - 1\n",
    "lf2 = len(smart_users.proceeds if var_2>=var_1 else ultra_users.proceeds) - 1\n",
    "\n",
    "lf1, lf2"
   ]
  },
  {
   "cell_type": "code",
   "execution_count": 182,
   "id": "f05bf567",
   "metadata": {},
   "outputs": [
    {
     "data": {
      "text/plain": [
       "7.807046368021835e-137"
      ]
     },
     "execution_count": 182,
     "metadata": {},
     "output_type": "execute_result"
    }
   ],
   "source": [
    "# критерий фишера\n",
    "p_value = stats.f.sf(F, lf1, lf2)\n",
    "p_value"
   ]
  },
  {
   "cell_type": "code",
   "execution_count": 183,
   "id": "86d599f2",
   "metadata": {},
   "outputs": [
    {
     "name": "stdout",
     "output_type": "stream",
     "text": [
      "Дисперсии не равны\n"
     ]
    }
   ],
   "source": [
    "if p_value < .05:\n",
    "    print('Дисперсии не равны')"
   ]
  },
  {
   "cell_type": "markdown",
   "id": "ba310cce",
   "metadata": {},
   "source": [
    "Также в задании указано: \n",
    "> средняя выручка пользователей тарифов «Ультра» и «Смарт» различаются\n"
   ]
  },
  {
   "cell_type": "code",
   "execution_count": 184,
   "id": "442a3e4c",
   "metadata": {},
   "outputs": [],
   "source": [
    "smart_users_groupby_users = smart_users.groupby('user_id', as_index=False).agg({\n",
    "    'proceeds':'sum'\n",
    "})\n",
    "\n",
    "ultra_users_groupby_users = ultra_users.groupby('user_id', as_index=False).agg({\n",
    "    'proceeds':'sum'\n",
    "})"
   ]
  },
  {
   "cell_type": "code",
   "execution_count": 186,
   "id": "e5b365e6",
   "metadata": {},
   "outputs": [
    {
     "name": "stdout",
     "output_type": "stream",
     "text": [
      "Кол-во юзеров смарт:  351\n",
      "Кол-во юзеров ультра: 149\n"
     ]
    }
   ],
   "source": [
    "print('Кол-во юзеров смарт: ', smart_users_groupby_users.user_id.count())\n",
    "print('Кол-во юзеров ультра:', ultra_users_groupby_users.user_id.count())"
   ]
  },
  {
   "cell_type": "code",
   "execution_count": 187,
   "id": "1620e0c1",
   "metadata": {},
   "outputs": [
    {
     "data": {
      "text/plain": [
       "Ttest_indResult(statistic=-7.798927503192609, pvalue=2.3908110422749757e-13)"
      ]
     },
     "execution_count": 187,
     "metadata": {},
     "output_type": "execute_result"
    }
   ],
   "source": [
    "results = stats.ttest_ind(\n",
    "    smart_users_groupby_users.proceeds, \n",
    "    ultra_users_groupby_users.proceeds,\n",
    "    equal_var = False\n",
    ")\n",
    "results"
   ]
  },
  {
   "cell_type": "code",
   "execution_count": 188,
   "id": "43639540",
   "metadata": {},
   "outputs": [
    {
     "name": "stdout",
     "output_type": "stream",
     "text": [
      "Отвергаем нулевую гипотезу\n"
     ]
    }
   ],
   "source": [
    "if results.pvalue < .05:\n",
    "    print('Отвергаем нулевую гипотезу')\n",
    "else:\n",
    "    print('Не получилось отвергнуть нулевую гипотезу')"
   ]
  },
  {
   "cell_type": "markdown",
   "id": "bed7fa22-97f6-424d-b8ed-c8549dc43299",
   "metadata": {},
   "source": [
    "##### тест показал, что гипотезу о равенстве средней выручке пользователей тарифов «Ультра» и «Смарт» нужно отвергнуть, таким образом можно сделать вывод, что средняя выручка пользователей тарифов «Ультра» и «Смарт» может отличаться;\n",
    "\n",
    "---"
   ]
  },
  {
   "cell_type": "markdown",
   "id": "757c1a21-ecd5-43e7-8b4a-655dd72b69db",
   "metadata": {},
   "source": [
    "#### средняя выручка пользователей из Москвы отличается от выручки пользователей из других регионов"
   ]
  },
  {
   "cell_type": "markdown",
   "id": "1fe9901d-c3fe-4f14-88de-daa2cbcabba7",
   "metadata": {},
   "source": [
    "Поступим так же как в примере выше, потому что вопрос сформулирован так же. Перед этим создадим переменные чтобы отделить мск от остальных регионов и затем посчитаем все так же как и выше"
   ]
  },
  {
   "cell_type": "code",
   "execution_count": 189,
   "id": "0935135f-61e4-407a-829a-2d82362475c0",
   "metadata": {},
   "outputs": [
    {
     "data": {
      "text/html": [
       "<div>\n",
       "<style scoped>\n",
       "    .dataframe tbody tr th:only-of-type {\n",
       "        vertical-align: middle;\n",
       "    }\n",
       "\n",
       "    .dataframe tbody tr th {\n",
       "        vertical-align: top;\n",
       "    }\n",
       "\n",
       "    .dataframe thead th {\n",
       "        text-align: right;\n",
       "    }\n",
       "</style>\n",
       "<table border=\"1\" class=\"dataframe\">\n",
       "  <thead>\n",
       "    <tr style=\"text-align: right;\">\n",
       "      <th></th>\n",
       "      <th>user_id</th>\n",
       "      <th>tariff</th>\n",
       "      <th>age</th>\n",
       "      <th>city</th>\n",
       "      <th>churn_date</th>\n",
       "      <th>month</th>\n",
       "      <th>duration_calls</th>\n",
       "      <th>count_calls</th>\n",
       "      <th>gb_used</th>\n",
       "      <th>message_count</th>\n",
       "      <th>proceeds</th>\n",
       "      <th>age_category</th>\n",
       "      <th>overdraft</th>\n",
       "      <th>month_index</th>\n",
       "    </tr>\n",
       "  </thead>\n",
       "  <tbody>\n",
       "    <tr>\n",
       "      <th>8</th>\n",
       "      <td>1001</td>\n",
       "      <td>smart</td>\n",
       "      <td>41</td>\n",
       "      <td>москва</td>\n",
       "      <td>NaT</td>\n",
       "      <td>2018-11</td>\n",
       "      <td>430.0</td>\n",
       "      <td>59.0</td>\n",
       "      <td>18.0</td>\n",
       "      <td>NaN</td>\n",
       "      <td>1150.0</td>\n",
       "      <td>adult</td>\n",
       "      <td>True</td>\n",
       "      <td>11</td>\n",
       "    </tr>\n",
       "    <tr>\n",
       "      <th>9</th>\n",
       "      <td>1001</td>\n",
       "      <td>smart</td>\n",
       "      <td>41</td>\n",
       "      <td>москва</td>\n",
       "      <td>NaT</td>\n",
       "      <td>2018-12</td>\n",
       "      <td>414.0</td>\n",
       "      <td>63.0</td>\n",
       "      <td>14.0</td>\n",
       "      <td>NaN</td>\n",
       "      <td>550.0</td>\n",
       "      <td>adult</td>\n",
       "      <td>False</td>\n",
       "      <td>12</td>\n",
       "    </tr>\n",
       "    <tr>\n",
       "      <th>17</th>\n",
       "      <td>1003</td>\n",
       "      <td>ultra</td>\n",
       "      <td>23</td>\n",
       "      <td>москва</td>\n",
       "      <td>NaT</td>\n",
       "      <td>2018-08</td>\n",
       "      <td>380.0</td>\n",
       "      <td>55.0</td>\n",
       "      <td>9.0</td>\n",
       "      <td>37.0</td>\n",
       "      <td>1950.0</td>\n",
       "      <td>young</td>\n",
       "      <td>False</td>\n",
       "      <td>8</td>\n",
       "    </tr>\n",
       "    <tr>\n",
       "      <th>18</th>\n",
       "      <td>1003</td>\n",
       "      <td>ultra</td>\n",
       "      <td>23</td>\n",
       "      <td>москва</td>\n",
       "      <td>NaT</td>\n",
       "      <td>2018-09</td>\n",
       "      <td>961.0</td>\n",
       "      <td>134.0</td>\n",
       "      <td>13.0</td>\n",
       "      <td>91.0</td>\n",
       "      <td>1950.0</td>\n",
       "      <td>young</td>\n",
       "      <td>False</td>\n",
       "      <td>9</td>\n",
       "    </tr>\n",
       "    <tr>\n",
       "      <th>19</th>\n",
       "      <td>1003</td>\n",
       "      <td>ultra</td>\n",
       "      <td>23</td>\n",
       "      <td>москва</td>\n",
       "      <td>NaT</td>\n",
       "      <td>2018-10</td>\n",
       "      <td>855.0</td>\n",
       "      <td>108.0</td>\n",
       "      <td>15.0</td>\n",
       "      <td>83.0</td>\n",
       "      <td>1950.0</td>\n",
       "      <td>young</td>\n",
       "      <td>False</td>\n",
       "      <td>10</td>\n",
       "    </tr>\n",
       "  </tbody>\n",
       "</table>\n",
       "</div>"
      ],
      "text/plain": [
       "    user_id tariff  age    city churn_date    month  duration_calls  \\\n",
       "8      1001  smart   41  москва        NaT  2018-11           430.0   \n",
       "9      1001  smart   41  москва        NaT  2018-12           414.0   \n",
       "17     1003  ultra   23  москва        NaT  2018-08           380.0   \n",
       "18     1003  ultra   23  москва        NaT  2018-09           961.0   \n",
       "19     1003  ultra   23  москва        NaT  2018-10           855.0   \n",
       "\n",
       "    count_calls  gb_used  message_count  proceeds age_category  overdraft  \\\n",
       "8          59.0     18.0            NaN    1150.0        adult       True   \n",
       "9          63.0     14.0            NaN     550.0        adult      False   \n",
       "17         55.0      9.0           37.0    1950.0        young      False   \n",
       "18        134.0     13.0           91.0    1950.0        young      False   \n",
       "19        108.0     15.0           83.0    1950.0        young      False   \n",
       "\n",
       "    month_index  \n",
       "8            11  \n",
       "9            12  \n",
       "17            8  \n",
       "18            9  \n",
       "19           10  "
      ]
     },
     "execution_count": 189,
     "metadata": {},
     "output_type": "execute_result"
    }
   ],
   "source": [
    "msk_users = all_data.query('city == \"москва\"')\n",
    "msk_users.head()"
   ]
  },
  {
   "cell_type": "code",
   "execution_count": 190,
   "id": "b070154c-2b5e-41ac-a678-a4c414726d4a",
   "metadata": {},
   "outputs": [
    {
     "data": {
      "text/plain": [
       "array(['краснодар', 'стерлитамак', 'новокузнецк', 'набережные челны',\n",
       "       'ульяновск', 'челябинск', 'пермь', 'тюмень', 'самара',\n",
       "       'санкт-петербург', 'иваново', 'чебоксары', 'омск', 'уфа', 'томск',\n",
       "       'чита', 'мурманск', 'петрозаводск', 'тверь', 'екатеринбург',\n",
       "       'махачкала', 'вологда', 'череповец', 'ярославль', 'сочи',\n",
       "       'хабаровск', 'ставрополь', 'рязань', 'улан-удэ', 'тула', 'саратов',\n",
       "       'ростов-на-дону', 'казань', 'иркутск', 'курск', 'калуга', 'якутск',\n",
       "       'астрахань', 'химки', 'владикавказ', 'волгоград', 'саранск',\n",
       "       'ижевск', 'новосибирск', 'брянск', 'тольятти', 'нижний тагил',\n",
       "       'орёл', 'белгород', 'воронеж', 'волжский', 'курган', 'барнаул',\n",
       "       'красноярск', 'архангельск', 'липецк', 'кемерово', 'киров',\n",
       "       'сургут', 'пенза', 'магнитогорск', 'нижний новгород', 'кострома',\n",
       "       'владивосток', 'тамбов', 'балашиха', 'севастополь', 'калининград',\n",
       "       'оренбург', 'смоленск', 'нижневартовск', 'владимир',\n",
       "       'новороссийск', 'грозный', 'подольск'], dtype=object)"
      ]
     },
     "execution_count": 190,
     "metadata": {},
     "output_type": "execute_result"
    }
   ],
   "source": [
    "other_city_users = all_data.query('(city != \"москва\")')\n",
    "other_city_users.city.unique()"
   ]
  },
  {
   "cell_type": "code",
   "execution_count": 191,
   "id": "8f20ea94-e3a9-4a2d-b91a-d2a0717899e0",
   "metadata": {},
   "outputs": [
    {
     "data": {
      "text/plain": [
       "(   user_id  proceeds\n",
       " 0     1001    1700.0\n",
       " 1     1003    9750.0\n",
       " 2     1007    8221.0\n",
       " 3     1031    1781.0\n",
       " 4     1033   11484.0,\n",
       "    user_id  proceeds\n",
       " 0     1000   15600.0\n",
       " 1     1002    7250.0\n",
       " 2     1004   15600.0\n",
       " 3     1005    9924.0\n",
       " 4     1006   10250.0)"
      ]
     },
     "execution_count": 191,
     "metadata": {},
     "output_type": "execute_result"
    }
   ],
   "source": [
    "msk_sum = msk_users.groupby('user_id').proceeds.sum().reset_index()\n",
    "other_city_sum = other_city_users.groupby('user_id').proceeds.sum().reset_index()\n",
    "msk_sum.head(), other_city_sum.head()"
   ]
  },
  {
   "cell_type": "code",
   "execution_count": 192,
   "id": "4a296ae2-e62f-44ba-af83-20a6096c983f",
   "metadata": {},
   "outputs": [
    {
     "data": {
      "text/plain": [
       "99"
      ]
     },
     "execution_count": 192,
     "metadata": {},
     "output_type": "execute_result"
    }
   ],
   "source": [
    "len(msk_sum)"
   ]
  },
  {
   "cell_type": "code",
   "execution_count": 193,
   "id": "fd04fd23-e62a-423e-9919-c24ebf9ab6e7",
   "metadata": {},
   "outputs": [
    {
     "data": {
      "text/plain": [
       "401"
      ]
     },
     "execution_count": 193,
     "metadata": {},
     "output_type": "execute_result"
    }
   ],
   "source": [
    "len(other_city_sum)"
   ]
  },
  {
   "cell_type": "code",
   "execution_count": 194,
   "id": "473d9628-1981-4705-8e0e-c7779eeffeac",
   "metadata": {},
   "outputs": [
    {
     "data": {
      "text/plain": [
       "(43259431.07805327, 40874676.920815125)"
      ]
     },
     "execution_count": 194,
     "metadata": {},
     "output_type": "execute_result"
    }
   ],
   "source": [
    "d_1 = np.var(msk_sum.proceeds)\n",
    "d_2 = np.var(other_city_sum.proceeds)\n",
    "d_1, d_2"
   ]
  },
  {
   "cell_type": "markdown",
   "id": "94a42d1f-6e72-477c-b81d-14cc2df368a3",
   "metadata": {},
   "source": [
    "Так как мы смотрим дисперсию суммы выручки без фильтрации по тарифам, то значение дисперсий адекватные"
   ]
  },
  {
   "cell_type": "code",
   "execution_count": 196,
   "id": "aef1b6d9-f498-493b-82ef-c7cb33e01308",
   "metadata": {},
   "outputs": [
    {
     "data": {
      "text/plain": [
       "(1.058343070499567, 43259431.07805327, 40874676.920815125)"
      ]
     },
     "execution_count": 196,
     "metadata": {},
     "output_type": "execute_result"
    }
   ],
   "source": [
    "var_ratio = d_2/d_1 if d_2 >= d_1 else d_1/d_2\n",
    "var_ratio, d_1, d_2"
   ]
  },
  {
   "cell_type": "code",
   "execution_count": 200,
   "id": "96606a30-eca7-48cb-8bb4-251a6d997cc6",
   "metadata": {},
   "outputs": [],
   "source": [
    "df_1 = len(msk_sum) -1\n",
    "df_2 = len(other_city_sum) - 1"
   ]
  },
  {
   "cell_type": "code",
   "execution_count": 199,
   "id": "65a83efd-c5a1-46e3-8f48-2d57ade2f321",
   "metadata": {},
   "outputs": [
    {
     "name": "stdout",
     "output_type": "stream",
     "text": [
      "Дисперсии возможно равны\n"
     ]
    }
   ],
   "source": [
    "if stats.f.sf(var_ratio, df_1, df_2) < .05:\n",
    "    print('Дисперсии не равны')\n",
    "else:\n",
    "    print('Дисперсии возможно равны')"
   ]
  },
  {
   "cell_type": "markdown",
   "id": "653afe44-9586-4356-ba54-343c05268045",
   "metadata": {},
   "source": [
    "Сформулируем нулевую гипотезу как:\n",
    "##### средняя выручка пользователей из Москвы равна выручке пользователей из других регионов"
   ]
  },
  {
   "cell_type": "code",
   "execution_count": 141,
   "id": "29c1ed31-3822-41b5-ba34-0ac21234fa54",
   "metadata": {},
   "outputs": [
    {
     "name": "stdout",
     "output_type": "stream",
     "text": [
      "средняя сумма выручки пользователей в Москве 9526.181818181818\n",
      "средняя сумма выручки пользователей из всех городов, кроме Москвы 9747.778054862843\n"
     ]
    }
   ],
   "source": [
    "print(f'средняя сумма выручки пользователей в Москве', msk_sum.proceeds.mean())\n",
    "print(f'средняя сумма выручки пользователей из всех городов, кроме Москвы',other_city_sum.proceeds.mean())"
   ]
  },
  {
   "cell_type": "code",
   "execution_count": 139,
   "id": "a1bab500-641f-4d46-8392-b6ef831d73b8",
   "metadata": {},
   "outputs": [
    {
     "name": "stdout",
     "output_type": "stream",
     "text": [
      "p-значение: 0.7593815620604857\n",
      "Не получилось отвергнуть нулевую гипотезу\n"
     ]
    }
   ],
   "source": [
    "alpha = .05\n",
    "results = stats.ttest_ind(msk_sum.proceeds, other_city_sum.proceeds)\n",
    "\n",
    "print('p-значение:', results.pvalue)\n",
    "\n",
    "if results.pvalue < alpha:\n",
    "    print('Отвергаем нулевую гипотезу')\n",
    "else:\n",
    "    print('Не получилось отвергнуть нулевую гипотезу') "
   ]
  },
  {
   "cell_type": "markdown",
   "id": "8e37e4c1-fb46-4ff8-a290-236c1cf4fbab",
   "metadata": {},
   "source": [
    "##### тест показал, что нельзя опровергать гипотезу о том, что средняя выручка в разных городах равна средней выручке в других городах\n"
   ]
  },
  {
   "cell_type": "markdown",
   "id": "9874915a-38e1-490c-abd6-eee396cf6c2f",
   "metadata": {},
   "source": [
    "---\n",
    "[к началу](#description)"
   ]
  },
  {
   "cell_type": "markdown",
   "id": "f415b30a-a167-42b0-8355-821c3d338bf7",
   "metadata": {},
   "source": [
    "### Выводы<a id=\"step_5\"> </a>"
   ]
  },
  {
   "cell_type": "markdown",
   "id": "cc035083-38e8-464e-a823-2a965f33e1ee",
   "metadata": {},
   "source": [
    "Сделаем таблицу со средним значением длительности звонков, потраченных гб, количества сообщений, выручки и пакетом тарифов"
   ]
  },
  {
   "cell_type": "code",
   "execution_count": 233,
   "id": "87404a99",
   "metadata": {},
   "outputs": [
    {
     "data": {
      "text/html": [
       "<div>\n",
       "<style scoped>\n",
       "    .dataframe tbody tr th:only-of-type {\n",
       "        vertical-align: middle;\n",
       "    }\n",
       "\n",
       "    .dataframe tbody tr th {\n",
       "        vertical-align: top;\n",
       "    }\n",
       "\n",
       "    .dataframe thead th {\n",
       "        text-align: right;\n",
       "    }\n",
       "</style>\n",
       "<table border=\"1\" class=\"dataframe\">\n",
       "  <thead>\n",
       "    <tr style=\"text-align: right;\">\n",
       "      <th></th>\n",
       "      <th>tariff</th>\n",
       "      <th>duration_calls</th>\n",
       "      <th>gb_used</th>\n",
       "      <th>message_count</th>\n",
       "      <th>proceeds</th>\n",
       "    </tr>\n",
       "  </thead>\n",
       "  <tbody>\n",
       "    <tr>\n",
       "      <th>0</th>\n",
       "      <td>smart</td>\n",
       "      <td>419.062978</td>\n",
       "      <td>16.703870</td>\n",
       "      <td>38.747390</td>\n",
       "      <td>1346.135281</td>\n",
       "    </tr>\n",
       "    <tr>\n",
       "      <th>1</th>\n",
       "      <td>ultra</td>\n",
       "      <td>545.451104</td>\n",
       "      <td>20.171095</td>\n",
       "      <td>61.195538</td>\n",
       "      <td>2089.028213</td>\n",
       "    </tr>\n",
       "  </tbody>\n",
       "</table>\n",
       "</div>"
      ],
      "text/plain": [
       "  tariff  duration_calls    gb_used  message_count     proceeds\n",
       "0  smart      419.062978  16.703870      38.747390  1346.135281\n",
       "1  ultra      545.451104  20.171095      61.195538  2089.028213"
      ]
     },
     "execution_count": 233,
     "metadata": {},
     "output_type": "execute_result"
    }
   ],
   "source": [
    "all_data.groupby('tariff', as_index=False).agg({\n",
    "    'duration_calls':'mean',\n",
    "    'gb_used':'mean',\n",
    "    'message_count':'mean',\n",
    "    'proceeds':'mean'\n",
    "})"
   ]
  },
  {
   "cell_type": "code",
   "execution_count": 230,
   "id": "9703138c-0fd1-4711-a1ca-4c235ec710a3",
   "metadata": {},
   "outputs": [],
   "source": [
    "end = round(all_data.pivot_table(index='tariff', values=['gb_used', 'duration_calls', 'message_count', 'proceeds'], aggfunc='mean'), 1).reset_index()\n",
    "base_tariff = tariffs[['tariff_name', 'gb_month_included', 'minutes_included', 'messages_included', 'rub_monthly_fee']].copy()"
   ]
  },
  {
   "cell_type": "code",
   "execution_count": 238,
   "id": "1f6fdc2e-e75f-405f-80cd-ce4bcf5ac47b",
   "metadata": {},
   "outputs": [
    {
     "data": {
      "text/html": [
       "<div>\n",
       "<style scoped>\n",
       "    .dataframe tbody tr th:only-of-type {\n",
       "        vertical-align: middle;\n",
       "    }\n",
       "\n",
       "    .dataframe tbody tr th {\n",
       "        vertical-align: top;\n",
       "    }\n",
       "\n",
       "    .dataframe thead th {\n",
       "        text-align: right;\n",
       "    }\n",
       "</style>\n",
       "<table border=\"1\" class=\"dataframe\">\n",
       "  <thead>\n",
       "    <tr style=\"text-align: right;\">\n",
       "      <th></th>\n",
       "      <th>tariff</th>\n",
       "      <th>minutes_included</th>\n",
       "      <th>duration_calls</th>\n",
       "      <th>gb_month_included</th>\n",
       "      <th>gb_used</th>\n",
       "      <th>messages_included</th>\n",
       "      <th>message_count</th>\n",
       "      <th>rub_monthly_fee</th>\n",
       "      <th>proceeds</th>\n",
       "    </tr>\n",
       "  </thead>\n",
       "  <tbody>\n",
       "    <tr>\n",
       "      <th>0</th>\n",
       "      <td>smart</td>\n",
       "      <td>500</td>\n",
       "      <td>419.1</td>\n",
       "      <td>15</td>\n",
       "      <td>16.7</td>\n",
       "      <td>50</td>\n",
       "      <td>38.7</td>\n",
       "      <td>550</td>\n",
       "      <td>1346.1</td>\n",
       "    </tr>\n",
       "    <tr>\n",
       "      <th>1</th>\n",
       "      <td>ultra</td>\n",
       "      <td>3000</td>\n",
       "      <td>545.5</td>\n",
       "      <td>30</td>\n",
       "      <td>20.2</td>\n",
       "      <td>1000</td>\n",
       "      <td>61.2</td>\n",
       "      <td>1950</td>\n",
       "      <td>2089.0</td>\n",
       "    </tr>\n",
       "  </tbody>\n",
       "</table>\n",
       "</div>"
      ],
      "text/plain": [
       "  tariff  minutes_included  duration_calls  gb_month_included  gb_used  \\\n",
       "0  smart               500           419.1                 15     16.7   \n",
       "1  ultra              3000           545.5                 30     20.2   \n",
       "\n",
       "   messages_included  message_count  rub_monthly_fee  proceeds  \n",
       "0                 50           38.7              550    1346.1  \n",
       "1               1000           61.2             1950    2089.0  "
      ]
     },
     "execution_count": 238,
     "metadata": {},
     "output_type": "execute_result"
    }
   ],
   "source": [
    "res = end.merge(base_tariff.rename(columns={'tariff_name': 'tariff'}), on='tariff')\n",
    "res[['tariff', 'minutes_included', 'duration_calls', 'gb_month_included', 'gb_used', 'messages_included', 'message_count', 'rub_monthly_fee', 'proceeds']]"
   ]
  },
  {
   "cell_type": "markdown",
   "id": "82bc9eed-05d9-4077-ab43-d7b287ea8966",
   "metadata": {},
   "source": [
    "#### Клиентам тарифа смарт часто не достает функций бесплатного пакета, в то время как для тарифа ультра услуг в избытке и пользователи редко успевают ими воспользоваться до конца месяца. Оптимальным было сменить условия тарифов, либо придумать еще один, по расчитанном раннее оптимальным значениям для каждой услуги тарифа, чтобы тарифы отвечали большей части потребности пользователей"
   ]
  },
  {
   "cell_type": "code",
   "execution_count": 149,
   "id": "3b3ed27e-c717-4a0e-a879-460acf8c477c",
   "metadata": {},
   "outputs": [
    {
     "data": {
      "text/html": [
       "<div>\n",
       "<style scoped>\n",
       "    .dataframe tbody tr th:only-of-type {\n",
       "        vertical-align: middle;\n",
       "    }\n",
       "\n",
       "    .dataframe tbody tr th {\n",
       "        vertical-align: top;\n",
       "    }\n",
       "\n",
       "    .dataframe thead th {\n",
       "        text-align: right;\n",
       "    }\n",
       "</style>\n",
       "<table border=\"1\" class=\"dataframe\">\n",
       "  <thead>\n",
       "    <tr style=\"text-align: right;\">\n",
       "      <th></th>\n",
       "      <th>tariff_optima</th>\n",
       "      <th>calls</th>\n",
       "      <th>gd_cout</th>\n",
       "      <th>message_count</th>\n",
       "    </tr>\n",
       "  </thead>\n",
       "  <tbody>\n",
       "    <tr>\n",
       "      <th>0</th>\n",
       "      <td>smart_optima</td>\n",
       "      <td>576.0</td>\n",
       "      <td>21.0</td>\n",
       "      <td>57.0</td>\n",
       "    </tr>\n",
       "    <tr>\n",
       "      <th>1</th>\n",
       "      <td>ultra_optima</td>\n",
       "      <td>812.6</td>\n",
       "      <td>28.0</td>\n",
       "      <td>87.8</td>\n",
       "    </tr>\n",
       "  </tbody>\n",
       "</table>\n",
       "</div>"
      ],
      "text/plain": [
       "  tariff_optima  calls  gd_cout  message_count\n",
       "0  smart_optima  576.0     21.0           57.0\n",
       "1  ultra_optima  812.6     28.0           87.8"
      ]
     },
     "execution_count": 149,
     "metadata": {},
     "output_type": "execute_result"
    }
   ],
   "source": [
    "d = {'tariff_optima': ['smart_optima', 'ultra_optima'], \n",
    "     'calls': np.array([np.percentile(smart_users.duration_calls.fillna(0), 80), np.percentile(ultra_users.duration_calls.fillna(0), 80)]),\n",
    "     'gd_cout': np.array([np.percentile(smart_users.gb_used.fillna(0), 80), np.percentile(ultra_users.gb_used.fillna(0), 80)]),\n",
    "     'message_count': np.array([np.percentile(smart_users.message_count.fillna(0), 80), np.percentile(ultra_users.message_count.fillna(0), 80)]),}\n",
    "\n",
    "pd.DataFrame(d)"
   ]
  }
 ],
 "metadata": {
  "kernelspec": {
   "display_name": "Python 3 (ipykernel)",
   "language": "python",
   "name": "python3"
  },
  "language_info": {
   "codemirror_mode": {
    "name": "ipython",
    "version": 3
   },
   "file_extension": ".py",
   "mimetype": "text/x-python",
   "name": "python",
   "nbconvert_exporter": "python",
   "pygments_lexer": "ipython3",
   "version": "3.11.7"
  }
 },
 "nbformat": 4,
 "nbformat_minor": 5
}
